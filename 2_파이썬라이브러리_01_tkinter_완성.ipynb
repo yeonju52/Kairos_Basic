{
 "cells": [
  {
   "attachments": {},
   "cell_type": "markdown",
   "metadata": {},
   "source": [
    "# tkinter 라이브러리\n",
    "- 기본제공 표준 라이브러리\n",
    "- Tcl/Tk 파이썬 인터페이스 라이브러리 (Tool Command Language/toolkit 윈도우 프로그래밍)\n",
    "- https://docs.python.org/ko/3/library/tk.html "
   ]
  },
  {
   "cell_type": "markdown",
   "metadata": {},
   "source": [
    "### Tk 인터페이스 확인"
   ]
  },
  {
   "cell_type": "code",
   "execution_count": null,
   "metadata": {},
   "outputs": [],
   "source": [
    "!python -m tkinter"
   ]
  },
  {
   "cell_type": "code",
   "execution_count": null,
   "metadata": {},
   "outputs": [],
   "source": [
    "#윈도우\n",
    "!pip install pillow\n"
   ]
  },
  {
   "attachments": {},
   "cell_type": "markdown",
   "metadata": {},
   "source": [
    "## 01.tkinter 사용하기"
   ]
  },
  {
   "cell_type": "markdown",
   "metadata": {},
   "source": [
    "### #tkinter"
   ]
  },
  {
   "cell_type": "markdown",
   "metadata": {},
   "source": [
    "- GUI Toolkit interface\n",
    "- 파이썬에서 그래픽 기능을 제공해주는 GUI (그래픽 유저 인터페이스) 모듈\n",
    "- 파이썬에서 제공하는 표준모듈\n",
    "- Tk( )의 인스턴스를 만들고 여러가지 위젯 등을 추가한 후 mainloop() 키워드로 윈도우 실행\n"
   ]
  },
  {
   "attachments": {},
   "cell_type": "markdown",
   "metadata": {},
   "source": [
    "### #위젯 배치하기"
   ]
  },
  {
   "cell_type": "code",
   "execution_count": null,
   "metadata": {},
   "outputs": [],
   "source": [
    "# 윈도우 생성\n",
    "from tkinter import *\n",
    "\n",
    "main = Tk()\n",
    "\n",
    "main.mainloop()"
   ]
  },
  {
   "cell_type": "code",
   "execution_count": null,
   "metadata": {},
   "outputs": [],
   "source": [
    "#윈도우 크기 조절: Default 확장 가능\n",
    "from tkinter import *\n",
    "\n",
    "main = Tk()\n",
    "main.title(\"TK 윈도창 연습\")\n",
    "main.geometry(\"300x200\")\n",
    "\n",
    "main.mainloop()"
   ]
  },
  {
   "cell_type": "code",
   "execution_count": null,
   "metadata": {},
   "outputs": [],
   "source": [
    "#윈도우 크기 조절 : 확장 조절\n",
    "from tkinter import *\n",
    "\n",
    "main = Tk()\n",
    "main.title(\"TK 윈도창 연습\")\n",
    "main.geometry(\"300x200\")\n",
    "main.resizable(width=FALSE, height=TRUE)\n",
    "\n",
    "main.mainloop()"
   ]
  },
  {
   "cell_type": "code",
   "execution_count": null,
   "metadata": {},
   "outputs": [],
   "source": [
    "# 윈도우 크기 조절 : 화면 전체 크기 \n",
    "from tkinter import *\n",
    "\n",
    "main = Tk()\n",
    "screen_width = main.winfo_screenwidth()   # 현재 윈도우 전체 가로 크기\n",
    "screen_height = main.winfo_screenheight() # 현재 윈도우 전체 세로 크기\n",
    "print(f'screen_width={screen_width}, screen_height={screen_height}')\n",
    "\n",
    "#main.geometry(\"400x100\")\n",
    "main.geometry(f'{screen_width}x{screen_height}')\n",
    "main.resizable(width=FALSE, height=TRUE)\n",
    "\n",
    "main.mainloop()"
   ]
  },
  {
   "cell_type": "code",
   "execution_count": null,
   "metadata": {},
   "outputs": [],
   "source": [
    "#레이블에 글자 표시 : 글자 위젯 한 개\n",
    "from tkinter import *\n",
    "\n",
    "main = Tk()\n",
    "\n",
    "main.title(\"TK 윈도창 연습\")\n",
    "main.geometry(\"300x200\")    # 윈도우 크기 고정\n",
    "lbl = Label(main)           # 메인 윈도우 내 위젯 생성\n",
    "lbl[\"text\"] = \"안녕하세요\"  # 레이블 내용\n",
    "lbl[\"font\"] = \"Arial 20\"    # 레이블 폰트 \n",
    "\n",
    "lbl.pack()                 # 위젯마다 pack() 작성\n",
    "\n",
    "main.mainloop()"
   ]
  },
  {
   "cell_type": "code",
   "execution_count": null,
   "metadata": {},
   "outputs": [],
   "source": [
    "#레이블에 글자 표시 : 글자 위젯 여러 개\n",
    "from tkinter import *\n",
    "\n",
    "main = Tk()\n",
    "\n",
    "main.title(\"TK 윈도창 연습\")\n",
    "main.geometry(\"300x200\")\n",
    "\n",
    "label1 = Label(main, text = \"Python을\")\n",
    "label2 = Label(main, text = \"열심히\", font=(\"궁서체\", 30),  fg=\"blue\")\n",
    "label3 = Label(main, text = \"공부 중입니다.\", bg=\"magenta\",\n",
    "               width=20, height=5, anchor=SE)\n",
    "\n",
    "label1.pack()\n",
    "label2.pack()\n",
    "label3.pack()\n",
    "\n",
    "main.mainloop()"
   ]
  },
  {
   "cell_type": "code",
   "execution_count": null,
   "metadata": {},
   "outputs": [],
   "source": [
    "#버튼 추가\n",
    "from tkinter import *\n",
    "\n",
    "main = Tk()\n",
    "\n",
    "main.title(\"TK 윈도창 연습\")\n",
    "main.geometry(\"300x200\")    # 윈도우 크기 고정\n",
    "lbl = Label(main, text=\"안녕하세요\", font=\"Arial 20\")  # 메인 윈도우 내 위젯 생성\n",
    "lbl.pack()                 # 위젯마다 pack() 작성\n",
    "\n",
    "ok_button = Button(main, text=\"확인\", foreground=\"Red\")\n",
    "ok_button.pack()   \n",
    "cancel_button = Button(main, text=\"취소\", foreground=\"Green\")\n",
    "cancel_button.pack() \n",
    "\n",
    "\n",
    "main.mainloop()"
   ]
  },
  {
   "cell_type": "code",
   "execution_count": null,
   "metadata": {},
   "outputs": [],
   "source": []
  },
  {
   "attachments": {},
   "cell_type": "markdown",
   "metadata": {},
   "source": [
    "### #사진 넣기"
   ]
  },
  {
   "cell_type": "code",
   "execution_count": null,
   "metadata": {},
   "outputs": [],
   "source": [
    "# 사진 넣기 : 버튼 이미지로 나타내기\n",
    "# 만약, TclError: image \"pyimage~\" doesn't exist 오류가 발생한다면\n",
    "# 주피터 노트북을 닫었다가 다시 실행한 후 아래 코드를 실행시켜 주세요.\n",
    "\n",
    "# Default PhotoImage: GIF, PGM, PPM, and PNG file formats 지원\n",
    "from tkinter import *\n",
    "\n",
    "main = Tk()\n",
    "\n",
    "main.title(\"Show me the picture\")\n",
    "main.geometry(\"300x200\")    # 윈도우 크기 고정\n",
    "\n",
    "lbl = Label(main, text=\"안녕하세요\", font=\"Arial 20\")  # 메인 윈도우 내 위젯 생성\n",
    "lbl.pack()    \n",
    "\n",
    "img = PhotoImage(file=\"./image/picture1.png\")\n",
    "btn = Button(main, image=img)\n",
    "btn.pack()   \n",
    "\n",
    "main.mainloop()"
   ]
  },
  {
   "cell_type": "markdown",
   "metadata": {},
   "source": [
    "#### # JPG, JPEG, or BMP 확장자 이미지 사용하는 방법\n",
    "- pillow 라이브러리 설치 및 포맷 변환"
   ]
  },
  {
   "cell_type": "code",
   "execution_count": null,
   "metadata": {},
   "outputs": [],
   "source": [
    "!pip install pillow"
   ]
  },
  {
   "cell_type": "code",
   "execution_count": null,
   "metadata": {},
   "outputs": [],
   "source": [
    "# 사진 넣기 : 버튼 이미지로 나타내기\n",
    "# Pillow ImageTk PhotoImage: JPG, JPEG, or BMP file formats 지원\n",
    "from tkinter import *\n",
    "from PIL import Image, ImageTk\n",
    "\n",
    "main = Tk()\n",
    "main.title(\"Show me the picture\")\n",
    "main.geometry(\"300x200\")    \n",
    "\n",
    "image = Image.open('./image/cat.jpg')\n",
    "python_image = ImageTk.PhotoImage(image)\n",
    "\n",
    "lbl = Label(main, text=\"안녕하세요\", font=\"Arial 20\")  # 메인 윈도우 내 위젯 생성\n",
    "lbl.pack()                 \n",
    "btn = Button(main, image=python_image)\n",
    "btn.pack()   \n",
    "\n",
    "main.mainloop()"
   ]
  },
  {
   "attachments": {},
   "cell_type": "markdown",
   "metadata": {},
   "source": [
    "### 실습문제\n",
    "레이블 이미지 파일(위젯)을 가로로 나타내기"
   ]
  },
  {
   "cell_type": "code",
   "execution_count": null,
   "metadata": {},
   "outputs": [],
   "source": [
    "# 위젯 가로로 나타내기\n",
    "from tkinter import *\n",
    "main = Tk()\n",
    "main.title(\"냥이들 ^^\")\n",
    "\n",
    "photo1 = PhotoImage(file=\"./image/cat.gif\")\n",
    "label1 = Label(main, image=photo1)\n",
    "\n",
    "photo2 = PhotoImage(file=\"./image/cat2.gif\")\n",
    "label2 = Label(main, image=photo2)\n",
    "\n",
    "photo3 = PhotoImage(file=\"./image/cat3.gif\")\n",
    "label3 = Label(main, image=photo3)\n",
    "\n",
    "# label1.pack(side=LEFT)\n",
    "# label2.pack(side=LEFT)\n",
    "\n",
    "label1.pack(side=RIGHT)\n",
    "label2.pack(side=TOP)\n",
    "label3.pack(side=BOTTOM)\n",
    "\n",
    "main.mainloop()"
   ]
  },
  {
   "attachments": {},
   "cell_type": "markdown",
   "metadata": {},
   "source": [
    "### #command, config : 버튼"
   ]
  },
  {
   "cell_type": "code",
   "execution_count": null,
   "metadata": {},
   "outputs": [],
   "source": [
    "import tkinter as tk\n",
    "\n",
    "def click():\n",
    "    print(\"클릭\")\n",
    "    btn.configure(text=\"성공\")\n",
    "    print(btn.cget('text'))\n",
    "\n",
    "\n",
    "main = tk.Tk()\n",
    "main.title(\"Click the button\")\n",
    "main.geometry(\"300x200\")    \n",
    "\n",
    "lbl = tk.Label(main, text=\"클릭하세요\", font=\"Arial 15\")  \n",
    "lbl.pack()                 \n",
    "btn = tk.Button(main, width=10, height=3, text=\"클릭\", command=click)\n",
    "btn.pack()   \n",
    "\n",
    "main.mainloop()"
   ]
  },
  {
   "cell_type": "markdown",
   "metadata": {},
   "source": [
    "### [미션] 토글 버튼 만들기\n",
    "- 프로그램이 실행되면  ON 버튼이 화면에 띄워지며\n",
    "- 버튼을 클릭할 때마다 ON -> OFF, OFF -> ON 으로 버튼 text가 변경되도록 \n",
    "- toggle 버튼을 만들어 보세요. \n"
   ]
  },
  {
   "cell_type": "code",
   "execution_count": null,
   "metadata": {},
   "outputs": [],
   "source": [
    "# 토글 버튼 만들기 : 텍스트 변경하기\n",
    "import tkinter as tk\n",
    "\n",
    "def click():\n",
    "    print(\"클릭\")\n",
    "    if btn.cget('text') == \"ON\":\n",
    "        btn.configure(text=\"OFF\", bg=\"red\")\n",
    "    elif btn.cget('text') == \"OFF\":\n",
    "        btn.configure(text=\"ON\", bg=\"green\")\n",
    "    \n",
    "\n",
    "\n",
    "main = tk.Tk()\n",
    "main.title(\"Click the button\")\n",
    "main.geometry(\"300x200\")    \n",
    "\n",
    "lbl = tk.Label(main, text=\"클릭하세요\", font=\"Arial 15\")  \n",
    "lbl.pack()                 \n",
    "btn = tk.Button(main, width=10, height=3, text=\"ON\", bg=\"green\", command=click)\n",
    "btn.pack()   \n",
    "\n",
    "main.mainloop()"
   ]
  },
  {
   "cell_type": "code",
   "execution_count": null,
   "metadata": {},
   "outputs": [],
   "source": [
    "# 종료 버튼\n",
    "# 주피터 노트북에서는 종료버튼(윈도우 창을 닫는 기능)이 정상작동 안될 수 있다.\n",
    "from tkinter import *\n",
    "\n",
    "def quit():\n",
    "    main.destroy()\n",
    "\n",
    "main = Tk()\n",
    "main.title(\"버튼 클릭\")\n",
    "main.geometry(\"300x200\") \n",
    "\n",
    "button1 = Button(main, text=\"파이썬 종료\", fg=\"red\", command=quit)\n",
    "button1.pack()\n",
    "\n",
    "main.mainloop()\n"
   ]
  },
  {
   "attachments": {},
   "cell_type": "markdown",
   "metadata": {},
   "source": [
    "#### 이미지 버튼 클릭할 때마다 다른 이미지 나타내기"
   ]
  },
  {
   "cell_type": "code",
   "execution_count": null,
   "metadata": {},
   "outputs": [],
   "source": [
    "# 이미지 버튼 클릭할 때마다 다른 이미지 나타내기\n",
    "from tkinter import *\n",
    "\n",
    "## 전역 변수 ##\n",
    "fnameList = [\"cat.gif\", \"cat2.gif\", \"cat3.gif\",\"cat4.gif\"]\n",
    "num = 0\n",
    "\n",
    "def quit():\n",
    "    main.destroy()\n",
    "    \n",
    "def myFunc() :\n",
    "    global num\n",
    "    num += 1\n",
    "    if num == len(fnameList) : num = 0    \n",
    "    photo = PhotoImage(file = \"./image/\" + fnameList[num])\n",
    "    button1.configure(image = photo)\n",
    "    button1.image = photo\n",
    "\n",
    "\n",
    "    \n",
    "## 메인 코드 ##    \n",
    "main = Tk()\n",
    "\n",
    "photo = PhotoImage(file=\"./image/\"+fnameList[num])\n",
    "button1 = Button(main, image=photo, command=myFunc)\n",
    "\n",
    "button1.pack()\n",
    "\n",
    "Qbutton = Button(main, text=\"파이썬 종료\", command=quit)\n",
    "Qbutton.pack()\n",
    "\n",
    "main.mainloop()"
   ]
  },
  {
   "cell_type": "markdown",
   "metadata": {},
   "source": [
    "## [미션] 사칙연산 계산기 만들기"
   ]
  },
  {
   "cell_type": "code",
   "execution_count": 4,
   "metadata": {},
   "outputs": [],
   "source": [
    "from tkinter import *\n",
    "\n",
    "def clear():\n",
    "    entry1.delete(0, len(entry1.get()))\n",
    "    entry2.delete(0, len(entry2.get()))\n",
    "\n",
    "def calculate(operation):\n",
    "    # 숫자 입력값을 가져옵니다.\n",
    "    num1 = float(entry1.get())\n",
    "    num2 = float(entry2.get())\n",
    "\n",
    "    # 연산자에 따라 계산을 수행합니다.\n",
    "    if operation == '+':\n",
    "        result = num1 + num2\n",
    "    elif operation == '-':\n",
    "        result = num1 - num2\n",
    "    elif operation == '*':\n",
    "        result = num1 * num2\n",
    "    elif operation == '/':\n",
    "        result = num1 / num2\n",
    "\n",
    "    # 결과를 텍스트 필드에 표시합니다.\n",
    "    result_label.config(text=f\"{num1} {operation} {num2} 결과: {result}\")\n",
    "\n",
    "# Tkinter 윈도우 생성\n",
    "main = Tk()\n",
    "main.title(\"사칙연산 계산기\")\n",
    "main.geometry(\"400x300\")    # 윈도우 크기 고정\n",
    "\n",
    "# 상단 프레임 (Pack 사용)\n",
    "frame_top = Frame(main)\n",
    "frame_top.pack(side=\"top\")\n",
    "\n",
    "label = Label(frame_top, text=\"정확한 사칙연산 계산기\", font=\"Arial 20\")  # 메인 윈도우 내 위젯 생성\n",
    "label.pack()  \n",
    "\n",
    "# 숫자 입력 필드\n",
    "entry1 = Entry(frame_top, justify='right')\n",
    "entry1.pack()\n",
    "# entry1.insert(0, \"숫자1\")\n",
    "entry2 = Entry(frame_top, justify='right')\n",
    "entry2.pack()\n",
    "# entry2.insert(0, \"숫자2\")\n",
    "# 지우기 버튼\n",
    "btn_clear = Button(frame_top, text=\"지우기\", width=10, command=clear)\n",
    "btn_clear.pack()\n",
    "\n",
    "# 결과 레이블\n",
    "result_label = Label(frame_top, text=\"결과: \", font=\"Arial 10\")  # 메인 윈도우 내 위젯 생성\n",
    "result_label.pack(side=\"left\") \n",
    "\n",
    "\n",
    "# 하단 프레임 (Pack 사용)\n",
    "frame_bot = Frame(main)\n",
    "frame_bot.pack(side=\"top\")\n",
    "\n",
    "# 사칙연산 \n",
    "calitem = [['+', '-'],\n",
    "           ['*', '/']]\n",
    "for i,items in enumerate(calitem):    \n",
    "    for k,item in enumerate(items):\n",
    "        btn = Button(frame_bot, text=item, width=10,height=5, \n",
    "                     command= lambda cmd=item: calculate(cmd) )\n",
    "        btn.grid(row=(i+1), column=k)\n",
    "\n",
    "main.mainloop()"
   ]
  },
  {
   "attachments": {},
   "cell_type": "markdown",
   "metadata": {},
   "source": [
    "-----"
   ]
  }
 ],
 "metadata": {
  "kernelspec": {
   "display_name": "Python 3",
   "language": "python",
   "name": "python3"
  },
  "language_info": {
   "codemirror_mode": {
    "name": "ipython",
    "version": 3
   },
   "file_extension": ".py",
   "mimetype": "text/x-python",
   "name": "python",
   "nbconvert_exporter": "python",
   "pygments_lexer": "ipython3",
   "version": "3.10.9"
  }
 },
 "nbformat": 4,
 "nbformat_minor": 4
}
