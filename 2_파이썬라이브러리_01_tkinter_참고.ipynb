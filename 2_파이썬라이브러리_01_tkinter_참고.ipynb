{
 "cells": [
  {
   "attachments": {},
   "cell_type": "markdown",
   "metadata": {},
   "source": [
    "# tkinter 라이브러리\n",
    "- 기본제공 표준 라이브러리\n",
    "- Tcl/Tk 파이썬 인터페이스 라이브러리 (Tool Command Language/toolkit 윈도우 프로그래밍)\n",
    "- https://docs.python.org/ko/3/library/tk.html "
   ]
  },
  {
   "cell_type": "markdown",
   "metadata": {},
   "source": [
    "### Tk 인터페이스 확인"
   ]
  },
  {
   "cell_type": "code",
   "execution_count": null,
   "metadata": {},
   "outputs": [],
   "source": [
    "!python -m tkinter"
   ]
  },
  {
   "attachments": {},
   "cell_type": "markdown",
   "metadata": {},
   "source": [
    "## 01.기본 위젯"
   ]
  },
  {
   "cell_type": "code",
   "execution_count": null,
   "metadata": {},
   "outputs": [],
   "source": [
    "#윈도우\n",
    "!pip install pillow\n"
   ]
  },
  {
   "attachments": {},
   "cell_type": "markdown",
   "metadata": {},
   "source": [
    "### #윈도우창 생성"
   ]
  },
  {
   "cell_type": "code",
   "execution_count": 8,
   "metadata": {},
   "outputs": [],
   "source": [
    "# 윈도창 생성\n",
    "from tkinter import *\n",
    "\n",
    "window = Tk()\n",
    "\n",
    "window.mainloop()"
   ]
  },
  {
   "cell_type": "code",
   "execution_count": 9,
   "metadata": {},
   "outputs": [],
   "source": [
    "#윈도우창 크기 조절\n",
    "from tkinter import *\n",
    "\n",
    "window = Tk()\n",
    "window.title(\"윈도창 연습\")\n",
    "window.geometry(\"400x100\")\n",
    "window.resizable(width=FALSE, height=TRUE)\n",
    "\n",
    "window.mainloop()"
   ]
  },
  {
   "cell_type": "code",
   "execution_count": null,
   "metadata": {},
   "outputs": [],
   "source": [
    "# 윈도창 생성\n",
    "from tkinter import *\n",
    "\n",
    "window = Tk()\n",
    "screen_width = window.winfo_screenwidth()   # 현재 윈도우 전체 가로 크기\n",
    "screen_height = window.winfo_screenheight() # 현재 윈도우 전체 세로 크기\n",
    "print(f'screen_width={screen_width}, screen_height={screen_height}')\n",
    "\n",
    "#window.geometry(\"400x100\")\n",
    "window.geometry(f'{screen_width}x{screen_height}')\n",
    "window.resizable(width=FALSE, height=TRUE)\n",
    "\n",
    "window.mainloop()"
   ]
  },
  {
   "cell_type": "code",
   "execution_count": null,
   "metadata": {},
   "outputs": [],
   "source": [
    "#레이블에 글자 표시\n",
    "from tkinter import *\n",
    "\n",
    "window = Tk()\n",
    "\n",
    "label1 = Label(window, text = \"Python을\")\n",
    "label2 = Label(window, text = \"열심히\", font=(\"궁서체\", 30),  fg=\"blue\")\n",
    "label3 = Label(window, text = \"공부 중입니다.\", bg=\"magenta\",\n",
    "               width=20, height=5, anchor=SE)\n",
    "\n",
    "label1.pack()\n",
    "label2.pack()\n",
    "label3.pack()\n",
    "\n",
    "window.mainloop()"
   ]
  },
  {
   "attachments": {},
   "cell_type": "markdown",
   "metadata": {},
   "source": [
    "### #윈도우창에 이미지 띄우기"
   ]
  },
  {
   "cell_type": "code",
   "execution_count": null,
   "metadata": {},
   "outputs": [],
   "source": [
    "#레이블 이미지로 나타내기\n",
    "# 만약, TclError: image \"pyimage5\" doesn't exist 오류가 발생한다면\n",
    "# 주피터 노트북을 닫었다가 다시 실행한 후 아래 코드를 실행시켜 주세요.\n",
    "\n",
    "from tkinter import *\n",
    "\n",
    "window = Tk()\n",
    "\n",
    "photo = PhotoImage(file=\"gif/dog.gif\")\n",
    "label1 = Label(window, image=photo)\n",
    "#for리눅스용(한줄추가)\n",
    "label1.image = photo\n",
    "\n",
    "label1.pack()\n",
    "\n",
    "window.mainloop()"
   ]
  },
  {
   "attachments": {},
   "cell_type": "markdown",
   "metadata": {},
   "source": [
    "### 실습문제\n",
    "이미지 파일(위젯)을 가로로 나타내기\n",
    " - TclError: image \"pyimage2\" doesn't exist --> pillow 설치하기"
   ]
  },
  {
   "cell_type": "code",
   "execution_count": null,
   "metadata": {},
   "outputs": [],
   "source": [
    "# 위젯 가로로 나타내기\n",
    "from tkinter import *\n",
    "window = Tk()\n",
    "window.title(\"냥이들 ^^\")\n",
    "\n",
    "photo1 = PhotoImage(file=\"gif/cat.gif\")\n",
    "label1 = Label(window, image=photo1)\n",
    "\n",
    "photo2 = PhotoImage(file=\"gif/cat2.gif\")\n",
    "label2 = Label(window, image=photo2)\n",
    "\n",
    "photo3 = PhotoImage(file=\"gif/cat3.gif\")\n",
    "label3 = Label(window, image=photo3)\n",
    "\n",
    "label1.pack(side=LEFT)\n",
    "label2.pack(side=LEFT)\n",
    "\n",
    "# label1.pack(side=RIGHT)\n",
    "# label2.pack(side=TOP)\n",
    "# label3.pack(side=BOTTOM)\n",
    "\n",
    "window.mainloop()"
   ]
  },
  {
   "attachments": {},
   "cell_type": "markdown",
   "metadata": {},
   "source": [
    "### #버튼"
   ]
  },
  {
   "cell_type": "code",
   "execution_count": null,
   "metadata": {},
   "outputs": [],
   "source": [
    "# 종료 버튼\n",
    "# 주피터 노트북에서는 종료버튼(윈도우 창을 닫는 기능)이 정상작동 안한다.\n",
    "# IDLE에서는 윈도우 창을 닫는 기능이 정상 작동함\n",
    "from tkinter import *\n",
    "\n",
    "window = Tk()\n",
    "\n",
    "def quit():\n",
    "    window.destroy()\n",
    "\n",
    "button1 = Button(window, text=\"파이썬 종료\", fg=\"red\", command=quit)\n",
    "\n",
    "button1.pack()\n",
    "\n",
    "window.mainloop()\n"
   ]
  },
  {
   "attachments": {},
   "cell_type": "markdown",
   "metadata": {},
   "source": [
    "#### 이미지 버튼 클릭할 때마다 다른 이미지 나타내기"
   ]
  },
  {
   "cell_type": "code",
   "execution_count": null,
   "metadata": {},
   "outputs": [],
   "source": [
    "# 이미지 버튼 클릭할 때마다 다른 이미지 나타내기\n",
    "from tkinter import *\n",
    "\n",
    "## 전역 변수 ##\n",
    "fnameList = [\"dog.gif\", \"dog2.gif\", \"dog3.gif\",\"dog4.gif\", \"dog5.gif\"]\n",
    "num = 0\n",
    "\n",
    "def myFunc() :\n",
    "    global num\n",
    "    num += 1\n",
    "    if num == len(fnameList) : num = 0    \n",
    "    photo = PhotoImage(file = \"gif/\" + fnameList[num])\n",
    "    button1.configure(image = photo)\n",
    "    button1.image = photo\n",
    "\n",
    "def quit():\n",
    "    window.destroy()\n",
    "    \n",
    "## 메인 코드 ##    \n",
    "window = Tk()\n",
    "\n",
    "photo = PhotoImage(file=\"gif/\"+fnameList[num])\n",
    "button1 = Button(window, image=photo, command=myFunc)\n",
    "\n",
    "button1.pack()\n",
    "\n",
    "Qbutton = Button(window, text=\"파이썬 종료\", command=quit)\n",
    "Qbutton.pack()\n",
    "\n",
    "window.mainloop()"
   ]
  },
  {
   "attachments": {},
   "cell_type": "markdown",
   "metadata": {},
   "source": [
    "#### 버튼 클릭하면 메시지창 표시하기"
   ]
  },
  {
   "cell_type": "code",
   "execution_count": null,
   "metadata": {},
   "outputs": [],
   "source": [
    "#버튼 클릭하면 메시지창 표시하기\n",
    "from tkinter import *\n",
    "from tkinter import messagebox\n",
    "\n",
    "def myFunc() :\n",
    "    messagebox.showinfo(\"강아지 버튼\", \"강아지기 귀엽죠?^^\")\n",
    "\n",
    "def quit():\n",
    "    window.destroy()\n",
    "    \n",
    "## 메인 코드 ##    \n",
    "window = Tk()\n",
    "\n",
    "photo = PhotoImage(file=\"gif/dog2.gif\")\n",
    "button1 = Button(window, image=photo, command=myFunc)\n",
    "\n",
    "button1.pack()\n",
    "\n",
    "Qbutton = Button(window, text=\"파이썬 종료\", command=quit)\n",
    "Qbutton.pack()\n",
    "\n",
    "window.mainloop()"
   ]
  },
  {
   "attachments": {},
   "cell_type": "markdown",
   "metadata": {},
   "source": [
    "### #체크버튼"
   ]
  },
  {
   "attachments": {},
   "cell_type": "markdown",
   "metadata": {},
   "source": [
    "#### 체크버튼 표시하면 해당하는 이미지와 텍스트 나타내기"
   ]
  },
  {
   "cell_type": "code",
   "execution_count": 1,
   "metadata": {},
   "outputs": [],
   "source": [
    "#체크버튼 표시하면 해당하는 이미지와 텍스트 나타내기\n",
    "from tkinter import *\n",
    "window = Tk()\n",
    "\n",
    "def myFunc() :\n",
    "    if var.get() == 1 :\n",
    "        label1.configure(text = \"강아지\")\n",
    "        photo = PhotoImage(file = \"gif/dog.gif\")    \n",
    "    elif var.get() == 2 :\n",
    "        label1.configure(text = \"고양이\")\n",
    "        photo = PhotoImage(file = \"gif/cat.gif\")\n",
    "    else :\n",
    "        label1.configure(text = \"토끼\")\n",
    "        photo = PhotoImage(file = \"gif/rabbit.gif\")        \n",
    "    pLabel.configure(image = photo)\n",
    "    pLabel.image=photo        \n",
    "\n",
    "        \n",
    "## 메인 코드 ##    \n",
    "var = IntVar()\n",
    "rb1 = Radiobutton(window, text=\"강아지\", variable=var, value=1, command=myFunc)\n",
    "rb2 = Radiobutton(window, text=\"고양이\", variable=var, value=2, command=myFunc)\n",
    "rb3 = Radiobutton(window, text=\"토끼\", variable=var, value=3, command=myFunc)\n",
    "\n",
    "label1 = Label(window, text = \" 선택한 언어: \", fg=\"blue\")\n",
    "\n",
    "photo = PhotoImage()\n",
    "pLabel = Label(window, image = photo)\n",
    "pLabel.pack()\n",
    "\n",
    "rb1.pack()\n",
    "rb2.pack()\n",
    "rb3.pack()\n",
    "label1.pack()\n",
    "\n",
    "\n",
    "\n",
    "Qbutton = Button(window, text=\"파이썬 종료\", command=quit)\n",
    "Qbutton.pack()\n",
    "\n",
    "window.mainloop()"
   ]
  },
  {
   "attachments": {},
   "cell_type": "markdown",
   "metadata": {},
   "source": [
    "#### 체크버튼 체크하면 메시지창 표시하기"
   ]
  },
  {
   "cell_type": "code",
   "execution_count": null,
   "metadata": {},
   "outputs": [],
   "source": [
    "#체크버튼 체크하면 메시지창 표시하기\n",
    "from tkinter import *\n",
    "from tkinter import messagebox\n",
    "window = Tk()\n",
    "\n",
    "def myFunc() :\n",
    "    if chk1.get() == 0 :\n",
    "        messagebox.showinfo(\"\", \"chk1 체크버튼이 꺼졌습니다.\")\n",
    "    else :\n",
    "        messagebox.showinfo(\"\", \"chk1 체크버튼이 켜졌습니다.\")\n",
    "\n",
    "def myFunc2() :\n",
    "    if chk2.get() == 1 :\n",
    "        messagebox.showinfo(\"\", \"chk2 체크버튼이 켜졌습니다.\")\n",
    "    else :\n",
    "        messagebox.showinfo(\"\", \"chk2 체크버튼이 꺼졌습니다.\")\n",
    "\n",
    "## 메인 코드 ##    \n",
    "chk1 = IntVar()\n",
    "cb1 = Checkbutton(window, text=\"클릭하세요\", variable=chk1, command=myFunc)\n",
    "chk2 = IntVar()\n",
    "cb2 = Checkbutton(window, text=\"클릭하세요\", variable=chk2, command=myFunc2)\n",
    "\n",
    "cb1.pack()\n",
    "cb2.pack()\n",
    "\n",
    "\n",
    "Qbutton = Button(window, text=\"파이썬 종료\", command=quit)\n",
    "Qbutton.pack()\n",
    "\n",
    "window.mainloop()"
   ]
  },
  {
   "attachments": {},
   "cell_type": "markdown",
   "metadata": {},
   "source": [
    "### #라디오 버튼"
   ]
  },
  {
   "attachments": {},
   "cell_type": "markdown",
   "metadata": {},
   "source": [
    "#### 여러개 중에 하나 선택하기"
   ]
  },
  {
   "cell_type": "code",
   "execution_count": null,
   "metadata": {},
   "outputs": [],
   "source": [
    "#여러개 중에 하나 선택하기\n",
    "from tkinter import *\n",
    "window = Tk()\n",
    "\n",
    "def myFunc() :\n",
    "    if var.get() == 1 :\n",
    "        label1.configure(text = \"파이썬\")\n",
    "    elif var.get() == 2 :\n",
    "        label1.configure(text = \"C++\")\n",
    "    else :\n",
    "        label1.configure(text = \"Java\")\n",
    "\n",
    "def quit():\n",
    "    window.destroy()        \n",
    "        \n",
    "## 메인 코드 ##    \n",
    "var = IntVar()\n",
    "rb1 = Radiobutton(window, text=\"파이썬\", variable=var, value=1, command=myFunc)\n",
    "rb2 = Radiobutton(window, text=\"C++\", variable=var, value=2, command=myFunc)\n",
    "rb3 = Radiobutton(window, text=\"Java\", variable=var, value=3, command=myFunc)\n",
    "\n",
    "label1 = Label(window, text = \" 선택한 언어: \", fg=\"blue\")\n",
    "\n",
    "rb1.pack()\n",
    "rb2.pack()\n",
    "rb3.pack()\n",
    "label1.pack()\n",
    "\n",
    "\n",
    "Qbutton = Button(window, text=\"파이썬 종료\", command=quit)\n",
    "Qbutton.pack()\n",
    "\n",
    "window.mainloop()\n"
   ]
  },
  {
   "attachments": {},
   "cell_type": "markdown",
   "metadata": {},
   "source": [
    "-----"
   ]
  },
  {
   "attachments": {},
   "cell_type": "markdown",
   "metadata": {},
   "source": [
    "## 02.위젯 배치와 크기 조절"
   ]
  },
  {
   "attachments": {},
   "cell_type": "markdown",
   "metadata": {},
   "source": [
    "### #버튼 여러개 배치하기"
   ]
  },
  {
   "cell_type": "code",
   "execution_count": null,
   "metadata": {},
   "outputs": [],
   "source": [
    "#버튼 3개 (가로) 배치하기\n",
    "from tkinter import *\n",
    "window = Tk()\n",
    "\n",
    "btnList = [None] * 3\n",
    "\n",
    "for i in range(0, 3) :\n",
    "    btnList[i] = Button(window, text=\"버튼\" + str(i+1))\n",
    "\n",
    "for btn in btnList  : \n",
    "    btn.pack(side=LEFT)\n",
    "    \n",
    "'''\n",
    "# 위 2개의 for 문장을 하나로 줄임\n",
    "for i in range(0, 3) :\n",
    "    btnList[i] = Button(window, text=\"버튼\" + str(i+1))\n",
    "    btnList[i].pack(side=LEFT)\n",
    "'''\n",
    "window.mainloop()"
   ]
  },
  {
   "cell_type": "code",
   "execution_count": null,
   "metadata": {},
   "outputs": [],
   "source": [
    "#버튼 3개 (세로로) 배치하기\n",
    "from tkinter import *\n",
    "window = Tk()\n",
    "\n",
    "btnList = [None] * 3\n",
    "\n",
    "for i in range(0, 3) :\n",
    "    btnList[i] = Button(window, text=\"버튼\" + str(i+1))\n",
    "\n",
    "for btn in btnList  : \n",
    "    btn.pack(side=TOP, fill=X )\n",
    "    \n",
    "'''\n",
    "# 위 2개의 for 문장을 하나로 줄임\n",
    "for i in range(0, 3) :\n",
    "    btnList[i] = Button(window, text=\"버튼\" + str(i+1))\n",
    "    btnList[i].pack(side=TOP, fill=X)\n",
    "'''\n",
    "window.mainloop()"
   ]
  },
  {
   "attachments": {},
   "cell_type": "markdown",
   "metadata": {},
   "source": [
    "#### 위젯에 여백주기"
   ]
  },
  {
   "cell_type": "code",
   "execution_count": null,
   "metadata": {},
   "outputs": [],
   "source": [
    "# 위젯에 여백주기\n",
    "from tkinter import *\n",
    "window = Tk()\n",
    "\n",
    "btnList = [None] * 3\n",
    "\n",
    "for i in range(0, 3) :\n",
    "    btnList[i] = Button(window, text=\"버튼\" + str(i+1))\n",
    "\n",
    "for btn in btnList  : \n",
    "    btn.pack(side=TOP, fill=X, padx=10, pady=10 )\n",
    "    \n",
    "'''\n",
    "# 위 2개의 for 문장을 하나로 줄임\n",
    "for i in range(0, 3) :\n",
    "    btnList[i] = Button(window, text=\"버튼\" + str(i+1))\n",
    "    btnList[i].pack(side=TOP, fill=X, padx=10, pady=10 )\n",
    "'''\n",
    "window.mainloop()"
   ]
  },
  {
   "attachments": {},
   "cell_type": "markdown",
   "metadata": {},
   "source": [
    "#### 고정 위치에 배치하기"
   ]
  },
  {
   "cell_type": "code",
   "execution_count": null,
   "metadata": {},
   "outputs": [],
   "source": [
    "# 고정 위치에 배치하기\n",
    "from tkinter import *\n",
    "window = Tk()\n",
    "\n",
    "btnList = [None] * 9\n",
    "fnameList = [\"froyo.gif\", \"gingerbread.gif\", \"honeycomb.gif\", \"icecream.gif\",\n",
    "             \"jellybean.gif\", \"kitkat.gif\", \"lollipop.gif\", \"marshmallow.gif\", \"nougat.gif\"]\n",
    "photoList = [None] * 9\n",
    "\n",
    "i, k = 0, 0\n",
    "xPos, yPos = 0, 0\n",
    "num = 0\n",
    "\n",
    "## 메인 코드 부분 ##\n",
    "window.geometry(\"210x210\")\n",
    "\n",
    "for i in range(0, 9) : \n",
    "    photoList[i] = PhotoImage(file=\"gif/\" + fnameList[i])\n",
    "    btnList[i] = Button(window, image=photoList[i])\n",
    "\n",
    "for i in range(0, 3) :\n",
    "    for k in range(0, 3) :\n",
    "        btnList[num].place(x=xPos,y=yPos)\n",
    "        num += 1\n",
    "        xPos += 70        \n",
    "    xPos = 0\n",
    "    yPos += 70\n",
    "\n",
    "'''\n",
    "# for문 하나만 이용\n",
    "for i in range(0, 9) : \n",
    "    photoList[i] = PhotoImage(file=\"gif/\" + fnameList[i])\n",
    "    btnList[i] = Button(window, image=photoList[i])\n",
    "    if i % 3 == 0 :\n",
    "        xPos = 0\n",
    "        if i > 0 : yPos += 70\n",
    "    else: xPos += 70\n",
    "    btnList[i].place(x=xPos,y=yPos)\n",
    "'''\n",
    "window.mainloop()\n"
   ]
  },
  {
   "attachments": {},
   "cell_type": "markdown",
   "metadata": {},
   "source": [
    "### 실습문제\n",
    "버튼 위젯을 뒤섞기"
   ]
  },
  {
   "cell_type": "code",
   "execution_count": null,
   "metadata": {},
   "outputs": [],
   "source": [
    "# [뒤섞기]버튼으로 위젯 뒤섞기 배치하기\n",
    "from tkinter import *\n",
    "import random\n",
    "\n",
    "# 변수 선언 부분\n",
    "fnameList = [\"froyo.gif\", \"gingerbread.gif\", \"honeycomb.gif\",\n",
    "             \"icecream.gif\", \"jellybean.gif\", \"kitkat.gif\",\n",
    "             \"lollipop.gif\", \"marshmallow.gif\", \"nougat.gif\"]\n",
    "btnList = [\"\"] * 9\n",
    "photoList=[None] * 9\n",
    "\n",
    "\n",
    "def imageShuffle() :\n",
    "    random.shuffle(fnameList)\n",
    "    \n",
    "    xPos, yPos=0, 0\n",
    "    for i in range(0, 9) : \n",
    "        photoList[i] = PhotoImage(file=\"gif/\" + fnameList[i])\n",
    "        btnList[i] = Button(window, image=photoList[i])\n",
    "        if i % 3 == 0 :\n",
    "            if i > 0 : yPos += 70\n",
    "            xPos = 0        \n",
    "        else: xPos += 70\n",
    "        btnList[i].place(x=xPos,y=yPos)\n",
    "\n",
    "    btn = Button(window, text=\"뒤섞기\", command=imageShuffle)\n",
    "    btn.place(x=80,y=210)   \n",
    "    \n",
    "    \n",
    "# 메인 코드 부분\n",
    "window = Tk()\n",
    "window.geometry(\"210x240\")\n",
    "\n",
    "imageShuffle()  # 버튼이미지 표시하기\n",
    "\n",
    "window.mainloop()"
   ]
  },
  {
   "attachments": {},
   "cell_type": "markdown",
   "metadata": {},
   "source": [
    "### 실습문제\n",
    " - 사진앨범뷰어 만들기\n",
    " - 사진앨범을 보는 뷰어 윈도우 프로그램을 만들어 보세요."
   ]
  },
  {
   "cell_type": "code",
   "execution_count": null,
   "metadata": {},
   "outputs": [],
   "source": [
    "from tkinter import *\n",
    "from time import *\n",
    "\n",
    "## 전역  변수 선언 부분 ##\n",
    "fnameList = [\"jeju1.gif\", \"jeju2.gif\", \"jeju3.gif\",\n",
    "             \"jeju4.gif\", \"jeju5.gif\", \"jeju6.gif\",\n",
    "             \"jeju7.gif\", \"jeju8.gif\", \"jeju9.gif\"]\n",
    "photoList = [None] * 9\n",
    "num = 0\n",
    "\n",
    "## 함수 선언 부분 ## \n",
    "def clickNext() :\n",
    "    global num\n",
    "    num += 1\n",
    "    if num > 8 :\n",
    "        num = 0\n",
    "    photo = PhotoImage(file = \"gif/\" + fnameList[num])\n",
    "    pLabel.configure(image = photo)\n",
    "    pLabel.image = photo\n",
    "    nameLabel.configure(text=fnameList[num])\n",
    "    \n",
    "def clickPrev() :\n",
    "    global num\n",
    "    num -= 1\n",
    "    if num < 0 :\n",
    "        num = 8\n",
    "    photo = PhotoImage(file = \"gif/\" + fnameList[num])\n",
    "    pLabel.configure(image = photo)\n",
    "    pLabel.image=photo\n",
    "    nameLabel.configure(text=fnameList[num])\n",
    "    \n",
    "    \n",
    "## 메인 코드 부분\n",
    "window = Tk()\n",
    "window.geometry(\"700x500\")\n",
    "window.title(\"사진 앨범 보기\")\n",
    "\n",
    "btnPrev = Button(window, text = \"<< 이전\", command = clickPrev)\n",
    "btnNext = Button(window, text = \"다음 >>\", command = clickNext)\n",
    "\n",
    "photo = PhotoImage(file = \"gif/\" + fnameList[0])\n",
    "pLabel = Label(window, image = photo)\n",
    "\n",
    "nameLabel = Label(window, text=fnameList[0])\n",
    "\n",
    "btnPrev.place(x = 250, y = 10)\n",
    "nameLabel.place(x=330, y=10)\n",
    "btnNext.place(x = 400, y = 10)\n",
    "pLabel.place(x = 15, y = 50)\n",
    "\n",
    "window.mainloop()\n"
   ]
  },
  {
   "attachments": {},
   "cell_type": "markdown",
   "metadata": {},
   "source": [
    "----"
   ]
  },
  {
   "attachments": {},
   "cell_type": "markdown",
   "metadata": {},
   "source": [
    "## 03. 키보드와 마우스 이벤트 처리"
   ]
  },
  {
   "attachments": {},
   "cell_type": "markdown",
   "metadata": {},
   "source": [
    "### #마우스 이벤트"
   ]
  },
  {
   "cell_type": "code",
   "execution_count": null,
   "metadata": {},
   "outputs": [],
   "source": [
    "# 마우스 왼쪽/가운데/오른쪽 버튼 클릭\n",
    "from tkinter import *\n",
    "from tkinter import messagebox\n",
    "\n",
    "## 함수 선언 부분 ## \n",
    "def clickLeft(event) :\n",
    "    messagebox.showinfo(\"마우스\", \"마우스 왼쪽 버튼이 클릭됨\")\n",
    "    \n",
    "def clickCenter(event) :\n",
    "    messagebox.showinfo(\"마우스\", \"마우스 가운데 버튼이 클릭됨\")\n",
    "\n",
    "def clickRight(event) :\n",
    "    messagebox.showinfo(\"마우스\", \"마우스 오른쪽 버튼이 클릭됨\")\n",
    "\n",
    "    \n",
    "## 메인 코드 부분\n",
    "window = Tk()\n",
    "\n",
    "window.bind(\"<Button-1>\", clickLeft)\n",
    "window.bind(\"<Button-2>\", clickCenter)\n",
    "window.bind(\"<Button-3>\", clickRight)\n",
    "\n",
    "window.mainloop()\n"
   ]
  },
  {
   "cell_type": "code",
   "execution_count": 2,
   "metadata": {},
   "outputs": [],
   "source": [
    "# 지정된 위젯 클릭\n",
    "from tkinter import *\n",
    "from tkinter import messagebox\n",
    "\n",
    "## 함수 선언 부분 ## \n",
    "def clickImage(event) :\n",
    "    messagebox.showinfo(\"마우스\", \"토끼에서 마우스가  클릭됨\")\n",
    "    \n",
    "# 메인 코드 부분\n",
    "window = Tk()\n",
    "window.geometry(\"400x400\")\n",
    "\n",
    "photo = PhotoImage(file=\"gif/rabbit.gif\")\n",
    "label1 = Label(window, image=photo)\n",
    "\n",
    "# 레이블을 클릭함\n",
    "label1.bind(\"<Button>\", clickImage)\n",
    "\n",
    "label1.pack(expand=1, anchor=CENTER)\n",
    "\n",
    "window.mainloop()\n"
   ]
  },
  {
   "cell_type": "code",
   "execution_count": null,
   "metadata": {},
   "outputs": [],
   "source": [
    "# 이벤트 발생시 매개변수 전달 \n",
    "from tkinter import *\n",
    "\n",
    "## 함수 선언 부분 ## \n",
    "def clickMouse(event) :\n",
    "    txt = \"\"\n",
    "    if event.num == 1 :\n",
    "        txt += \"마우스 왼쪽 버튼이 (\"\n",
    "    elif event.num == 2 :\n",
    "        txt += \"마우스 가운데  버튼이 (\"\n",
    "    elif event.num == 3 :\n",
    "        txt += \"마우스 오른쪽  버튼이 (\"\n",
    "\n",
    "    txt += str(event.y) + \",\" + str(event.x) + \")에서 클릭됨\"\n",
    "    label1.configure(text = txt)\n",
    "    \n",
    "#메인 코드 부분\n",
    "window = Tk()\n",
    "window.geometry(\"400x400\")\n",
    "\n",
    "label1 = Label(window, text=\"이곳이 바뀜\")\n",
    "\n",
    "window.bind(\"<Button>\", clickMouse)\n",
    "\n",
    "label1.pack(expand=1, anchor=CENTER)\n",
    "\n",
    "window.mainloop()\n"
   ]
  },
  {
   "attachments": {},
   "cell_type": "markdown",
   "metadata": {},
   "source": [
    "### #키보드 이벤트"
   ]
  },
  {
   "cell_type": "code",
   "execution_count": null,
   "metadata": {},
   "outputs": [],
   "source": [
    "# 눌린 키보드 키 표시하기\n",
    "from tkinter import *\n",
    "from tkinter import messagebox\n",
    "\n",
    "## 함수 선언 부분 ## \n",
    "def keyEvent(event) :\n",
    "    messagebox.showinfo(\"키보드 이벤트\", \"눌린 키: \" + chr(event.keycode))\n",
    "\n",
    "    \n",
    "## 메인 코드 부분\n",
    "window = Tk()\n",
    "\n",
    "window.bind(\"<Key>\", keyEvent)\n",
    "\n",
    "window.mainloop()\n"
   ]
  },
  {
   "attachments": {},
   "cell_type": "markdown",
   "metadata": {},
   "source": [
    "### 실습문제\n",
    "눌린키 (shift + 화살표키) 표시하기"
   ]
  },
  {
   "cell_type": "code",
   "execution_count": null,
   "metadata": {},
   "outputs": [],
   "source": [
    "# 눌린키 (shift + 화살표키) 표시하기\n",
    "from tkinter import *\n",
    "from tkinter import messagebox\n",
    "\n",
    "def keyEvent(event) :\n",
    "    txt = \"눌린 키 : Shift +  \"\n",
    "    if event.keycode == 37 :\n",
    "        txt += \"왼쪽 화살표\"\n",
    "    elif event.keycode == 38 :\n",
    "        txt += \"위쪽 화살표\"\n",
    "    elif event.keycode == 39 :\n",
    "        txt += \"오른쪽 화살표\"\n",
    "    elif event.keycode == 40:\n",
    "        txt += \"아래쪽 화살표\"        \n",
    "    messagebox.showinfo(\"키보드 이벤트\", txt)\n",
    "    \n",
    "## 메인 코드 부분\n",
    "window = Tk()\n",
    "\n",
    "window.bind(\"<Shift-Up>\",keyEvent)\n",
    "window.bind(\"<Shift-Down>\",keyEvent)\n",
    "window.bind(\"<Shift-Left>\",keyEvent)\n",
    "window.bind(\"<Shift-Right>\",keyEvent)\n",
    "\n",
    "window.mainloop()"
   ]
  },
  {
   "attachments": {},
   "cell_type": "markdown",
   "metadata": {},
   "source": [
    "----"
   ]
  },
  {
   "attachments": {},
   "cell_type": "markdown",
   "metadata": {},
   "source": [
    "## 04. 메뉴와 대화상자"
   ]
  },
  {
   "attachments": {},
   "cell_type": "markdown",
   "metadata": {},
   "source": [
    "### #메뉴 생성"
   ]
  },
  {
   "cell_type": "code",
   "execution_count": null,
   "metadata": {},
   "outputs": [],
   "source": [
    "from tkinter import *\n",
    "from tkinter import messagebox\n",
    "\n",
    "## 함수 선언 부분\n",
    "def func_open() :\n",
    "    messagebox.showinfo(\"메뉴선택\", \"열기 메뉴를 선택함\")\n",
    "\n",
    "def func_exit() :\n",
    "    window.quit() \n",
    "    #window.destroy()  \n",
    "\n",
    "\n",
    "## 메인 코드 부분\n",
    "window = Tk()\n",
    "\n",
    "mainMenu = Menu(window)\n",
    "window.config(menu = mainMenu)\n",
    "\n",
    "fileMenu = Menu(mainMenu)\n",
    "mainMenu.add_cascade(label = \"파일\", menu = fileMenu)\n",
    "fileMenu.add_command(label = \"열기\", command=func_open)\n",
    "fileMenu.add_separator()\n",
    "fileMenu.add_command(label = \"종료\", command=func_exit)\n",
    "\n",
    "window.mainloop()\n",
    "\n"
   ]
  },
  {
   "attachments": {},
   "cell_type": "markdown",
   "metadata": {},
   "source": [
    "### #대화상자"
   ]
  },
  {
   "cell_type": "code",
   "execution_count": 1,
   "metadata": {},
   "outputs": [],
   "source": [
    "#기본 대화상자\n",
    "from tkinter import *\n",
    "from tkinter.simpledialog import * \n",
    "\n",
    "## 메인 코드 부분\n",
    "window = Tk()\n",
    "window.geometry(\"400x400\")\n",
    "\n",
    "label1 = Label(window, text=\"입력된 값\")\n",
    "label1.pack()\n",
    "\n",
    "value = askinteger(\"확대배수\", \"주사위 숫자(1~6)을 입력하세요\",\n",
    "                   minvalue=1, maxvalue=6)\n",
    "\n",
    "label1.configure(text = str(value))\n",
    "\n",
    "window.mainloop()\n"
   ]
  },
  {
   "cell_type": "code",
   "execution_count": null,
   "metadata": {},
   "outputs": [],
   "source": [
    "# 그림파일 읽기\n",
    "from tkinter import *\n",
    "from tkinter.filedialog import * \n",
    "\n",
    "## 메인 코드 부분\n",
    "window = Tk()\n",
    "window.geometry(\"400x400\")\n",
    "\n",
    "label1 = Label(window, text=\"선택된 파일 이름\")\n",
    "label1.pack()\n",
    "\n",
    "#그림파일  선택(읽기)\n",
    "filename = askopenfile(parent=window, filetypes=((\"GIF 파일\", \"*.gif\"),\n",
    "               (\"모든 파일\",\"*.*\")))\n",
    "label1.configure(text = str(filename))\n",
    "window.mainloop()\n",
    "\n",
    "#그림파일 저장하기\n",
    "# saveFp = asksaveasfile(parent=window, mode=\"w\", defaultextension=\".jpg\",\n",
    "#                     filetypes=((\"JPG 파일\", \"*.jpg;*.jpeg\"),(\"모든 파일\",\"*.*\")))\n",
    "\n",
    "# label1.configure(text = saveFp)\n",
    "# saveFp.close()"
   ]
  },
  {
   "attachments": {},
   "cell_type": "markdown",
   "metadata": {},
   "source": [
    "### 실습문제\n",
    " - 명화 감상 윈도우 프로그램 만들기"
   ]
  },
  {
   "cell_type": "code",
   "execution_count": 1,
   "metadata": {},
   "outputs": [],
   "source": [
    "#명화 감상 윈도우 프로그램\n",
    "from tkinter import *\n",
    "from tkinter.filedialog import *\n",
    "\n",
    "## 함수 선언 부분 ##\n",
    "def func_open() :\n",
    "    filename = askopenfilename(parent = window,\n",
    "                        filetypes = ((\"GIF 파일\", \"*.gif\"), (\"모든 파일\", \"*.*\")))\n",
    "    photo = PhotoImage(file = filename)\n",
    "    pLabel.configure(image = photo)\n",
    "    pLabel.image = photo\n",
    "\n",
    "def func_exit() :\n",
    "    window.quit()\n",
    "    window.destroy()\n",
    "\n",
    "## 메인 코드  부분 ##\n",
    "window = Tk()\n",
    "window.geometry(\"400x400\")\n",
    "window.title(\"명화 감상하기\")\n",
    "\n",
    "photo = PhotoImage()\n",
    "pLabel = Label(window, image = photo)\n",
    "pLabel.pack(expand=1, anchor = CENTER)\n",
    "\n",
    "mainMenu = Menu(window)\n",
    "window.config(menu = mainMenu)\n",
    "fileMenu = Menu(mainMenu)\n",
    "mainMenu.add_cascade(label = \"파일\", menu = fileMenu)\n",
    "fileMenu.add_command(label = \"파일 열기\", command = func_open)\n",
    "fileMenu.add_separator()\n",
    "fileMenu.add_command(label = \"프로그램 종료\", command = func_exit)\n",
    "\n",
    "window.mainloop()"
   ]
  },
  {
   "cell_type": "code",
   "execution_count": 3,
   "metadata": {
    "scrolled": true
   },
   "outputs": [
    {
     "ename": "KeyboardInterrupt",
     "evalue": "",
     "output_type": "error",
     "traceback": [
      "\u001b[1;31m---------------------------------------------------------------------------\u001b[0m",
      "\u001b[1;31mKeyboardInterrupt\u001b[0m                         Traceback (most recent call last)",
      "Input \u001b[1;32mIn [3]\u001b[0m, in \u001b[0;36m<cell line: 44>\u001b[1;34m()\u001b[0m\n\u001b[0;32m     41\u001b[0m     window\u001b[38;5;241m.\u001b[39mmainloop()\n\u001b[0;32m     44\u001b[0m \u001b[38;5;28;01mif\u001b[39;00m \u001b[38;5;18m__name__\u001b[39m \u001b[38;5;241m==\u001b[39m \u001b[38;5;124m\"\u001b[39m\u001b[38;5;124m__main__\u001b[39m\u001b[38;5;124m\"\u001b[39m:\n\u001b[1;32m---> 45\u001b[0m     \u001b[43mmain\u001b[49m\u001b[43m(\u001b[49m\u001b[43m)\u001b[49m\n",
      "Input \u001b[1;32mIn [3]\u001b[0m, in \u001b[0;36mmain\u001b[1;34m()\u001b[0m\n\u001b[0;32m     39\u001b[0m window \u001b[38;5;241m=\u001b[39m Tk()\n\u001b[0;32m     40\u001b[0m MainApp(window)\n\u001b[1;32m---> 41\u001b[0m \u001b[43mwindow\u001b[49m\u001b[38;5;241;43m.\u001b[39;49m\u001b[43mmainloop\u001b[49m\u001b[43m(\u001b[49m\u001b[43m)\u001b[49m\n",
      "File \u001b[1;32mC:\\python\\Python39\\lib\\tkinter\\__init__.py:1429\u001b[0m, in \u001b[0;36mMisc.mainloop\u001b[1;34m(self, n)\u001b[0m\n\u001b[0;32m   1427\u001b[0m \u001b[38;5;28;01mdef\u001b[39;00m \u001b[38;5;21mmainloop\u001b[39m(\u001b[38;5;28mself\u001b[39m, n\u001b[38;5;241m=\u001b[39m\u001b[38;5;241m0\u001b[39m):\n\u001b[0;32m   1428\u001b[0m     \u001b[38;5;124;03m\"\"\"Call the mainloop of Tk.\"\"\"\u001b[39;00m\n\u001b[1;32m-> 1429\u001b[0m     \u001b[38;5;28;43mself\u001b[39;49m\u001b[38;5;241;43m.\u001b[39;49m\u001b[43mtk\u001b[49m\u001b[38;5;241;43m.\u001b[39;49m\u001b[43mmainloop\u001b[49m\u001b[43m(\u001b[49m\u001b[43mn\u001b[49m\u001b[43m)\u001b[49m\n",
      "\u001b[1;31mKeyboardInterrupt\u001b[0m: "
     ]
    }
   ],
   "source": [
    "from tkinter import *\n",
    " \n",
    "class MainApp():\n",
    "    def __init__(self, master):\n",
    "        self.master = master\n",
    "        # 위젯정의\n",
    "        self.btn1 = Button(text=\"버튼 Disable\", command=self.changeMain)\n",
    "        self.btn2 = Button(text=\"서브창 실행\", command=self.newWindow)\n",
    "        # 위젯배치\n",
    "        self.btn1.grid(row=0, sticky=\"EW\")\n",
    "        self.btn2.grid(row=2, sticky=\"EW\")\n",
    " \n",
    "    def changeMain(self):\n",
    "        self.btn1[\"text\"]=\"변경완료\"\n",
    "        self.btn1.config(state=DISABLED)\n",
    " \n",
    "    def newWindow(self):\n",
    "        self.master.withdraw()\n",
    "        self.newWindow = Toplevel(self.master)\n",
    "        Sub = SubApp(self.newWindow)\n",
    "        \n",
    "class SubApp():\n",
    "    def __init__(self, slave):\n",
    "        self.slave = slave\n",
    "        # 메인 컨테이너(프레임) 생성 및 배치\n",
    "        menuF = Frame(self.slave, bg='gray', width=100)\n",
    "        mainF = Frame(self.slave, bg='white', width=500, height=500)\n",
    "        menuF.grid(row=0, column=0, sticky=\"nsew\")\n",
    "        mainF.grid(row=0, column=1, sticky=\"nsew\")\n",
    "        # 프레임에 버튼 및 Text 위젯 추가\n",
    "        Button(menuF, text=\"서브버튼1\", command=self.changeSub).grid(row=0, column=0)\n",
    "        self.txt1 = Text(mainF)\n",
    "        self.txt1.grid(row=0)\n",
    " \n",
    "    def changeSub(self):\n",
    "        self.txt1.insert(END, \"Hello \\n\")\n",
    "        \n",
    "def main():\n",
    "    window = Tk()\n",
    "    MainApp(window)\n",
    "    window.mainloop()\n",
    "    \n",
    "    \n",
    "if __name__ == \"__main__\":\n",
    "    main()"
   ]
  },
  {
   "cell_type": "code",
   "execution_count": null,
   "metadata": {},
   "outputs": [],
   "source": []
  }
 ],
 "metadata": {
  "kernelspec": {
   "display_name": "Python 3",
   "language": "python",
   "name": "python3"
  },
  "language_info": {
   "codemirror_mode": {
    "name": "ipython",
    "version": 3
   },
   "file_extension": ".py",
   "mimetype": "text/x-python",
   "name": "python",
   "nbconvert_exporter": "python",
   "pygments_lexer": "ipython3",
   "version": "3.10.9"
  }
 },
 "nbformat": 4,
 "nbformat_minor": 4
}
