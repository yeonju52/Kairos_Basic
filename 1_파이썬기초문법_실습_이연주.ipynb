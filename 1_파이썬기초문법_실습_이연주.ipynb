{
  "cells": [
    {
      "cell_type": "markdown",
      "metadata": {
        "id": "dmKU-5iOkeLS"
      },
      "source": [
        "# 1. 파이썬 기초 문법"
      ]
    },
    {
      "cell_type": "markdown",
      "metadata": {
        "id": "d9dW6kUik5zy"
      },
      "source": [
        "## 1-1. 파이썬 소개 및 환경설정"
      ]
    },
    {
      "cell_type": "markdown",
      "metadata": {
        "id": "Rg7wM4ioln5i"
      },
      "source": [
        "### 1) 파이썬 라이브러리 사용 방법"
      ]
    },
    {
      "cell_type": "markdown",
      "metadata": {
        "id": "ybitq5NDn5Vd"
      },
      "source": [
        "- **파이썬 정보 확인하기**"
      ]
    },
    {
      "cell_type": "code",
      "execution_count": 1,
      "metadata": {
        "id": "vD8MIsi7kNo7",
        "colab": {
          "base_uri": "https://localhost:8080/"
        },
        "outputId": "96dec724-54a4-4ade-9cc3-2a59e3967213"
      },
      "outputs": [
        {
          "output_type": "stream",
          "name": "stdout",
          "text": [
            "파이썬 버전: 3.10.12 (main, Nov 20 2023, 15:14:05) [GCC 11.4.0]\n",
            "파이썬 실행파일 위치: /usr/bin/python3\n",
            "파이썬 관련 Path: ['/content', '/env/python', '/usr/lib/python310.zip', '/usr/lib/python3.10', '/usr/lib/python3.10/lib-dynload', '', '/usr/local/lib/python3.10/dist-packages', '/usr/lib/python3/dist-packages', '/usr/local/lib/python3.10/dist-packages/IPython/extensions', '/root/.ipython']\n"
          ]
        }
      ],
      "source": [
        "import sys\n",
        "\n",
        "print('파이썬 버전:' , sys.version)\n",
        "print('파이썬 실행파일 위치:' , sys.executable)\n",
        "print('파이썬 관련 Path:' , sys.path)"
      ]
    },
    {
      "cell_type": "markdown",
      "metadata": {
        "id": "-XLC19-coD_6"
      },
      "source": [
        "- **설치된 파이썬 라이브러리 확인(전체)**"
      ]
    },
    {
      "cell_type": "code",
      "execution_count": 2,
      "metadata": {
        "id": "M1EYkpqmoT4T",
        "colab": {
          "base_uri": "https://localhost:8080/"
        },
        "outputId": "23e9d468-9c94-45ea-bb7f-5ea76da49d02"
      },
      "outputs": [
        {
          "output_type": "stream",
          "name": "stdout",
          "text": [
            "Package                          Version\n",
            "-------------------------------- ---------------------\n",
            "absl-py                          1.4.0\n",
            "aiohttp                          3.9.1\n",
            "aiosignal                        1.3.1\n",
            "alabaster                        0.7.13\n",
            "albumentations                   1.3.1\n",
            "altair                           4.2.2\n",
            "anyio                            3.7.1\n",
            "appdirs                          1.4.4\n",
            "argon2-cffi                      23.1.0\n",
            "argon2-cffi-bindings             21.2.0\n",
            "array-record                     0.5.0\n",
            "arviz                            0.15.1\n",
            "astropy                          5.3.4\n",
            "astunparse                       1.6.3\n",
            "async-timeout                    4.0.3\n",
            "atpublic                         4.0\n",
            "attrs                            23.1.0\n",
            "audioread                        3.0.1\n",
            "autograd                         1.6.2\n",
            "Babel                            2.14.0\n",
            "backcall                         0.2.0\n",
            "beautifulsoup4                   4.11.2\n",
            "bidict                           0.22.1\n",
            "bigframes                        0.17.0\n",
            "bleach                           6.1.0\n",
            "blinker                          1.4\n",
            "blis                             0.7.11\n",
            "blosc2                           2.0.0\n",
            "bokeh                            3.3.2\n",
            "bqplot                           0.12.42\n",
            "branca                           0.7.0\n",
            "build                            1.0.3\n",
            "CacheControl                     0.13.1\n",
            "cachetools                       5.3.2\n",
            "catalogue                        2.0.10\n",
            "certifi                          2023.11.17\n",
            "cffi                             1.16.0\n",
            "chardet                          5.2.0\n",
            "charset-normalizer               3.3.2\n",
            "chex                             0.1.7\n",
            "click                            8.1.7\n",
            "click-plugins                    1.1.1\n",
            "cligj                            0.7.2\n",
            "cloudpickle                      2.2.1\n",
            "cmake                            3.27.9\n",
            "cmdstanpy                        1.2.0\n",
            "colorcet                         3.0.1\n",
            "colorlover                       0.3.0\n",
            "colour                           0.1.5\n",
            "community                        1.0.0b1\n",
            "confection                       0.1.4\n",
            "cons                             0.4.6\n",
            "contextlib2                      21.6.0\n",
            "contourpy                        1.2.0\n",
            "cryptography                     41.0.7\n",
            "cufflinks                        0.17.3\n",
            "cupy-cuda12x                     12.2.0\n",
            "cvxopt                           1.3.2\n",
            "cvxpy                            1.3.2\n",
            "cycler                           0.12.1\n",
            "cymem                            2.0.8\n",
            "Cython                           3.0.7\n",
            "dask                             2023.8.1\n",
            "datascience                      0.17.6\n",
            "db-dtypes                        1.2.0\n",
            "dbus-python                      1.2.18\n",
            "debugpy                          1.6.6\n",
            "decorator                        4.4.2\n",
            "defusedxml                       0.7.1\n",
            "diskcache                        5.6.3\n",
            "distributed                      2023.8.1\n",
            "distro                           1.7.0\n",
            "dlib                             19.24.2\n",
            "dm-tree                          0.1.8\n",
            "docutils                         0.18.1\n",
            "dopamine-rl                      4.0.6\n",
            "duckdb                           0.9.2\n",
            "earthengine-api                  0.1.384\n",
            "easydict                         1.11\n",
            "ecos                             2.0.12\n",
            "editdistance                     0.6.2\n",
            "eerepr                           0.0.4\n",
            "en-core-web-sm                   3.6.0\n",
            "entrypoints                      0.4\n",
            "et-xmlfile                       1.1.0\n",
            "etils                            1.6.0\n",
            "etuples                          0.3.9\n",
            "exceptiongroup                   1.2.0\n",
            "fastai                           2.7.13\n",
            "fastcore                         1.5.29\n",
            "fastdownload                     0.0.7\n",
            "fastjsonschema                   2.19.0\n",
            "fastprogress                     1.0.3\n",
            "fastrlock                        0.8.2\n",
            "filelock                         3.13.1\n",
            "fiona                            1.9.5\n",
            "firebase-admin                   5.3.0\n",
            "Flask                            2.2.5\n",
            "flatbuffers                      23.5.26\n",
            "flax                             0.7.5\n",
            "folium                           0.14.0\n",
            "fonttools                        4.47.0\n",
            "frozendict                       2.3.10\n",
            "frozenlist                       1.4.1\n",
            "fsspec                           2023.6.0\n",
            "future                           0.18.3\n",
            "gast                             0.5.4\n",
            "gcsfs                            2023.6.0\n",
            "GDAL                             3.4.3\n",
            "gdown                            4.6.6\n",
            "geemap                           0.29.6\n",
            "gensim                           4.3.2\n",
            "geocoder                         1.38.1\n",
            "geographiclib                    2.0\n",
            "geopandas                        0.13.2\n",
            "geopy                            2.3.0\n",
            "gin-config                       0.5.0\n",
            "glob2                            0.7\n",
            "google                           2.0.3\n",
            "google-ai-generativelanguage     0.4.0\n",
            "google-api-core                  2.11.1\n",
            "google-api-python-client         2.84.0\n",
            "google-auth                      2.17.3\n",
            "google-auth-httplib2             0.1.1\n",
            "google-auth-oauthlib             1.2.0\n",
            "google-cloud-aiplatform          1.38.1\n",
            "google-cloud-bigquery            3.12.0\n",
            "google-cloud-bigquery-connection 1.12.1\n",
            "google-cloud-bigquery-storage    2.24.0\n",
            "google-cloud-core                2.3.3\n",
            "google-cloud-datastore           2.15.2\n",
            "google-cloud-firestore           2.11.1\n",
            "google-cloud-functions           1.13.3\n",
            "google-cloud-iam                 2.13.0\n",
            "google-cloud-language            2.9.1\n",
            "google-cloud-resource-manager    1.11.0\n",
            "google-cloud-storage             2.8.0\n",
            "google-cloud-translate           3.11.3\n",
            "google-colab                     1.0.0\n",
            "google-crc32c                    1.5.0\n",
            "google-generativeai              0.3.2\n",
            "google-pasta                     0.2.0\n",
            "google-resumable-media           2.7.0\n",
            "googleapis-common-protos         1.62.0\n",
            "googledrivedownloader            0.4\n",
            "graphviz                         0.20.1\n",
            "greenlet                         3.0.2\n",
            "grpc-google-iam-v1               0.13.0\n",
            "grpcio                           1.60.0\n",
            "grpcio-status                    1.48.2\n",
            "gspread                          3.4.2\n",
            "gspread-dataframe                3.3.1\n",
            "gym                              0.25.2\n",
            "gym-notices                      0.0.8\n",
            "h5netcdf                         1.3.0\n",
            "h5py                             3.9.0\n",
            "holidays                         0.39\n",
            "holoviews                        1.17.1\n",
            "html5lib                         1.1\n",
            "httpimport                       1.3.1\n",
            "httplib2                         0.22.0\n",
            "huggingface-hub                  0.20.1\n",
            "humanize                         4.7.0\n",
            "hyperopt                         0.2.7\n",
            "ibis-framework                   6.2.0\n",
            "idna                             3.6\n",
            "imageio                          2.31.6\n",
            "imageio-ffmpeg                   0.4.9\n",
            "imagesize                        1.4.1\n",
            "imbalanced-learn                 0.10.1\n",
            "imgaug                           0.4.0\n",
            "importlib-metadata               7.0.0\n",
            "importlib-resources              6.1.1\n",
            "imutils                          0.5.4\n",
            "inflect                          7.0.0\n",
            "iniconfig                        2.0.0\n",
            "install                          1.3.5\n",
            "intel-openmp                     2023.2.3\n",
            "ipyevents                        2.0.2\n",
            "ipyfilechooser                   0.6.0\n",
            "ipykernel                        5.5.6\n",
            "ipyleaflet                       0.18.1\n",
            "ipython                          7.34.0\n",
            "ipython-genutils                 0.2.0\n",
            "ipython-sql                      0.5.0\n",
            "ipytree                          0.2.2\n",
            "ipywidgets                       7.7.1\n",
            "itsdangerous                     2.1.2\n",
            "jax                              0.4.23\n",
            "jaxlib                           0.4.23+cuda12.cudnn89\n",
            "jeepney                          0.7.1\n",
            "jieba                            0.42.1\n",
            "Jinja2                           3.1.2\n",
            "joblib                           1.3.2\n",
            "jsonpickle                       3.0.2\n",
            "jsonschema                       4.19.2\n",
            "jsonschema-specifications        2023.11.2\n",
            "jupyter-client                   6.1.12\n",
            "jupyter-console                  6.1.0\n",
            "jupyter_core                     5.5.1\n",
            "jupyter-server                   1.24.0\n",
            "jupyterlab_pygments              0.3.0\n",
            "jupyterlab-widgets               3.0.9\n",
            "kaggle                           1.5.16\n",
            "kagglehub                        0.1.4\n",
            "keras                            2.15.0\n",
            "keyring                          23.5.0\n",
            "kiwisolver                       1.4.5\n",
            "langcodes                        3.3.0\n",
            "launchpadlib                     1.10.16\n",
            "lazr.restfulclient               0.14.4\n",
            "lazr.uri                         1.0.6\n",
            "lazy_loader                      0.3\n",
            "libclang                         16.0.6\n",
            "librosa                          0.10.1\n",
            "lida                             0.0.10\n",
            "lightgbm                         4.1.0\n",
            "linkify-it-py                    2.0.2\n",
            "llmx                             0.0.15a0\n",
            "llvmlite                         0.41.1\n",
            "locket                           1.0.0\n",
            "logical-unification              0.4.6\n",
            "lxml                             4.9.4\n",
            "malloy                           2023.1067\n",
            "Markdown                         3.5.1\n",
            "markdown-it-py                   3.0.0\n",
            "MarkupSafe                       2.1.3\n",
            "matplotlib                       3.7.1\n",
            "matplotlib-inline                0.1.6\n",
            "matplotlib-venn                  0.11.9\n",
            "mdit-py-plugins                  0.4.0\n",
            "mdurl                            0.1.2\n",
            "miniKanren                       1.0.3\n",
            "missingno                        0.5.2\n",
            "mistune                          0.8.4\n",
            "mizani                           0.9.3\n",
            "mkl                              2023.2.0\n",
            "ml-dtypes                        0.2.0\n",
            "mlxtend                          0.22.0\n",
            "more-itertools                   10.1.0\n",
            "moviepy                          1.0.3\n",
            "mpmath                           1.3.0\n",
            "msgpack                          1.0.7\n",
            "multidict                        6.0.4\n",
            "multipledispatch                 1.0.0\n",
            "multitasking                     0.0.11\n",
            "murmurhash                       1.0.10\n",
            "music21                          9.1.0\n",
            "natsort                          8.4.0\n",
            "nbclassic                        1.0.0\n",
            "nbclient                         0.9.0\n",
            "nbconvert                        6.5.4\n",
            "nbformat                         5.9.2\n",
            "nest-asyncio                     1.5.8\n",
            "networkx                         3.2.1\n",
            "nibabel                          4.0.2\n",
            "nltk                             3.8.1\n",
            "notebook                         6.5.5\n",
            "notebook_shim                    0.2.3\n",
            "numba                            0.58.1\n",
            "numexpr                          2.8.8\n",
            "numpy                            1.23.5\n",
            "oauth2client                     4.1.3\n",
            "oauthlib                         3.2.2\n",
            "opencv-contrib-python            4.8.0.76\n",
            "opencv-python                    4.8.0.76\n",
            "opencv-python-headless           4.8.1.78\n",
            "openpyxl                         3.1.2\n",
            "opt-einsum                       3.3.0\n",
            "optax                            0.1.7\n",
            "orbax-checkpoint                 0.4.4\n",
            "osqp                             0.6.2.post8\n",
            "packaging                        23.2\n",
            "pandas                           1.5.3\n",
            "pandas-datareader                0.10.0\n",
            "pandas-gbq                       0.19.2\n",
            "pandas-stubs                     1.5.3.230304\n",
            "pandocfilters                    1.5.0\n",
            "panel                            1.3.6\n",
            "param                            2.0.1\n",
            "parso                            0.8.3\n",
            "parsy                            2.1\n",
            "partd                            1.4.1\n",
            "pathlib                          1.0.1\n",
            "pathy                            0.10.3\n",
            "patsy                            0.5.4\n",
            "peewee                           3.17.0\n",
            "pexpect                          4.9.0\n",
            "pickleshare                      0.7.5\n",
            "Pillow                           9.4.0\n",
            "pip                              23.1.2\n",
            "pip-tools                        6.13.0\n",
            "platformdirs                     4.1.0\n",
            "plotly                           5.15.0\n",
            "plotnine                         0.12.4\n",
            "pluggy                           1.3.0\n",
            "polars                           0.17.3\n",
            "pooch                            1.8.0\n",
            "portpicker                       1.5.2\n",
            "prefetch-generator               1.0.3\n",
            "preshed                          3.0.9\n",
            "prettytable                      3.9.0\n",
            "proglog                          0.1.10\n",
            "progressbar2                     4.2.0\n",
            "prometheus-client                0.19.0\n",
            "promise                          2.3\n",
            "prompt-toolkit                   3.0.43\n",
            "prophet                          1.1.5\n",
            "proto-plus                       1.23.0\n",
            "protobuf                         3.20.3\n",
            "psutil                           5.9.5\n",
            "psycopg2                         2.9.9\n",
            "ptyprocess                       0.7.0\n",
            "py-cpuinfo                       9.0.0\n",
            "py4j                             0.10.9.7\n",
            "pyarrow                          10.0.1\n",
            "pyasn1                           0.5.1\n",
            "pyasn1-modules                   0.3.0\n",
            "pycocotools                      2.0.7\n",
            "pycparser                        2.21\n",
            "pyct                             0.5.0\n",
            "pydantic                         1.10.13\n",
            "pydata-google-auth               1.8.2\n",
            "pydot                            1.4.2\n",
            "pydot-ng                         2.0.0\n",
            "pydotplus                        2.0.2\n",
            "PyDrive                          1.3.1\n",
            "PyDrive2                         1.6.3\n",
            "pyerfa                           2.0.1.1\n",
            "pygame                           2.5.2\n",
            "Pygments                         2.16.1\n",
            "PyGObject                        3.42.1\n",
            "PyJWT                            2.3.0\n",
            "pymc                             5.7.2\n",
            "pymystem3                        0.2.0\n",
            "PyOpenGL                         3.1.7\n",
            "pyOpenSSL                        23.3.0\n",
            "pyparsing                        3.1.1\n",
            "pyperclip                        1.8.2\n",
            "pyproj                           3.6.1\n",
            "pyproject_hooks                  1.0.0\n",
            "pyshp                            2.3.1\n",
            "PySocks                          1.7.1\n",
            "pytensor                         2.14.2\n",
            "pytest                           7.4.3\n",
            "python-apt                       0.0.0\n",
            "python-box                       7.1.1\n",
            "python-dateutil                  2.8.2\n",
            "python-louvain                   0.16\n",
            "python-slugify                   8.0.1\n",
            "python-utils                     3.8.1\n",
            "pytz                             2023.3.post1\n",
            "pyviz_comms                      3.0.0\n",
            "PyWavelets                       1.5.0\n",
            "PyYAML                           6.0.1\n",
            "pyzmq                            23.2.1\n",
            "qdldl                            0.1.7.post0\n",
            "qudida                           0.0.4\n",
            "ratelim                          0.1.6\n",
            "referencing                      0.32.0\n",
            "regex                            2023.6.3\n",
            "requests                         2.31.0\n",
            "requests-oauthlib                1.3.1\n",
            "requirements-parser              0.5.0\n",
            "rich                             13.7.0\n",
            "rpds-py                          0.15.2\n",
            "rpy2                             3.4.2\n",
            "rsa                              4.9\n",
            "safetensors                      0.4.1\n",
            "scikit-image                     0.19.3\n",
            "scikit-learn                     1.2.2\n",
            "scipy                            1.11.4\n",
            "scooby                           0.9.2\n",
            "scs                              3.2.4.post1\n",
            "seaborn                          0.12.2\n",
            "SecretStorage                    3.3.1\n",
            "Send2Trash                       1.8.2\n",
            "setuptools                       67.7.2\n",
            "shapely                          2.0.2\n",
            "six                              1.16.0\n",
            "sklearn-pandas                   2.2.0\n",
            "smart-open                       6.4.0\n",
            "sniffio                          1.3.0\n",
            "snowballstemmer                  2.2.0\n",
            "sortedcontainers                 2.4.0\n",
            "soundfile                        0.12.1\n",
            "soupsieve                        2.5\n",
            "soxr                             0.3.7\n",
            "spacy                            3.6.1\n",
            "spacy-legacy                     3.0.12\n",
            "spacy-loggers                    1.0.5\n",
            "Sphinx                           5.0.2\n",
            "sphinxcontrib-applehelp          1.0.7\n",
            "sphinxcontrib-devhelp            1.0.5\n",
            "sphinxcontrib-htmlhelp           2.0.4\n",
            "sphinxcontrib-jsmath             1.0.1\n",
            "sphinxcontrib-qthelp             1.0.6\n",
            "sphinxcontrib-serializinghtml    1.1.9\n",
            "SQLAlchemy                       2.0.23\n",
            "sqlglot                          17.16.2\n",
            "sqlparse                         0.4.4\n",
            "srsly                            2.4.8\n",
            "stanio                           0.3.0\n",
            "statsmodels                      0.14.1\n",
            "sympy                            1.12\n",
            "tables                           3.8.0\n",
            "tabulate                         0.9.0\n",
            "tbb                              2021.11.0\n",
            "tblib                            3.0.0\n",
            "tenacity                         8.2.3\n",
            "tensorboard                      2.15.1\n",
            "tensorboard-data-server          0.7.2\n",
            "tensorflow                       2.15.0\n",
            "tensorflow-datasets              4.9.4\n",
            "tensorflow-estimator             2.15.0\n",
            "tensorflow-gcs-config            2.15.0\n",
            "tensorflow-hub                   0.15.0\n",
            "tensorflow-io-gcs-filesystem     0.35.0\n",
            "tensorflow-metadata              1.14.0\n",
            "tensorflow-probability           0.22.0\n",
            "tensorstore                      0.1.45\n",
            "termcolor                        2.4.0\n",
            "terminado                        0.18.0\n",
            "text-unidecode                   1.3\n",
            "textblob                         0.17.1\n",
            "tf-slim                          1.1.0\n",
            "thinc                            8.1.12\n",
            "threadpoolctl                    3.2.0\n",
            "tifffile                         2023.12.9\n",
            "tinycss2                         1.2.1\n",
            "tokenizers                       0.15.0\n",
            "toml                             0.10.2\n",
            "tomli                            2.0.1\n",
            "toolz                            0.12.0\n",
            "torch                            2.1.0+cu121\n",
            "torchaudio                       2.1.0+cu121\n",
            "torchdata                        0.7.0\n",
            "torchsummary                     1.5.1\n",
            "torchtext                        0.16.0\n",
            "torchvision                      0.16.0+cu121\n",
            "tornado                          6.3.2\n",
            "tqdm                             4.66.1\n",
            "traitlets                        5.7.1\n",
            "traittypes                       0.2.1\n",
            "transformers                     4.35.2\n",
            "triton                           2.1.0\n",
            "tweepy                           4.14.0\n",
            "typer                            0.9.0\n",
            "types-pytz                       2023.3.1.1\n",
            "types-setuptools                 69.0.0.0\n",
            "typing_extensions                4.5.0\n",
            "tzlocal                          5.2\n",
            "uc-micro-py                      1.0.2\n",
            "uritemplate                      4.1.1\n",
            "urllib3                          2.0.7\n",
            "vega-datasets                    0.9.0\n",
            "wadllib                          1.3.6\n",
            "wasabi                           1.1.2\n",
            "wcwidth                          0.2.12\n",
            "webcolors                        1.13\n",
            "webencodings                     0.5.1\n",
            "websocket-client                 1.7.0\n",
            "Werkzeug                         3.0.1\n",
            "wheel                            0.42.0\n",
            "widgetsnbextension               3.6.6\n",
            "wordcloud                        1.9.3\n",
            "wrapt                            1.14.1\n",
            "xarray                           2023.7.0\n",
            "xarray-einstats                  0.6.0\n",
            "xgboost                          2.0.3\n",
            "xlrd                             2.0.1\n",
            "xxhash                           3.4.1\n",
            "xyzservices                      2023.10.1\n",
            "yarl                             1.9.4\n",
            "yellowbrick                      1.5\n",
            "yfinance                         0.2.33\n",
            "zict                             3.0.0\n",
            "zipp                             3.17.0\n"
          ]
        }
      ],
      "source": [
        "!pip list"
      ]
    },
    {
      "cell_type": "markdown",
      "metadata": {
        "id": "FjHYYO_DoUL3"
      },
      "source": [
        "- **설치된 파이썬 라이브러리 확인(특정한 라이브러리)**"
      ]
    },
    {
      "cell_type": "code",
      "execution_count": 3,
      "metadata": {
        "id": "9MViFeSPoUXO",
        "colab": {
          "base_uri": "https://localhost:8080/"
        },
        "outputId": "98384cfb-89ed-4e89-f5c0-dea60c3ba1c8"
      },
      "outputs": [
        {
          "output_type": "stream",
          "name": "stdout",
          "text": [
            "Name: numpy\n",
            "Version: 1.23.5\n",
            "Summary: NumPy is the fundamental package for array computing with Python.\n",
            "Home-page: https://www.numpy.org\n",
            "Author: Travis E. Oliphant et al.\n",
            "Author-email: \n",
            "License: BSD\n",
            "Location: /usr/local/lib/python3.10/dist-packages\n",
            "Requires: \n",
            "Required-by: albumentations, altair, arviz, astropy, autograd, blis, bokeh, bqplot, chex, cmdstanpy, contourpy, cufflinks, cupy-cuda12x, cvxpy, datascience, db-dtypes, dopamine-rl, ecos, flax, folium, geemap, gensim, gym, h5py, holoviews, hyperopt, ibis-framework, imageio, imbalanced-learn, imgaug, jax, jaxlib, librosa, lida, lightgbm, matplotlib, matplotlib-venn, missingno, mizani, ml-dtypes, mlxtend, moviepy, music21, nibabel, numba, numexpr, opencv-contrib-python, opencv-python, opencv-python-headless, opt-einsum, optax, orbax-checkpoint, osqp, pandas, pandas-gbq, patsy, plotnine, prophet, pyarrow, pycocotools, pyerfa, pymc, pytensor, python-louvain, PyWavelets, qdldl, qudida, scikit-image, scikit-learn, scipy, scs, seaborn, shapely, sklearn-pandas, soxr, spacy, stanio, statsmodels, tables, tensorboard, tensorflow, tensorflow-datasets, tensorflow-hub, tensorflow-probability, tensorstore, thinc, tifffile, torchtext, torchvision, transformers, wordcloud, xarray, xarray-einstats, xgboost, yellowbrick, yfinance\n"
          ]
        }
      ],
      "source": [
        "!pip show numpy"
      ]
    },
    {
      "cell_type": "markdown",
      "metadata": {
        "id": "A_scKVnNpEng"
      },
      "source": [
        "- **파이썬 라이브러리 삭제하기**"
      ]
    },
    {
      "cell_type": "code",
      "execution_count": 4,
      "metadata": {
        "id": "rPLoMtclpEAs"
      },
      "outputs": [],
      "source": [
        "# !pip uninstall numpy"
      ]
    },
    {
      "cell_type": "markdown",
      "metadata": {
        "id": "xxZVgqNeoUms"
      },
      "source": [
        "- **파이썬 라이브러리 설치하기**"
      ]
    },
    {
      "cell_type": "code",
      "execution_count": 5,
      "metadata": {
        "id": "YRWXUTbdpZu7"
      },
      "outputs": [],
      "source": [
        "# !pip show numpy"
      ]
    },
    {
      "cell_type": "markdown",
      "metadata": {
        "id": "9y64JOE7lvmg"
      },
      "source": [
        "### **[미션]** 파이썬 정보 확인하기"
      ]
    },
    {
      "cell_type": "markdown",
      "metadata": {
        "id": "OjbwCCmpmA4M"
      },
      "source": [
        "\n",
        "\n",
        "1.   파이썬 버전 확인하는 명령어는?\n",
        "\n"
      ]
    },
    {
      "cell_type": "code",
      "execution_count": 6,
      "metadata": {
        "id": "7T7h_MG6mUrA",
        "colab": {
          "base_uri": "https://localhost:8080/"
        },
        "outputId": "55f8c7d5-c224-468f-9eb3-6e37e9168441"
      },
      "outputs": [
        {
          "output_type": "stream",
          "name": "stdout",
          "text": [
            "3.10.12 (main, Nov 20 2023, 15:14:05) [GCC 11.4.0]\n"
          ]
        }
      ],
      "source": [
        "import sys\n",
        "print(sys.version)"
      ]
    },
    {
      "cell_type": "markdown",
      "metadata": {
        "id": "3sLxUxhEmGGK"
      },
      "source": [
        "2. 파이썬 실행 파일 또는 설치 위치 확인하는 명령어는?"
      ]
    },
    {
      "cell_type": "code",
      "execution_count": 7,
      "metadata": {
        "id": "pq-hWEbDmVCV",
        "colab": {
          "base_uri": "https://localhost:8080/"
        },
        "outputId": "4a8ed2a3-4bd6-4e99-c6d2-bd23f98d2289"
      },
      "outputs": [
        {
          "output_type": "stream",
          "name": "stdout",
          "text": [
            "/usr/bin/python3\n"
          ]
        }
      ],
      "source": [
        "print(sys.executable)"
      ]
    },
    {
      "cell_type": "markdown",
      "metadata": {
        "id": "UnQphcEdmORF"
      },
      "source": [
        "3. 설치된 파이썬 라이브러리 목록 확인하는 명령어는?"
      ]
    },
    {
      "cell_type": "code",
      "execution_count": 8,
      "metadata": {
        "id": "lxuh0G9_mVhJ",
        "colab": {
          "base_uri": "https://localhost:8080/"
        },
        "outputId": "4cff19b7-73e2-4641-c59f-05882b792118"
      },
      "outputs": [
        {
          "output_type": "stream",
          "name": "stdout",
          "text": [
            "Package                          Version\n",
            "-------------------------------- ---------------------\n",
            "absl-py                          1.4.0\n",
            "aiohttp                          3.9.1\n",
            "aiosignal                        1.3.1\n",
            "alabaster                        0.7.13\n",
            "albumentations                   1.3.1\n",
            "altair                           4.2.2\n",
            "anyio                            3.7.1\n",
            "appdirs                          1.4.4\n",
            "argon2-cffi                      23.1.0\n",
            "argon2-cffi-bindings             21.2.0\n",
            "array-record                     0.5.0\n",
            "arviz                            0.15.1\n",
            "astropy                          5.3.4\n",
            "astunparse                       1.6.3\n",
            "async-timeout                    4.0.3\n",
            "atpublic                         4.0\n",
            "attrs                            23.1.0\n",
            "audioread                        3.0.1\n",
            "autograd                         1.6.2\n",
            "Babel                            2.14.0\n",
            "backcall                         0.2.0\n",
            "beautifulsoup4                   4.11.2\n",
            "bidict                           0.22.1\n",
            "bigframes                        0.17.0\n",
            "bleach                           6.1.0\n",
            "blinker                          1.4\n",
            "blis                             0.7.11\n",
            "blosc2                           2.0.0\n",
            "bokeh                            3.3.2\n",
            "bqplot                           0.12.42\n",
            "branca                           0.7.0\n",
            "build                            1.0.3\n",
            "CacheControl                     0.13.1\n",
            "cachetools                       5.3.2\n",
            "catalogue                        2.0.10\n",
            "certifi                          2023.11.17\n",
            "cffi                             1.16.0\n",
            "chardet                          5.2.0\n",
            "charset-normalizer               3.3.2\n",
            "chex                             0.1.7\n",
            "click                            8.1.7\n",
            "click-plugins                    1.1.1\n",
            "cligj                            0.7.2\n",
            "cloudpickle                      2.2.1\n",
            "cmake                            3.27.9\n",
            "cmdstanpy                        1.2.0\n",
            "colorcet                         3.0.1\n",
            "colorlover                       0.3.0\n",
            "colour                           0.1.5\n",
            "community                        1.0.0b1\n",
            "confection                       0.1.4\n",
            "cons                             0.4.6\n",
            "contextlib2                      21.6.0\n",
            "contourpy                        1.2.0\n",
            "cryptography                     41.0.7\n",
            "cufflinks                        0.17.3\n",
            "cupy-cuda12x                     12.2.0\n",
            "cvxopt                           1.3.2\n",
            "cvxpy                            1.3.2\n",
            "cycler                           0.12.1\n",
            "cymem                            2.0.8\n",
            "Cython                           3.0.7\n",
            "dask                             2023.8.1\n",
            "datascience                      0.17.6\n",
            "db-dtypes                        1.2.0\n",
            "dbus-python                      1.2.18\n",
            "debugpy                          1.6.6\n",
            "decorator                        4.4.2\n",
            "defusedxml                       0.7.1\n",
            "diskcache                        5.6.3\n",
            "distributed                      2023.8.1\n",
            "distro                           1.7.0\n",
            "dlib                             19.24.2\n",
            "dm-tree                          0.1.8\n",
            "docutils                         0.18.1\n",
            "dopamine-rl                      4.0.6\n",
            "duckdb                           0.9.2\n",
            "earthengine-api                  0.1.384\n",
            "easydict                         1.11\n",
            "ecos                             2.0.12\n",
            "editdistance                     0.6.2\n",
            "eerepr                           0.0.4\n",
            "en-core-web-sm                   3.6.0\n",
            "entrypoints                      0.4\n",
            "et-xmlfile                       1.1.0\n",
            "etils                            1.6.0\n",
            "etuples                          0.3.9\n",
            "exceptiongroup                   1.2.0\n",
            "fastai                           2.7.13\n",
            "fastcore                         1.5.29\n",
            "fastdownload                     0.0.7\n",
            "fastjsonschema                   2.19.0\n",
            "fastprogress                     1.0.3\n",
            "fastrlock                        0.8.2\n",
            "filelock                         3.13.1\n",
            "fiona                            1.9.5\n",
            "firebase-admin                   5.3.0\n",
            "Flask                            2.2.5\n",
            "flatbuffers                      23.5.26\n",
            "flax                             0.7.5\n",
            "folium                           0.14.0\n",
            "fonttools                        4.47.0\n",
            "frozendict                       2.3.10\n",
            "frozenlist                       1.4.1\n",
            "fsspec                           2023.6.0\n",
            "future                           0.18.3\n",
            "gast                             0.5.4\n",
            "gcsfs                            2023.6.0\n",
            "GDAL                             3.4.3\n",
            "gdown                            4.6.6\n",
            "geemap                           0.29.6\n",
            "gensim                           4.3.2\n",
            "geocoder                         1.38.1\n",
            "geographiclib                    2.0\n",
            "geopandas                        0.13.2\n",
            "geopy                            2.3.0\n",
            "gin-config                       0.5.0\n",
            "glob2                            0.7\n",
            "google                           2.0.3\n",
            "google-ai-generativelanguage     0.4.0\n",
            "google-api-core                  2.11.1\n",
            "google-api-python-client         2.84.0\n",
            "google-auth                      2.17.3\n",
            "google-auth-httplib2             0.1.1\n",
            "google-auth-oauthlib             1.2.0\n",
            "google-cloud-aiplatform          1.38.1\n",
            "google-cloud-bigquery            3.12.0\n",
            "google-cloud-bigquery-connection 1.12.1\n",
            "google-cloud-bigquery-storage    2.24.0\n",
            "google-cloud-core                2.3.3\n",
            "google-cloud-datastore           2.15.2\n",
            "google-cloud-firestore           2.11.1\n",
            "google-cloud-functions           1.13.3\n",
            "google-cloud-iam                 2.13.0\n",
            "google-cloud-language            2.9.1\n",
            "google-cloud-resource-manager    1.11.0\n",
            "google-cloud-storage             2.8.0\n",
            "google-cloud-translate           3.11.3\n",
            "google-colab                     1.0.0\n",
            "google-crc32c                    1.5.0\n",
            "google-generativeai              0.3.2\n",
            "google-pasta                     0.2.0\n",
            "google-resumable-media           2.7.0\n",
            "googleapis-common-protos         1.62.0\n",
            "googledrivedownloader            0.4\n",
            "graphviz                         0.20.1\n",
            "greenlet                         3.0.2\n",
            "grpc-google-iam-v1               0.13.0\n",
            "grpcio                           1.60.0\n",
            "grpcio-status                    1.48.2\n",
            "gspread                          3.4.2\n",
            "gspread-dataframe                3.3.1\n",
            "gym                              0.25.2\n",
            "gym-notices                      0.0.8\n",
            "h5netcdf                         1.3.0\n",
            "h5py                             3.9.0\n",
            "holidays                         0.39\n",
            "holoviews                        1.17.1\n",
            "html5lib                         1.1\n",
            "httpimport                       1.3.1\n",
            "httplib2                         0.22.0\n",
            "huggingface-hub                  0.20.1\n",
            "humanize                         4.7.0\n",
            "hyperopt                         0.2.7\n",
            "ibis-framework                   6.2.0\n",
            "idna                             3.6\n",
            "imageio                          2.31.6\n",
            "imageio-ffmpeg                   0.4.9\n",
            "imagesize                        1.4.1\n",
            "imbalanced-learn                 0.10.1\n",
            "imgaug                           0.4.0\n",
            "importlib-metadata               7.0.0\n",
            "importlib-resources              6.1.1\n",
            "imutils                          0.5.4\n",
            "inflect                          7.0.0\n",
            "iniconfig                        2.0.0\n",
            "install                          1.3.5\n",
            "intel-openmp                     2023.2.3\n",
            "ipyevents                        2.0.2\n",
            "ipyfilechooser                   0.6.0\n",
            "ipykernel                        5.5.6\n",
            "ipyleaflet                       0.18.1\n",
            "ipython                          7.34.0\n",
            "ipython-genutils                 0.2.0\n",
            "ipython-sql                      0.5.0\n",
            "ipytree                          0.2.2\n",
            "ipywidgets                       7.7.1\n",
            "itsdangerous                     2.1.2\n",
            "jax                              0.4.23\n",
            "jaxlib                           0.4.23+cuda12.cudnn89\n",
            "jeepney                          0.7.1\n",
            "jieba                            0.42.1\n",
            "Jinja2                           3.1.2\n",
            "joblib                           1.3.2\n",
            "jsonpickle                       3.0.2\n",
            "jsonschema                       4.19.2\n",
            "jsonschema-specifications        2023.11.2\n",
            "jupyter-client                   6.1.12\n",
            "jupyter-console                  6.1.0\n",
            "jupyter_core                     5.5.1\n",
            "jupyter-server                   1.24.0\n",
            "jupyterlab_pygments              0.3.0\n",
            "jupyterlab-widgets               3.0.9\n",
            "kaggle                           1.5.16\n",
            "kagglehub                        0.1.4\n",
            "keras                            2.15.0\n",
            "keyring                          23.5.0\n",
            "kiwisolver                       1.4.5\n",
            "langcodes                        3.3.0\n",
            "launchpadlib                     1.10.16\n",
            "lazr.restfulclient               0.14.4\n",
            "lazr.uri                         1.0.6\n",
            "lazy_loader                      0.3\n",
            "libclang                         16.0.6\n",
            "librosa                          0.10.1\n",
            "lida                             0.0.10\n",
            "lightgbm                         4.1.0\n",
            "linkify-it-py                    2.0.2\n",
            "llmx                             0.0.15a0\n",
            "llvmlite                         0.41.1\n",
            "locket                           1.0.0\n",
            "logical-unification              0.4.6\n",
            "lxml                             4.9.4\n",
            "malloy                           2023.1067\n",
            "Markdown                         3.5.1\n",
            "markdown-it-py                   3.0.0\n",
            "MarkupSafe                       2.1.3\n",
            "matplotlib                       3.7.1\n",
            "matplotlib-inline                0.1.6\n",
            "matplotlib-venn                  0.11.9\n",
            "mdit-py-plugins                  0.4.0\n",
            "mdurl                            0.1.2\n",
            "miniKanren                       1.0.3\n",
            "missingno                        0.5.2\n",
            "mistune                          0.8.4\n",
            "mizani                           0.9.3\n",
            "mkl                              2023.2.0\n",
            "ml-dtypes                        0.2.0\n",
            "mlxtend                          0.22.0\n",
            "more-itertools                   10.1.0\n",
            "moviepy                          1.0.3\n",
            "mpmath                           1.3.0\n",
            "msgpack                          1.0.7\n",
            "multidict                        6.0.4\n",
            "multipledispatch                 1.0.0\n",
            "multitasking                     0.0.11\n",
            "murmurhash                       1.0.10\n",
            "music21                          9.1.0\n",
            "natsort                          8.4.0\n",
            "nbclassic                        1.0.0\n",
            "nbclient                         0.9.0\n",
            "nbconvert                        6.5.4\n",
            "nbformat                         5.9.2\n",
            "nest-asyncio                     1.5.8\n",
            "networkx                         3.2.1\n",
            "nibabel                          4.0.2\n",
            "nltk                             3.8.1\n",
            "notebook                         6.5.5\n",
            "notebook_shim                    0.2.3\n",
            "numba                            0.58.1\n",
            "numexpr                          2.8.8\n",
            "numpy                            1.23.5\n",
            "oauth2client                     4.1.3\n",
            "oauthlib                         3.2.2\n",
            "opencv-contrib-python            4.8.0.76\n",
            "opencv-python                    4.8.0.76\n",
            "opencv-python-headless           4.8.1.78\n",
            "openpyxl                         3.1.2\n",
            "opt-einsum                       3.3.0\n",
            "optax                            0.1.7\n",
            "orbax-checkpoint                 0.4.4\n",
            "osqp                             0.6.2.post8\n",
            "packaging                        23.2\n",
            "pandas                           1.5.3\n",
            "pandas-datareader                0.10.0\n",
            "pandas-gbq                       0.19.2\n",
            "pandas-stubs                     1.5.3.230304\n",
            "pandocfilters                    1.5.0\n",
            "panel                            1.3.6\n",
            "param                            2.0.1\n",
            "parso                            0.8.3\n",
            "parsy                            2.1\n",
            "partd                            1.4.1\n",
            "pathlib                          1.0.1\n",
            "pathy                            0.10.3\n",
            "patsy                            0.5.4\n",
            "peewee                           3.17.0\n",
            "pexpect                          4.9.0\n",
            "pickleshare                      0.7.5\n",
            "Pillow                           9.4.0\n",
            "pip                              23.1.2\n",
            "pip-tools                        6.13.0\n",
            "platformdirs                     4.1.0\n",
            "plotly                           5.15.0\n",
            "plotnine                         0.12.4\n",
            "pluggy                           1.3.0\n",
            "polars                           0.17.3\n",
            "pooch                            1.8.0\n",
            "portpicker                       1.5.2\n",
            "prefetch-generator               1.0.3\n",
            "preshed                          3.0.9\n",
            "prettytable                      3.9.0\n",
            "proglog                          0.1.10\n",
            "progressbar2                     4.2.0\n",
            "prometheus-client                0.19.0\n",
            "promise                          2.3\n",
            "prompt-toolkit                   3.0.43\n",
            "prophet                          1.1.5\n",
            "proto-plus                       1.23.0\n",
            "protobuf                         3.20.3\n",
            "psutil                           5.9.5\n",
            "psycopg2                         2.9.9\n",
            "ptyprocess                       0.7.0\n",
            "py-cpuinfo                       9.0.0\n",
            "py4j                             0.10.9.7\n",
            "pyarrow                          10.0.1\n",
            "pyasn1                           0.5.1\n",
            "pyasn1-modules                   0.3.0\n",
            "pycocotools                      2.0.7\n",
            "pycparser                        2.21\n",
            "pyct                             0.5.0\n",
            "pydantic                         1.10.13\n",
            "pydata-google-auth               1.8.2\n",
            "pydot                            1.4.2\n",
            "pydot-ng                         2.0.0\n",
            "pydotplus                        2.0.2\n",
            "PyDrive                          1.3.1\n",
            "PyDrive2                         1.6.3\n",
            "pyerfa                           2.0.1.1\n",
            "pygame                           2.5.2\n",
            "Pygments                         2.16.1\n",
            "PyGObject                        3.42.1\n",
            "PyJWT                            2.3.0\n",
            "pymc                             5.7.2\n",
            "pymystem3                        0.2.0\n",
            "PyOpenGL                         3.1.7\n",
            "pyOpenSSL                        23.3.0\n",
            "pyparsing                        3.1.1\n",
            "pyperclip                        1.8.2\n",
            "pyproj                           3.6.1\n",
            "pyproject_hooks                  1.0.0\n",
            "pyshp                            2.3.1\n",
            "PySocks                          1.7.1\n",
            "pytensor                         2.14.2\n",
            "pytest                           7.4.3\n",
            "python-apt                       0.0.0\n",
            "python-box                       7.1.1\n",
            "python-dateutil                  2.8.2\n",
            "python-louvain                   0.16\n",
            "python-slugify                   8.0.1\n",
            "python-utils                     3.8.1\n",
            "pytz                             2023.3.post1\n",
            "pyviz_comms                      3.0.0\n",
            "PyWavelets                       1.5.0\n",
            "PyYAML                           6.0.1\n",
            "pyzmq                            23.2.1\n",
            "qdldl                            0.1.7.post0\n",
            "qudida                           0.0.4\n",
            "ratelim                          0.1.6\n",
            "referencing                      0.32.0\n",
            "regex                            2023.6.3\n",
            "requests                         2.31.0\n",
            "requests-oauthlib                1.3.1\n",
            "requirements-parser              0.5.0\n",
            "rich                             13.7.0\n",
            "rpds-py                          0.15.2\n",
            "rpy2                             3.4.2\n",
            "rsa                              4.9\n",
            "safetensors                      0.4.1\n",
            "scikit-image                     0.19.3\n",
            "scikit-learn                     1.2.2\n",
            "scipy                            1.11.4\n",
            "scooby                           0.9.2\n",
            "scs                              3.2.4.post1\n",
            "seaborn                          0.12.2\n",
            "SecretStorage                    3.3.1\n",
            "Send2Trash                       1.8.2\n",
            "setuptools                       67.7.2\n",
            "shapely                          2.0.2\n",
            "six                              1.16.0\n",
            "sklearn-pandas                   2.2.0\n",
            "smart-open                       6.4.0\n",
            "sniffio                          1.3.0\n",
            "snowballstemmer                  2.2.0\n",
            "sortedcontainers                 2.4.0\n",
            "soundfile                        0.12.1\n",
            "soupsieve                        2.5\n",
            "soxr                             0.3.7\n",
            "spacy                            3.6.1\n",
            "spacy-legacy                     3.0.12\n",
            "spacy-loggers                    1.0.5\n",
            "Sphinx                           5.0.2\n",
            "sphinxcontrib-applehelp          1.0.7\n",
            "sphinxcontrib-devhelp            1.0.5\n",
            "sphinxcontrib-htmlhelp           2.0.4\n",
            "sphinxcontrib-jsmath             1.0.1\n",
            "sphinxcontrib-qthelp             1.0.6\n",
            "sphinxcontrib-serializinghtml    1.1.9\n",
            "SQLAlchemy                       2.0.23\n",
            "sqlglot                          17.16.2\n",
            "sqlparse                         0.4.4\n",
            "srsly                            2.4.8\n",
            "stanio                           0.3.0\n",
            "statsmodels                      0.14.1\n",
            "sympy                            1.12\n",
            "tables                           3.8.0\n",
            "tabulate                         0.9.0\n",
            "tbb                              2021.11.0\n",
            "tblib                            3.0.0\n",
            "tenacity                         8.2.3\n",
            "tensorboard                      2.15.1\n",
            "tensorboard-data-server          0.7.2\n",
            "tensorflow                       2.15.0\n",
            "tensorflow-datasets              4.9.4\n",
            "tensorflow-estimator             2.15.0\n",
            "tensorflow-gcs-config            2.15.0\n",
            "tensorflow-hub                   0.15.0\n",
            "tensorflow-io-gcs-filesystem     0.35.0\n",
            "tensorflow-metadata              1.14.0\n",
            "tensorflow-probability           0.22.0\n",
            "tensorstore                      0.1.45\n",
            "termcolor                        2.4.0\n",
            "terminado                        0.18.0\n",
            "text-unidecode                   1.3\n",
            "textblob                         0.17.1\n",
            "tf-slim                          1.1.0\n",
            "thinc                            8.1.12\n",
            "threadpoolctl                    3.2.0\n",
            "tifffile                         2023.12.9\n",
            "tinycss2                         1.2.1\n",
            "tokenizers                       0.15.0\n",
            "toml                             0.10.2\n",
            "tomli                            2.0.1\n",
            "toolz                            0.12.0\n",
            "torch                            2.1.0+cu121\n",
            "torchaudio                       2.1.0+cu121\n",
            "torchdata                        0.7.0\n",
            "torchsummary                     1.5.1\n",
            "torchtext                        0.16.0\n",
            "torchvision                      0.16.0+cu121\n",
            "tornado                          6.3.2\n",
            "tqdm                             4.66.1\n",
            "traitlets                        5.7.1\n",
            "traittypes                       0.2.1\n",
            "transformers                     4.35.2\n",
            "triton                           2.1.0\n",
            "tweepy                           4.14.0\n",
            "typer                            0.9.0\n",
            "types-pytz                       2023.3.1.1\n",
            "types-setuptools                 69.0.0.0\n",
            "typing_extensions                4.5.0\n",
            "tzlocal                          5.2\n",
            "uc-micro-py                      1.0.2\n",
            "uritemplate                      4.1.1\n",
            "urllib3                          2.0.7\n",
            "vega-datasets                    0.9.0\n",
            "wadllib                          1.3.6\n",
            "wasabi                           1.1.2\n",
            "wcwidth                          0.2.12\n",
            "webcolors                        1.13\n",
            "webencodings                     0.5.1\n",
            "websocket-client                 1.7.0\n",
            "Werkzeug                         3.0.1\n",
            "wheel                            0.42.0\n",
            "widgetsnbextension               3.6.6\n",
            "wordcloud                        1.9.3\n",
            "wrapt                            1.14.1\n",
            "xarray                           2023.7.0\n",
            "xarray-einstats                  0.6.0\n",
            "xgboost                          2.0.3\n",
            "xlrd                             2.0.1\n",
            "xxhash                           3.4.1\n",
            "xyzservices                      2023.10.1\n",
            "yarl                             1.9.4\n",
            "yellowbrick                      1.5\n",
            "yfinance                         0.2.33\n",
            "zict                             3.0.0\n",
            "zipp                             3.17.0\n"
          ]
        }
      ],
      "source": [
        "!pip list"
      ]
    },
    {
      "cell_type": "markdown",
      "metadata": {
        "id": "5idw4Hm89z8m"
      },
      "source": [
        "- **현재 경로 확인**"
      ]
    },
    {
      "cell_type": "code",
      "execution_count": 9,
      "metadata": {
        "id": "Jlz90PvC9wXE",
        "colab": {
          "base_uri": "https://localhost:8080/"
        },
        "outputId": "b6487357-30a5-40fa-d63e-111a1dca4357"
      },
      "outputs": [
        {
          "output_type": "stream",
          "name": "stdout",
          "text": [
            "/content\n",
            "/content\n",
            "['.config', 'sample_data']\n"
          ]
        }
      ],
      "source": [
        "import os\n",
        "\n",
        "#현재 폴더 경로; 작업 폴더 기준\n",
        "print(os.getcwd())              # 현재 경로\n",
        "print(os.path.realpath('./'))   # 현재 경로\n",
        "\n",
        "#현재 디렉토리의 파일 리스트\n",
        "print(os.listdir(os.getcwd()))\n",
        "\n",
        "#디렉토리 변경\n",
        "# os.chdir('/')"
      ]
    },
    {
      "cell_type": "markdown",
      "metadata": {
        "id": "M5JilNR-pkpW"
      },
      "source": [
        "\n",
        "\n",
        "---\n",
        "\n"
      ]
    },
    {
      "cell_type": "markdown",
      "metadata": {
        "id": "HDyqQBWrlNFM"
      },
      "source": [
        "## 1-2. 파이썬 자료형과 연산자"
      ]
    },
    {
      "cell_type": "markdown",
      "metadata": {
        "id": "K8vgVXmulcSq"
      },
      "source": [
        "### 1) 파이썬 자료형"
      ]
    },
    {
      "cell_type": "markdown",
      "metadata": {
        "id": "P6uMmPoHv_68"
      },
      "source": [
        "* 파이썬 자료형 확인 방법"
      ]
    },
    {
      "cell_type": "code",
      "execution_count": 10,
      "metadata": {
        "id": "LqIHiC1MsT0F",
        "colab": {
          "base_uri": "https://localhost:8080/"
        },
        "outputId": "fc5ad594-0bc5-4f78-a0a9-699c10678029"
      },
      "outputs": [
        {
          "output_type": "stream",
          "name": "stdout",
          "text": [
            "123의 자료형: <class 'int'>\n",
            "123의 자료형: <class 'str'>\n",
            "[123]의 자료형: <class 'list'>\n",
            "(123,)의 자료형: <class 'tuple'>\n",
            "{'key': 123}의 자료형: <class 'dict'>\n",
            "{123}의 자료형: <class 'set'>\n",
            "True의 자료형: <class 'bool'>\n"
          ]
        }
      ],
      "source": [
        "# 파이썬 자료형 확인 방법\n",
        "d1 = 123\n",
        "d2 = '123'\n",
        "d3 = [123]\n",
        "d4 = (123,)\n",
        "d5 = {'key':123}\n",
        "d6 = {123}\n",
        "d7 = True\n",
        "\n",
        "print(f'{d1}의 자료형: {type(d1)}')\n",
        "print(f'{d2}의 자료형: {type(d2)}')\n",
        "print(f'{d3}의 자료형: {type(d3)}')\n",
        "print(f'{d4}의 자료형: {type(d4)}')\n",
        "print(f'{d5}의 자료형: {type(d5)}')\n",
        "print(f'{d6}의 자료형: {type(d6)}')\n",
        "print(f'{d7}의 자료형: {type(d7)}')"
      ]
    },
    {
      "cell_type": "code",
      "execution_count": 11,
      "metadata": {
        "id": "ifLMq0b3-1q6",
        "colab": {
          "base_uri": "https://localhost:8080/"
        },
        "outputId": "7cde9972-22ee-4af4-d579-e7d45ed38fd5"
      },
      "outputs": [
        {
          "output_type": "stream",
          "name": "stdout",
          "text": [
            "데이터 123 의 자료형: <class 'int'>\n",
            "데이터 123 의 자료형: <class 'str'>\n",
            "데이터 [123] 의 자료형: <class 'list'>\n",
            "데이터 (123,) 의 자료형: <class 'tuple'>\n",
            "데이터 {'key': 123} 의 자료형: <class 'dict'>\n",
            "데이터 {123} 의 자료형: <class 'set'>\n",
            "데이터 True 의 자료형: <class 'bool'>\n"
          ]
        }
      ],
      "source": [
        "# 리스트와 반복문을 이용한 자료형 출력\n",
        "datas = [123, '123', [123], (123,), {'key':123}, {123}, True]\n",
        "\n",
        "for d in datas:\n",
        "         print(f\"데이터 {d} 의 자료형: {type(d)}\")"
      ]
    },
    {
      "cell_type": "markdown",
      "metadata": {
        "id": "HxuivRiwwEEP"
      },
      "source": [
        "* 표준 입력과 출력\n",
        "    - 표준 입력함수 : input()\n",
        "    - 표준 출력함수 : print()"
      ]
    },
    {
      "cell_type": "markdown",
      "metadata": {
        "id": "3q7wLO7FwyMf"
      },
      "source": [
        "* 숫자형 자료형\n",
        "    - 정수 : int()\n",
        "    - 실수 : float()"
      ]
    },
    {
      "cell_type": "code",
      "execution_count": 13,
      "metadata": {
        "id": "AR1a1JN0wlT7",
        "colab": {
          "base_uri": "https://localhost:8080/"
        },
        "outputId": "1c1e1541-bcb2-41c6-8fdc-02ca31f00d1f"
      },
      "outputs": [
        {
          "output_type": "stream",
          "name": "stdout",
          "text": [
            "숫자를 입력하세요: 5\n",
            "<class 'str'>\n",
            "<class 'int'>\n"
          ]
        }
      ],
      "source": [
        "# 문자열 데이터를 숫자(정수)로 변환하기\n",
        "a = input('숫자를 입력하세요: ')\n",
        "print(type(a))\n",
        "\n",
        "a = int(a)\n",
        "print(type(a))"
      ]
    },
    {
      "cell_type": "code",
      "execution_count": 14,
      "metadata": {
        "id": "DbPvevMaxQrg",
        "colab": {
          "base_uri": "https://localhost:8080/"
        },
        "outputId": "5c0f702e-8218-4191-e304-f2742fc1dce1"
      },
      "outputs": [
        {
          "output_type": "stream",
          "name": "stdout",
          "text": [
            "숫자를 입력하세요: 5\n",
            "<class 'int'>\n"
          ]
        }
      ],
      "source": [
        "a = int(input('숫자를 입력하세요: '))\n",
        "print(type(a))"
      ]
    },
    {
      "cell_type": "markdown",
      "metadata": {
        "id": "v-QqyapnxdYO"
      },
      "source": [
        "* print()함수를 사용한 다양한 출력 방식\n",
        "    - 방법1: % 를 사용하여 변수 포맷팅 방법\n",
        "    - 방법2: format() 함수를 사용한 방법\n",
        "    - 방법3: f'string과 {}을 사용한 방법"
      ]
    },
    {
      "cell_type": "code",
      "execution_count": 17,
      "metadata": {
        "id": "NXTbJ-RG5Jus",
        "colab": {
          "base_uri": "https://localhost:8080/"
        },
        "outputId": "7d64ccff-9aac-4a5d-c2aa-2620cf11efe0"
      },
      "outputs": [
        {
          "output_type": "stream",
          "name": "stdout",
          "text": [
            "숫자를 입력하세요: 5\n",
            "문자열을 입력하세요: d\n",
            "---------------------------\n",
            "var1 = 5, var2 = d\n"
          ]
        }
      ],
      "source": [
        "#방법1: % 를 사용하여 변수 포맷팅 방법\n",
        "var1 = input('숫자를 입력하세요: ')\n",
        "var2 = input('문자열을 입력하세요: ')\n",
        "print('---------------------------')\n",
        "\n",
        "print('var1 = %d, var2 = %s' % (int(var1), var2))"
      ]
    },
    {
      "cell_type": "code",
      "execution_count": 18,
      "metadata": {
        "id": "QxBnOlE75NJ-",
        "colab": {
          "base_uri": "https://localhost:8080/"
        },
        "outputId": "e96ea336-0e0c-409f-ec3b-91c85edb03ca"
      },
      "outputs": [
        {
          "output_type": "stream",
          "name": "stdout",
          "text": [
            "var1 = 5, var2 = d\n",
            "var1 = 5, var2 = d\n",
            "var2 = d, var1 = 5\n"
          ]
        }
      ],
      "source": [
        "#방법2: format() 함수를 사용한 방법\n",
        "print('var1 = {0}, var2 = {1}'.format(int(var1), var2))\n",
        "print('var1 = {0:d}, var2 = {1:s}'.format(int(var1), var2))\n",
        "print('var2 = {1}, var1 = {0}'.format(int(var1), var2))"
      ]
    },
    {
      "cell_type": "code",
      "execution_count": 19,
      "metadata": {
        "id": "6vWViLQV5NSo",
        "colab": {
          "base_uri": "https://localhost:8080/"
        },
        "outputId": "00b0c1dc-f7d7-451d-9712-8ead13408fcf"
      },
      "outputs": [
        {
          "output_type": "stream",
          "name": "stdout",
          "text": [
            "var1 = 5, var2 = d\n"
          ]
        }
      ],
      "source": [
        "#방법3: f'string과 {}을 사용한 방법\n",
        "print(f'var1 = {var1}, var2 = {var2}')"
      ]
    },
    {
      "cell_type": "code",
      "execution_count": 20,
      "metadata": {
        "id": "6nMEE1T465Tn",
        "colab": {
          "base_uri": "https://localhost:8080/"
        },
        "outputId": "908fa895-893a-45a2-b2f1-3de08c4163b0"
      },
      "outputs": [
        {
          "output_type": "stream",
          "name": "stdout",
          "text": [
            "내 이름은 아이유이고, 나이는 30살 입니다.\n"
          ]
        }
      ],
      "source": [
        "name = '아이유'\n",
        "age = 30\n",
        "print(f'내 이름은 {name}이고, 나이는 {age}살 입니다.')"
      ]
    },
    {
      "cell_type": "markdown",
      "metadata": {
        "id": "pYT-0Xoi7gvt"
      },
      "source": [
        "### **[미션]** 키보드로 두 개 정수 입력받아 사칙연산 하기"
      ]
    },
    {
      "cell_type": "code",
      "execution_count": 23,
      "metadata": {
        "id": "iOwb1r5I7py5",
        "colab": {
          "base_uri": "https://localhost:8080/"
        },
        "outputId": "fa0a7b63-511a-4248-c2f6-abd91842f995"
      },
      "outputs": [
        {
          "output_type": "stream",
          "name": "stdout",
          "text": [
            "첫번째 숫자: 50\n",
            "두번째 숫자: 3\n",
            "덧셈: 50 + 3 = 53\n",
            "뺄셈: 50 - 3 = 47\n",
            "곱셈: 50 * 3 = 150\n",
            "몫: 50 // 3 = 16\n",
            "나머지: 50 % 3 = 2\n"
          ]
        }
      ],
      "source": [
        "x = int(input(\"첫번째 숫자: \"))\n",
        "y = int(input(\"두번째 숫자: \"))\n",
        "print(\"덧셈: {} + {} = {}\".format(x, y, x+y))\n",
        "print(\"뺄셈: {} - {} = {}\".format(x, y, x-y))\n",
        "print(\"곱셈: {} * {} = {}\".format(x, y, x*y))\n",
        "print(\"몫: {} // {} = {}\".format(x, y, x//y))\n",
        "print(\"나머지: {} % {} = {}\".format(x, y, x%y))"
      ]
    },
    {
      "cell_type": "markdown",
      "metadata": {
        "id": "yof26G4SsK6N"
      },
      "source": [
        "### 2) 문자와 문자열"
      ]
    },
    {
      "cell_type": "markdown",
      "metadata": {
        "id": "-uQBHWUXAzGW"
      },
      "source": [
        "- 문자와 문자열 변환"
      ]
    },
    {
      "cell_type": "code",
      "execution_count": 24,
      "metadata": {
        "id": "rPevhDsCsX7d",
        "colab": {
          "base_uri": "https://localhost:8080/"
        },
        "outputId": "3ec1a4c9-155a-460b-8d3b-b9de8f3191c9"
      },
      "outputs": [
        {
          "output_type": "stream",
          "name": "stdout",
          "text": [
            "65\n",
            "33\n",
            "44032\n",
            "A\n",
            "a\n",
            "가\n"
          ]
        }
      ],
      "source": [
        "# 문자 --> 숫자(정수) 로 변환 : ord() 함수 사용\n",
        "print( ord('A') )\n",
        "print( ord('!') )\n",
        "print( ord('가') )\n",
        "\n",
        "# 숫자(정수) --> 문자 로 변환 : chr() 함수 사용\n",
        "print( chr(65) )\n",
        "print( chr(97) )\n",
        "print( chr(44032) )"
      ]
    },
    {
      "cell_type": "code",
      "execution_count": 27,
      "metadata": {
        "id": "lKa8QoJgAbSs"
      },
      "outputs": [],
      "source": [
        "# # 문자 --> 숫자 --> 이진수 로 변환\n",
        "# for c in '파이썬':\n",
        "#     숫자, 이진수 = ord(c), bin(숫자)  # unicode, 16진수 binarycode\n",
        "#     print(f'{c}->{숫자}->{이진수}', end = ', ')  # 한 줄로 표현하기\n",
        "# print()\n",
        "# for c in '파이썬':\n",
        "#     # 이진수에서 앞'0b'를 없애기 위해 format() 함수 사용할 수 있다.\n",
        "#     print(f\"{c}->{format(ord(c),'b')}\", end = ' ')  # 한 줄로 표현하기"
      ]
    },
    {
      "cell_type": "markdown",
      "metadata": {
        "id": "8gfcqs2XA4eF"
      },
      "source": [
        "- 문자열 따옴표로 지정"
      ]
    },
    {
      "cell_type": "code",
      "execution_count": 28,
      "metadata": {
        "id": "ySUvp4v0A8fm",
        "colab": {
          "base_uri": "https://localhost:8080/"
        },
        "outputId": "27e3b202-b4f3-429f-d548-d8482768a3e0"
      },
      "outputs": [
        {
          "output_type": "stream",
          "name": "stdout",
          "text": [
            "Hello\n",
            "Hello\n",
            "Hello 'world\n",
            "Hello \"world\n",
            " \"Yes, I can!\" \n"
          ]
        }
      ],
      "source": [
        "# 큰 따옴표 or 작은 따옴표로 지정한다\n",
        "print('Hello')\n",
        "print(\"Hello\")\n",
        "print(\"Hello 'world\")\n",
        "print('Hello \"world')\n",
        "print(' \"Yes, I can!\" ')"
      ]
    },
    {
      "cell_type": "code",
      "execution_count": 29,
      "metadata": {
        "id": "Z_upV1UVBAys",
        "colab": {
          "base_uri": "https://localhost:8080/"
        },
        "outputId": "531e748c-a575-46e5-d918-73e93d36df32"
      },
      "outputs": [
        {
          "output_type": "stream",
          "name": "stdout",
          "text": [
            "박씨가 소리질렀다.\n",
            "도둑이야!\n"
          ]
        }
      ],
      "source": [
        "#따옴표 세 개 사용 : 여러 줄로 표현할 때\n",
        "a = '''박씨가 소리질렀다.\n",
        "도둑이야!'''\n",
        "print(a)"
      ]
    },
    {
      "cell_type": "code",
      "execution_count": 30,
      "metadata": {
        "id": "ILmnDdKBBCV0",
        "colab": {
          "base_uri": "https://localhost:8080/"
        },
        "outputId": "b58b4012-7a1f-4a0d-faf2-516cf206fcc0"
      },
      "outputs": [
        {
          "output_type": "stream",
          "name": "stdout",
          "text": [
            "OOO카페 메뉴판\n",
            "- 아메리카노:  3000원\n",
            "- 카페라테:     4000원\n",
            "- 카페모카:     5000원\n",
            "주문하실 음료를 입력하세요(ex:아메리카노) => \n",
            " 몇 잔을 주문하시겠습니까?: 3\n",
            "주문하신 음료는 [ 3 잔] 입니다.\n"
          ]
        }
      ],
      "source": [
        "menu = '''OOO카페 메뉴판\n",
        "- 아메리카노:  3000원\n",
        "- 카페라테:     4000원\n",
        "- 카페모카:     5000원'''\n",
        "print(menu)\n",
        "coffee = input('주문하실 음료를 입력하세요(ex:아메리카노) => ')\n",
        "cup = input(f'{coffee} 몇 잔을 주문하시겠습니까?: ')\n",
        "\n",
        "print(f'주문하신 음료는 [{coffee} {cup} 잔] 입니다.')"
      ]
    },
    {
      "cell_type": "markdown",
      "metadata": {
        "id": "9nuqRUB1A9Y-"
      },
      "source": [
        "* 문자열 연산\n",
        "    - (+): 문자열 연결하기\n",
        "    - (*) : 반복의 의미"
      ]
    },
    {
      "cell_type": "code",
      "execution_count": 31,
      "metadata": {
        "id": "tHpfFScrA9h5",
        "colab": {
          "base_uri": "https://localhost:8080/"
        },
        "outputId": "f480f988-aef1-4046-994d-282c4b84bfde"
      },
      "outputs": [
        {
          "output_type": "stream",
          "name": "stdout",
          "text": [
            "Helloworld\n",
            "Hello world !\n",
            "Python is very fun!\n"
          ]
        }
      ],
      "source": [
        "# 문자열 연결하기\n",
        "print('Hello'+'world')\n",
        "print('Hello','world', '!')\n",
        "\n",
        "a = \"Python\"\n",
        "b = \" is very fun!\"\n",
        "print(a+b)"
      ]
    },
    {
      "cell_type": "code",
      "execution_count": 32,
      "metadata": {
        "id": "qx1PgEfpBd6C",
        "colab": {
          "base_uri": "https://localhost:8080/"
        },
        "outputId": "710fbd9a-7a59-4b27-fc6f-8b16af8cb2c1"
      },
      "outputs": [
        {
          "output_type": "stream",
          "name": "stdout",
          "text": [
            "HelloHelloHello\n",
            "------------------------------\n"
          ]
        }
      ],
      "source": [
        "# 반복의 의미\n",
        "print('Hello'*3)\n",
        "print('-' * 30)"
      ]
    },
    {
      "cell_type": "markdown",
      "metadata": {
        "id": "YFK-5WZnsOQF"
      },
      "source": [
        "### 3) 문자열 인덱싱(Indexing)과 슬라이싱(Slicing)"
      ]
    },
    {
      "cell_type": "code",
      "execution_count": 33,
      "metadata": {
        "id": "FDZ132q2sYSZ",
        "colab": {
          "base_uri": "https://localhost:8080/"
        },
        "outputId": "5023581f-c88e-4447-c8f9-252645d2bca3"
      },
      "outputs": [
        {
          "output_type": "stream",
          "name": "stdout",
          "text": [
            " 민족중흥의 역사\n",
            "ra\n"
          ]
        }
      ],
      "source": [
        "a = '우리는 민족중흥의 역사적 사명을 띠고 이 땅에 태어났다.'\n",
        "print(a[3:12] )\n",
        "\n",
        "fruits = 'orange'\n",
        "print(fruits[1:3])"
      ]
    },
    {
      "cell_type": "markdown",
      "metadata": {
        "id": "LjIkvKH6C5id"
      },
      "source": [
        "### **[미션]** : 문자열 거꾸로 출력하기"
      ]
    },
    {
      "cell_type": "code",
      "execution_count": 34,
      "metadata": {
        "id": "QAocYOpgC_iI",
        "colab": {
          "base_uri": "https://localhost:8080/"
        },
        "outputId": "b25c8d3c-74ab-4c39-ac63-5429f0d8ec72"
      },
      "outputs": [
        {
          "output_type": "stream",
          "name": "stdout",
          "text": [
            "문자열을 입력하세요: 헬로우 파이썬!\n",
            "!썬이파 우로헬\n"
          ]
        }
      ],
      "source": [
        "s = input(\"문자열을 입력하세요: \")\n",
        "print(s[::-1])"
      ]
    },
    {
      "cell_type": "markdown",
      "metadata": {
        "id": "OsYbA5Tys7fU"
      },
      "source": [
        "### 4) 연산자\n",
        "* 연산자의 종류\n",
        "    - 산술 연산자\n",
        "    - 대입 연산자\n",
        "    - 관계 연산자\n",
        "    - 논리 연산\n",
        "    - 멤버쉽 연산자\n",
        "    - 비트 연산자"
      ]
    },
    {
      "cell_type": "markdown",
      "metadata": {
        "id": "-EflCpDTDHtn"
      },
      "source": [
        "### **[미션]** : 동전 교환 프로그램 작성하기\n",
        "키보드로 숫자(원)를 입력받아 우리나라 동전으로 각각 몇개가 필요한지 동전 교환하는 프로그램을 만들어 보세요."
      ]
    },
    {
      "cell_type": "code",
      "source": [
        "# 키보드로부터 금액 입력 받기\n",
        "w = int(input(\"동전으로 교환할 금액을 입력하세요: \"))\n",
        "print(\"-\" * 50)\n",
        "\n",
        "# 필요 동전 개수 출력하기\n",
        "print(\"500원짜리 ==> {}개\".format(int(w / 500)))\n",
        "w %= 500\n",
        "print(\"100원짜리 ==> {}개\".format(int(w / 100)))\n",
        "w %= 100\n",
        "print(\"50원짜리 ==> {}개\".format(int(w / 50)))\n",
        "w %= 50\n",
        "print(\"10원짜리 ==> {}개\".format(int(w / 10)))\n",
        "w %= 10\n",
        "print(\"잔돈 ==> {}개\".format(int(w % 10)))"
      ],
      "metadata": {
        "id": "fqMqO4ENmlln",
        "colab": {
          "base_uri": "https://localhost:8080/"
        },
        "outputId": "8d99f75c-9993-498b-cb22-c49e1ab99d36"
      },
      "execution_count": 41,
      "outputs": [
        {
          "output_type": "stream",
          "name": "stdout",
          "text": [
            "동전으로 교환할 금액을 입력하세요: 4321\n",
            "--------------------------------------------------\n",
            "500원짜리 ==> 8개\n",
            "100원짜리 ==> 3개\n",
            "50원짜리 ==> 0개\n",
            "10원짜리 ==> 2개\n",
            "잔돈 ==> 1개\n"
          ]
        }
      ]
    },
    {
      "cell_type": "markdown",
      "metadata": {
        "id": "0xe_4Y4jCU1c"
      },
      "source": [
        "### **[미션]** : 구글TTS(gTTS) 사용하여 txt 파일을 읽어서 음성으로 출력하기\n",
        "Google Text to Speech(gTTS)"
      ]
    },
    {
      "cell_type": "code",
      "execution_count": 8,
      "metadata": {
        "id": "-tXVlxe1CYS9",
        "colab": {
          "base_uri": "https://localhost:8080/"
        },
        "outputId": "8556266a-a7f9-4840-c33c-6d9177d90c92"
      },
      "outputs": [
        {
          "output_type": "stream",
          "name": "stdout",
          "text": [
            "Collecting gTTS\n",
            "  Downloading gTTS-2.5.0-py3-none-any.whl (29 kB)\n",
            "Requirement already satisfied: requests<3,>=2.27 in /usr/local/lib/python3.10/dist-packages (from gTTS) (2.31.0)\n",
            "Requirement already satisfied: click<8.2,>=7.1 in /usr/local/lib/python3.10/dist-packages (from gTTS) (8.1.7)\n",
            "Requirement already satisfied: charset-normalizer<4,>=2 in /usr/local/lib/python3.10/dist-packages (from requests<3,>=2.27->gTTS) (3.3.2)\n",
            "Requirement already satisfied: idna<4,>=2.5 in /usr/local/lib/python3.10/dist-packages (from requests<3,>=2.27->gTTS) (3.6)\n",
            "Requirement already satisfied: urllib3<3,>=1.21.1 in /usr/local/lib/python3.10/dist-packages (from requests<3,>=2.27->gTTS) (2.0.7)\n",
            "Requirement already satisfied: certifi>=2017.4.17 in /usr/local/lib/python3.10/dist-packages (from requests<3,>=2.27->gTTS) (2023.11.17)\n",
            "Installing collected packages: gTTS\n",
            "Successfully installed gTTS-2.5.0\n"
          ]
        }
      ],
      "source": [
        "# 구글 tts 라이브러리 설치\n",
        "!pip install gTTS"
      ]
    },
    {
      "cell_type": "code",
      "execution_count": 43,
      "metadata": {
        "id": "oFMpZEzcCYas",
        "colab": {
          "base_uri": "https://localhost:8080/",
          "height": 74
        },
        "outputId": "10ed7368-f495-43d6-847a-0aa98be7b866"
      },
      "outputs": [
        {
          "output_type": "display_data",
          "data": {
            "text/plain": [
              "<IPython.lib.display.Audio object>"
            ],
            "text/html": [
              "\n",
              "                <audio  controls=\"controls\" autoplay=\"autoplay\">\n",
              "                    <source src=\"data:audio/x-wav;base64,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\" type=\"audio/x-wav\" />\n",
              "                    Your browser does not support the audio element.\n",
              "                </audio>\n",
              "              "
            ]
          },
          "metadata": {}
        }
      ],
      "source": [
        "# 영어 출력\n",
        "from gtts import gTTS\n",
        "from IPython.display import Audio\n",
        "\n",
        "eng_wav = gTTS('Hello World!')\n",
        "eng_wav.save('eng.wav')\n",
        "\n",
        "display(Audio('eng.wav', autoplay=True))"
      ]
    },
    {
      "cell_type": "code",
      "execution_count": 9,
      "metadata": {
        "id": "jVHUns3tCc6I",
        "colab": {
          "base_uri": "https://localhost:8080/",
          "height": 74
        },
        "outputId": "0fdcd975-2e28-4acb-b372-18045dafcb85"
      },
      "outputs": [
        {
          "output_type": "display_data",
          "data": {
            "text/plain": [
              "<IPython.lib.display.Audio object>"
            ],
            "text/html": [
              "\n",
              "                <audio  controls=\"controls\" autoplay=\"autoplay\">\n",
              "                    <source src=\"data:audio/x-wav;base64,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\" type=\"audio/x-wav\" />\n",
              "                    Your browser does not support the audio element.\n",
              "                </audio>\n",
              "              "
            ]
          },
          "metadata": {}
        }
      ],
      "source": [
        "# 한글 출력\n",
        "from gtts import gTTS\n",
        "from IPython.display import Audio\n",
        "\n",
        "kor_wav = gTTS('안녕하세요! ', lang = 'ko')\n",
        "kor_wav.save('kor.wav')\n",
        "\n",
        "display(Audio('kor.wav', autoplay=True))"
      ]
    },
    {
      "cell_type": "code",
      "execution_count": 14,
      "metadata": {
        "id": "0eGwHVLyCjK6"
      },
      "outputs": [],
      "source": [
        "# 간단한 txt 파일을 만들어 gTTS사용하여 읽어보세요.\n",
        "# 1. txt 쓰기\n",
        "f = open('for_gtts.txt', 'w')\n",
        "f.write(\"안녕! 반가워. 나는 이연주야\")\n",
        "f.close()\n",
        "\n",
        "# 1. txt 읽기\n",
        "fr = open('for_gtts.txt', 'r')\n",
        "txt = None\n",
        "while True:\n",
        "    line = fr.readline()\n",
        "    if not line: break\n",
        "    txt = line\n",
        "fr.close()"
      ]
    },
    {
      "cell_type": "code",
      "source": [
        "# 한글 출력\n",
        "from gtts import gTTS\n",
        "from IPython.display import Audio\n",
        "\n",
        "kor_wav = gTTS(txt, lang = 'ko')\n",
        "kor_wav.save('kor.wav')\n",
        "\n",
        "display(Audio('kor.wav', autoplay=True))"
      ],
      "metadata": {
        "colab": {
          "base_uri": "https://localhost:8080/",
          "height": 74
        },
        "id": "hF4OM24gr72j",
        "outputId": "22f98e61-1e7e-4f97-9ec4-8e7d63b12474"
      },
      "execution_count": 15,
      "outputs": [
        {
          "output_type": "display_data",
          "data": {
            "text/plain": [
              "<IPython.lib.display.Audio object>"
            ],
            "text/html": [
              "\n",
              "                <audio  controls=\"controls\" autoplay=\"autoplay\">\n",
              "                    <source src=\"data:audio/x-wav;base64,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\" type=\"audio/x-wav\" />\n",
              "                    Your browser does not support the audio element.\n",
              "                </audio>\n",
              "              "
            ]
          },
          "metadata": {}
        }
      ]
    },
    {
      "cell_type": "markdown",
      "metadata": {
        "id": "6hQoSubZsYux"
      },
      "source": [
        "### 5) Collections - Container datatypes\n",
        "https://docs.python.org/3/library/collections.html"
      ]
    },
    {
      "cell_type": "markdown",
      "metadata": {
        "id": "0Rg2Pdv9sqsO"
      },
      "source": [
        "#### 1.리스트(List)\n",
        "* 리스트의 특징\n",
        "    - 리스트는 여러 개의 데이터 값을 하나의 변수에 담을 수 있는 데이터 구조\n",
        "    - 리스트는 순서(인덱스)가 있고 데이터를 수정, 삭제, 추가 가능하다.\n",
        "    - 대괄호로 표현되고 내부 원소는 ,(쉼표)로 구분됨"
      ]
    },
    {
      "cell_type": "markdown",
      "metadata": {
        "id": "cDkUr4OlDeYG"
      },
      "source": [
        "- 리스트 생성 & 삭제"
      ]
    },
    {
      "cell_type": "code",
      "execution_count": null,
      "metadata": {
        "id": "lxpVBPW1D26I"
      },
      "outputs": [],
      "source": [
        "a = list()\n",
        "a = []\n",
        "a = [1,2,3]\n",
        "a = ['I', 'Love', 'Python']\n",
        "b = [1,2, '사랑해요', 'Python']\n",
        "b = ['a', '1', 1, [2,3], -4]\n",
        "a = [1,2,['a','b',['사랑해', '파이썬']], 3]\n",
        "print(a)\n",
        "print(b)\n",
        "\n",
        "# 리스트 삭제\n",
        "del(b)\n",
        "\n",
        "print(a)\n",
        "print(b)"
      ]
    },
    {
      "cell_type": "markdown",
      "metadata": {
        "id": "6pf8_bADDtwR"
      },
      "source": [
        "- 리스트 요소에 접근"
      ]
    },
    {
      "cell_type": "code",
      "execution_count": null,
      "metadata": {
        "id": "8sM8U6uQD3QI"
      },
      "outputs": [],
      "source": [
        "print( a[1] )\n",
        "print( a[2] )\n",
        "print( a[2][1] )"
      ]
    },
    {
      "cell_type": "markdown",
      "metadata": {
        "id": "yn8xt-ZaDt4w"
      },
      "source": [
        "- 리스트 요소 추가 / 변경"
      ]
    },
    {
      "cell_type": "code",
      "execution_count": null,
      "metadata": {
        "id": "OQlz2jaoD3lf"
      },
      "outputs": [],
      "source": [
        "print(a)\n",
        "a.append('봄')     # 리스트 맨 끝에 추가\n",
        "print(a)\n",
        "a.insert(1, '봄')  # 리스트명.insert(인덱스위치, 값)\n",
        "print(a)"
      ]
    },
    {
      "cell_type": "markdown",
      "metadata": {
        "id": "ePPyveBgDzqc"
      },
      "source": [
        "- 리스트 요소 삭제"
      ]
    },
    {
      "cell_type": "code",
      "execution_count": null,
      "metadata": {
        "id": "hwC1ZnmWD4N8"
      },
      "outputs": [],
      "source": [
        "print(a)\n",
        "a.pop()     # 리스트 맨 끝 요소 삭제\n",
        "print(a)\n",
        "a.remove('봄')  # 리스트명.remove(값), 단 여러 개 일 경우 첫 번째만 삭제됨\n",
        "print(a)"
      ]
    },
    {
      "cell_type": "markdown",
      "metadata": {
        "id": "-gkAog5jsseH"
      },
      "source": [
        "#### 2.딕셔너리(dictionary)\n",
        "* 딕셔너리의 특징\n",
        "    - 딕셔너리는 쌍이 하나로 묶인 자료구조\n",
        "    - 인덱스를 의미하는 키(key)와 자료의 내용인 값(value)이 중괄호{}로 묶어 이루어짐\n",
        "    - 자료의 순서가 없다.\n"
      ]
    },
    {
      "cell_type": "markdown",
      "metadata": {
        "id": "BOTk4J7jEMFQ"
      },
      "source": [
        "- 딕셔너리 키(key)와 값(value)에 접근하기"
      ]
    },
    {
      "cell_type": "code",
      "execution_count": null,
      "metadata": {
        "id": "DZkLi3gHETI8"
      },
      "outputs": [],
      "source": [
        "scores = {'국어': 100, '수학': 90, '영어': 80}\n",
        "\n",
        "print(scores['국어'])  # 딕셔너리는 키로 접근한다.\n",
        "\n",
        "# 방법1\n",
        "print('---방법1---')\n",
        "for key in scores:\n",
        "    print('%s => %s' % (key, scores[key]))\n",
        "\n",
        "# 방법2\n",
        "print('---방법2---')\n",
        "for key, value in scores.items():\n",
        "    print('%s => %s' % (key, value))"
      ]
    },
    {
      "cell_type": "code",
      "execution_count": null,
      "metadata": {
        "id": "JQ3zRyheEX9u"
      },
      "outputs": [],
      "source": [
        "print(scores.keys())   # 키만 추출\n",
        "print(scores.values()) # 키만 추출\n",
        "print(scores.items())  # (키,값)쌍 형태로 추출"
      ]
    },
    {
      "cell_type": "markdown",
      "metadata": {
        "id": "iHKInESTEP78"
      },
      "source": [
        "- 딕셔너리에 요소 추가/수정/삭제"
      ]
    },
    {
      "cell_type": "code",
      "execution_count": null,
      "metadata": {
        "id": "2pWI1v5-vfSS"
      },
      "outputs": [],
      "source": [
        "# 키로 요소 추가하기\n",
        "scores['music'] = 100\n",
        "print(scores)\n",
        "\n",
        "# 요소 값 수정하기\n",
        "scores['수학'] = 99\n",
        "print(scores)\n",
        "\n",
        "# 요소 삭제하기\n",
        "del (scores['영어'])\n",
        "print(scores)"
      ]
    },
    {
      "cell_type": "markdown",
      "metadata": {
        "id": "6tt4-j1YuIqw"
      },
      "source": [
        "#### 3.튜플(Tuple)\n",
        "* 튜플의 특징\n",
        "    - 리스트와 유사한 형태로 대괄호[] 대신 소괄호() 사용\n",
        "    - 요소(element)들의 수정과 추가가 불가하다\n",
        "    - 튜플은 소괄호 생각가능, 요소 항목이 하나인 튜플은 뒤에 쉼표를 붙임 --> (3, )"
      ]
    },
    {
      "cell_type": "code",
      "execution_count": null,
      "metadata": {
        "id": "TweNVyz6EuLa"
      },
      "outputs": [],
      "source": [
        "# 튜플 자료형 생성\n",
        "a = tuple()\n",
        "print(a)\n",
        "a = ()\n",
        "print(a)\n",
        "a = (1,)\n",
        "print(a)\n",
        "a = (1,2,3)\n",
        "print(a)\n",
        "a = ('I', 'Love', 'Python')\n",
        "print(a)\n",
        "b = (1,2, '사랑해요', 'Python')\n",
        "print(a)"
      ]
    },
    {
      "cell_type": "markdown",
      "metadata": {
        "id": "ZM3tCq4nuIzM"
      },
      "source": [
        "#### 4.집합(Set)\n",
        "* 집합의 특징\n",
        "    - 딕셔너리에서 키만 모아 놓은 형태로 중괄호{} 사용함\n",
        "    - 딕셔너리에서 키가 중복되면 안되듯이 집합은 항상 유니크한(중복이 안된) 데이터만 가짐\n",
        "    - 자료의 순서가 없음"
      ]
    },
    {
      "cell_type": "code",
      "execution_count": null,
      "metadata": {
        "id": "op5gE5wuExRB"
      },
      "outputs": [],
      "source": [
        "# 집합 자료형 생성\n",
        "a = set()\n",
        "print(a)\n",
        "a = set([1,2,3])\n",
        "print(a)\n",
        "a = {1,2,3}\n",
        "print(a)\n",
        "a = set('Hello')\n",
        "print(a)"
      ]
    },
    {
      "cell_type": "markdown",
      "metadata": {
        "id": "yFkT_Dj8pmwd"
      },
      "source": [
        "\n",
        "\n",
        "---\n",
        "\n"
      ]
    },
    {
      "cell_type": "markdown",
      "metadata": {
        "id": "Tnw0V2MMlNQU"
      },
      "source": [
        "## 1-3. 조건문과 반복"
      ]
    },
    {
      "cell_type": "markdown",
      "metadata": {
        "id": "IWmSe3yJveWT"
      },
      "source": [
        "### 1) if 조건문"
      ]
    },
    {
      "cell_type": "markdown",
      "metadata": {
        "id": "1kGZw87MyMkM"
      },
      "source": [
        "- if ~"
      ]
    },
    {
      "cell_type": "code",
      "execution_count": null,
      "metadata": {
        "id": "uLp2OZ6Bv1Vx"
      },
      "outputs": [],
      "source": [
        "a = 200\n",
        "if a < 100:\n",
        "    print(f\"{a}는 100보다 작군요\")"
      ]
    },
    {
      "cell_type": "markdown",
      "metadata": {
        "id": "0-hjcmhTyQ0S"
      },
      "source": [
        "- if ~ else ~"
      ]
    },
    {
      "cell_type": "code",
      "execution_count": null,
      "metadata": {
        "id": "LmGOKZwJsUzQ"
      },
      "outputs": [],
      "source": [
        "a = 200\n",
        "if a < 100:\n",
        "    print(f\"{a}는 100보다 작군요\")\n",
        "else:\n",
        "    print(f\"{a}는 100보다 작거나 같군요\")"
      ]
    },
    {
      "cell_type": "markdown",
      "metadata": {
        "id": "FRTcqd98yW9l"
      },
      "source": [
        "- if {if ~ else~} else ~"
      ]
    },
    {
      "cell_type": "code",
      "execution_count": null,
      "metadata": {
        "id": "wjLY8xMVsVGP"
      },
      "outputs": [],
      "source": [
        "a = 200\n",
        "if a > 100:\n",
        "    if a > 200:\n",
        "        print(f\"{a}는 200보다 크군요\")\n",
        "    else:\n",
        "         print(f\"{a}는 200보다 작거나 같군요\")\n",
        "else:\n",
        "    print(f\"{a}는100보다 작거나 같군요\")"
      ]
    },
    {
      "cell_type": "markdown",
      "metadata": {
        "id": "BqCQaIWPx-Cj"
      },
      "source": [
        "- if와 else 문장을 --> elif 문장으로 변환"
      ]
    },
    {
      "cell_type": "code",
      "execution_count": null,
      "metadata": {
        "id": "9tpbC6y3x-cs"
      },
      "outputs": [],
      "source": [
        "# if, else 문장\n",
        "pocket = ['paper', 'handphone']\n",
        "card = True\n",
        "\n",
        "if 'money' in pocket:\n",
        "    print('택시를 타고 가세요')\n",
        "else:\n",
        "    if card:\n",
        "        print('택시를 타고 가세요')\n",
        "    else:\n",
        "        print('걸어서 가세요')"
      ]
    },
    {
      "cell_type": "code",
      "execution_count": null,
      "metadata": {
        "id": "D4li12w4yn-S"
      },
      "outputs": [],
      "source": [
        "# if elif 문장\n",
        "pocket = ['paper', 'handphone']\n",
        "card = True\n",
        "\n",
        "if 'money' in pocket:\n",
        "    print('택시를 타고 가세요')\n",
        "elif card:\n",
        "    print('택시를 타고 가세요')\n",
        "else:\n",
        "    print('걸어서 가세요')"
      ]
    },
    {
      "cell_type": "markdown",
      "metadata": {
        "id": "iy3brWLHldB_"
      },
      "source": [
        "### [실습문제] : 짝수/홀수 판별하기"
      ]
    },
    {
      "cell_type": "code",
      "execution_count": 21,
      "metadata": {
        "id": "sRD0jgFoxAIT",
        "colab": {
          "base_uri": "https://localhost:8080/"
        },
        "outputId": "5e801f65-c63a-4b3c-b091-a08b0d1aa460"
      },
      "outputs": [
        {
          "output_type": "stream",
          "name": "stdout",
          "text": [
            "합계를 구할 숫자 입력: 100\n",
            "1 ~ 100까지 짝수를 제외한 합은: 2500\n"
          ]
        }
      ],
      "source": [
        "x = int(input('합계를 구할 숫자 입력: '))\n",
        "\n",
        "sum = 0\n",
        "for n in range(1, x + 1):\n",
        "  if n % 2 == 1:\n",
        "      sum += n\n",
        "\n",
        "print(\"1 ~ {}까지 짝수를 제외한 합은: {}\".format(x, sum))"
      ]
    },
    {
      "cell_type": "markdown",
      "metadata": {
        "id": "PuPFgEc4xKC4"
      },
      "source": [
        "### **[미션]** : 커피 자판기 프로그램 만들기\n",
        "아래 조건을 만족하는 커피 자판기 조건문을 만들어보세요.<br><br>\n",
        "[커피 자판기 프로그램]<br>\n",
        "친구들과 현금 커피 자동주문 머신 앞에서\n",
        " - 아메리카노 2잔과 카페라테 2잔 카푸치노 1잔을 주문하였다.\n",
        " - 아메리카노 한잔에 2500원이고\n",
        " - 카페라테는 한잔에 3000원\n",
        " - 카푸치노는 한잔에 3000원이다.\n",
        "커피 종류와 잔 수를 결정한 후 현금 15000원을 투입하고 잔돈을 1000원 받았다."
      ]
    },
    {
      "cell_type": "code",
      "execution_count": 25,
      "metadata": {
        "id": "9GJrF8Foxami",
        "colab": {
          "base_uri": "https://localhost:8080/"
        },
        "outputId": "765d42af-33ce-4268-bc7b-172ade0af258"
      },
      "outputs": [
        {
          "output_type": "stream",
          "name": "stdout",
          "text": [
            "[커피 자판기 메뉴]\n",
            "-----------------------------\n",
            "- 아메리카노 2500원\n",
            "- 카페라테   3000원\n",
            "- 카푸치노   3000원\n",
            "입니다. 원하시는 커피종류와 잔수를 입력하세요.\n",
            "-----------------------------\n",
            "아메리카노 몇잔?: 1\n",
            "카페라떼 몇잔?: 1\n",
            "카푸치노 몇잔?: 1\n",
            "지불할 총 금액은: 8500 원 입니다.\n",
            "돈을 넣어주세요~ 4000\n",
            "입력한 금액이 부족합니다. 4500 원을 넣어주세요.\n"
          ]
        }
      ],
      "source": [
        "menu = '''[커피 자판기 메뉴]\n",
        "-----------------------------\n",
        "- 아메리카노 2500원\n",
        "- 카페라테   3000원\n",
        "- 카푸치노   3000원\n",
        "입니다. 원하시는 커피종류와 잔수를 입력하세요.\n",
        "-----------------------------\\n'''\n",
        "coffee1 = 2500\n",
        "coffee2 = 3000\n",
        "coffee3 = 3000\n",
        "\n",
        "n_coffee1 = int(input(menu+\"아메리카노 몇잔?: \"))\n",
        "n_coffee2 = int(input('카페라떼 몇잔?: '))\n",
        "n_coffee3 = int(input('카푸치노 몇잔?: '))\n",
        "\n",
        "sum = (coffee1 * n_coffee1 + coffee2 * n_coffee2 + coffee3 * n_coffee3)\n",
        "curr = int(input('지불할 총 금액은: {} 원 입니다.\\n돈을 넣어주세요~ '.format(sum)))\n",
        "\n",
        "if curr - sum < 0:\n",
        "  print(\"입력한 금액이 부족합니다. {} 원을 넣어주세요.\".format((curr - sum) * -1))\n",
        "else:\n",
        "  print(\"거스름돈을 {} 원 입니다.\".format(curr - sum))\n"
      ]
    },
    {
      "cell_type": "markdown",
      "metadata": {
        "id": "HeSfsBSOzEj8"
      },
      "source": [
        "1\n",
        "* **조건부 표현식**\n",
        "    - if else 문장을 --> 조건부 표현식으로 변환"
      ]
    },
    {
      "cell_type": "code",
      "execution_count": null,
      "metadata": {
        "id": "MPF2oMsqzTer"
      },
      "outputs": [],
      "source": [
        "score = int(input('점수를 입력하세요: '))\n",
        "\n",
        "if score >= 60:\n",
        "    print('success')\n",
        "else:\n",
        "    print('failure')\n"
      ]
    },
    {
      "cell_type": "code",
      "execution_count": null,
      "metadata": {
        "id": "NECzBnNLzXcI"
      },
      "outputs": [],
      "source": [
        "# 간단하게 한 줄로 표현한 방식\n",
        "print('success') if score >=60 else print('failure')"
      ]
    },
    {
      "cell_type": "markdown",
      "metadata": {
        "id": "AxG9v43e0DAD"
      },
      "source": [
        "\n",
        "\n",
        "---\n",
        "\n"
      ]
    },
    {
      "cell_type": "markdown",
      "metadata": {
        "id": "kNZGrl9J0ESt"
      },
      "source": [
        "### 2) for 반복문\n",
        "* for반복문의 특징\n",
        "    - 유한 개수(번)의 반복\n",
        "    - 반복 회수 부분에 range()함수, 문자열, container 자료형 사용 가능"
      ]
    },
    {
      "cell_type": "code",
      "execution_count": null,
      "metadata": {
        "id": "UFJvBSWx1opU"
      },
      "outputs": [],
      "source": [
        "# range()함수 사용한 for반복\n",
        "hap = 0\n",
        "for i in range(1,11,1):\n",
        "    hap = hap + i\n",
        "\n",
        "print(f'1에서 10까지의 합계: {hap}')"
      ]
    },
    {
      "cell_type": "code",
      "execution_count": null,
      "metadata": {
        "id": "BAO0QgbE2Ky5"
      },
      "outputs": [],
      "source": [
        "# 문자열 사용한 for반복\n",
        "a = '파이썬'\n",
        "for i in a:   #\n",
        "    print(i)"
      ]
    },
    {
      "cell_type": "code",
      "execution_count": null,
      "metadata": {
        "id": "Ujbxf0wF14zh"
      },
      "outputs": [],
      "source": [
        "# 리스트 사용한 for반복\n",
        "a_list = [70, 60, 55, 75, 95, 90, 80, 80, 85, 100]\n",
        "hap = 0\n",
        "for i in a_list:\n",
        "    hap += i   # hap = hap + i\n",
        "\n",
        "print(f'{a_list} 안의 모든 합은: {hap}')"
      ]
    },
    {
      "cell_type": "markdown",
      "metadata": {
        "id": "QxFXPpKG1dsT"
      },
      "source": [
        "### **[미션]** : 1~N까지 짝수 제외 합계 구하기\n",
        "숫자를 입력받아 1~n까지의 합을 구할 때 짝수를 제외하고 합을 구하기"
      ]
    },
    {
      "cell_type": "code",
      "execution_count": 26,
      "metadata": {
        "id": "nckj6uyB07eo",
        "colab": {
          "base_uri": "https://localhost:8080/"
        },
        "outputId": "d7fbf447-d6de-49c8-8041-c09a0c40c20a"
      },
      "outputs": [
        {
          "output_type": "stream",
          "name": "stdout",
          "text": [
            "합계를 구할 숫자 입력: 100\n",
            "1 ~ 100까지 짝수를 제외한 합은: 2500\n"
          ]
        }
      ],
      "source": [
        "x = int(input('합계를 구할 숫자 입력: '))\n",
        "\n",
        "sum = 0\n",
        "for n in range(1, x + 1):\n",
        "  if n % 2 == 1:\n",
        "      sum += n\n",
        "\n",
        "print(\"1 ~ {}까지 짝수를 제외한 합은: {}\".format(x, sum))"
      ]
    },
    {
      "cell_type": "markdown",
      "metadata": {
        "id": "t4ULklkH0MKe"
      },
      "source": [
        "### 3) while 반복문"
      ]
    },
    {
      "cell_type": "markdown",
      "metadata": {
        "id": "XaBzqnN808Tn"
      },
      "source": [
        "* while 반복문의 특징\n",
        "    - 특정 조건이 참이될 동안의 반복\n",
        "    - 무한 개수(번)의 반복 -> 단, 빠져나올 조건(break)이 필요"
      ]
    },
    {
      "cell_type": "code",
      "execution_count": null,
      "metadata": {
        "id": "kj2Z6IuO1Y2W"
      },
      "outputs": [],
      "source": [
        "num1, num2 = 0, 0\n",
        "while True:\n",
        "    num1 = int(input(\"더할 첫 번째 숫자: \"))\n",
        "    if num1 == 0:\n",
        "        break\n",
        "    num2 = int(input(\"더할 두 번째 숫자: \"))\n",
        "\n",
        "    print(f'{num1} + {num2} = {num1 + num2}')\n",
        "\n",
        "print(\"0이 입력되어서 반복문을 탈출했습니다.\")"
      ]
    },
    {
      "cell_type": "markdown",
      "metadata": {
        "id": "F_I6RUyD29qQ"
      },
      "source": [
        "### **[미션]** : 도둑잡기 게임 만들기\n",
        "경찰에 쫓기던 범인이 3개의 방 중에 한 곳에 숨어버렸습니다. 범인은 방문을 열 때마다 무작위로 3개의 방 중 하나의 방으로 이동합니다. 3개의 방 중 하나의 방을 선택했을 때 범인이 있다면 100점, 없을 때 -10점을 부여하고 범인을 잡으면 게임을 종료하는 프로그램을 만들어 보세요."
      ]
    },
    {
      "cell_type": "code",
      "execution_count": 43,
      "metadata": {
        "id": "Og2hynkD290F",
        "colab": {
          "base_uri": "https://localhost:8080/"
        },
        "outputId": "7bcb0362-4387-4713-8c9a-1f11b3b49b43"
      },
      "outputs": [
        {
          "output_type": "stream",
          "name": "stdout",
          "text": [
            "범인이 있을법한 방 번호를 입력하세요. 1\n",
            "범인을 찾지 못했다 (점수: -10)\n",
            "범인이 있을법한 방 번호를 입력하세요. 1\n",
            "범인을 찾지 못했다 (점수: -20)\n",
            "범인이 있을법한 방 번호를 입력하세요. 2\n",
            "범인을 찾지 못했다 (점수: -30)\n",
            "범인이 있을법한 방 번호를 입력하세요. 2\n",
            "범인을 찾지 못했다 (점수: -40)\n",
            "범인이 있을법한 방 번호를 입력하세요. 3\n",
            "범인 체포 (점수: 60)\n"
          ]
        }
      ],
      "source": [
        "import random\n",
        "\n",
        "thief = random.randint(1, 3)\n",
        "\n",
        "sum = 0\n",
        "user = int(input(\"범인이 있을법한 방 번호를 입력하세요. \"))\n",
        "while thief != user:\n",
        "  sum -= 10\n",
        "  print(f\"범인을 찾지 못했다 (점수: {sum})\")\n",
        "  user = int(input(\"범인이 있을법한 방 번호를 입력하세요. \"))\n",
        "sum += 100\n",
        "print(f\"범인 체포 (점수: {sum})\")"
      ]
    },
    {
      "cell_type": "markdown",
      "metadata": {
        "id": "vog_-hjk3I-d"
      },
      "source": [
        "### **[미션]** : 공이 튕긴 횟수 구하기\n",
        "공을 일정 높이에서 던졌을 때, 원래 높이의 1/2만큼 튀어 오른다고 합니다. 그러다가 높이가 0.00001m보다 낮으면 튀어오르지 않는다고 합니다. while문을 이용하여 이 프로그램을 만들어 보세요."
      ]
    },
    {
      "cell_type": "code",
      "execution_count": 45,
      "metadata": {
        "id": "v1bfJ76E3JFn",
        "colab": {
          "base_uri": "https://localhost:8080/"
        },
        "outputId": "a1bc0f9c-b68f-44eb-9e16-4859d995ee52"
      },
      "outputs": [
        {
          "output_type": "stream",
          "name": "stdout",
          "text": [
            "공의 높이를 입력하세요(meter): 30\n",
            "--------------------------------------------------\n",
            "30 위치에서 공의 튕긴 횟수는 총 22번 입니다.\n"
          ]
        }
      ],
      "source": [
        "leng = int(input(\"공의 높이를 입력하세요(meter): \"))\n",
        "meter, cnt = leng, 0\n",
        "\n",
        "while (meter > 0.00001):\n",
        "  meter /= 2\n",
        "  cnt += 1\n",
        "\n",
        "print('-' * 50)\n",
        "print(f'{leng} 위치에서 공의 튕긴 횟수는 총 {cnt}번 입니다.')"
      ]
    },
    {
      "cell_type": "markdown",
      "metadata": {
        "id": "71WChfL94Cb_"
      },
      "source": [
        "### **[미션]** :  커피 자판기 프로그램 업그레이드\n",
        "앞에서 만들어 본 커피 자판기 머신 프로그램을 while문을 이용하여 돈을 모두 지불할 때까지 돈을 입력 받도록 프로그램 기능 수정하기"
      ]
    },
    {
      "cell_type": "code",
      "execution_count": 57,
      "metadata": {
        "id": "p0GtUXCO4Cll",
        "colab": {
          "base_uri": "https://localhost:8080/"
        },
        "outputId": "537c6eb2-e809-48cf-cdd8-483c7040cb1b"
      },
      "outputs": [
        {
          "output_type": "stream",
          "name": "stdout",
          "text": [
            "[커피 자판기 메뉴]\n",
            "-----------------------------\n",
            "- 아메리카노 2500원\n",
            "- 카페라테   3000원\n",
            "- 카푸치노   3000원\n",
            "입니다. 원하시는 커피종류와 잔수를 입력하세요.\n",
            "-----------------------------\n",
            "아메리카노 몇잔?: 2\n",
            "카페라떼 몇잔?: 1\n",
            "카푸치노 몇잔?: 1\n",
            "지불할 총 금액은: 11000 원 입니다. 돈을 넣어주세요~ 10000\n",
            "입력한 금액이 부족합니다 1000 원 입니다. 돈을 넣어주세요~ \n",
            "지불할 총 금액은: 1000 원 입니다. 돈을 넣어주세요~ 500\n",
            "입력한 금액이 부족합니다 500 원 입니다. 돈을 넣어주세요~ \n",
            "지불할 총 금액은: 500 원 입니다. 돈을 넣어주세요~ 1000\n",
            "거스름돈을 500 원 입니다.\n",
            "--------------------------------------------------\n",
            "커피 맛있게 드세요~~~\n"
          ]
        }
      ],
      "source": [
        "menu = '''[커피 자판기 메뉴]\n",
        "-----------------------------\n",
        "- 아메리카노 2500원\n",
        "- 카페라테   3000원\n",
        "- 카푸치노   3000원\n",
        "입니다. 원하시는 커피종류와 잔수를 입력하세요.\n",
        "-----------------------------\\n'''\n",
        "coffee1 = 2500\n",
        "coffee2 = 3000\n",
        "coffee3 = 3000\n",
        "\n",
        "n_coffee1 = int(input(menu+\"아메리카노 몇잔?: \"))\n",
        "n_coffee2 = int(input('카페라떼 몇잔?: '))\n",
        "n_coffee3 = int(input('카푸치노 몇잔?: '))\n",
        "\n",
        "sum = (coffee1 * n_coffee1 + coffee2 * n_coffee2 + coffee3 * n_coffee3)\n",
        "curr = int(input('지불할 총 금액은: {} 원 입니다. 돈을 넣어주세요~ '.format(sum)))\n",
        "sum -= curr # 11000 - 10000\n",
        "while sum > 0:\n",
        "  print('입력한 금액이 부족합니다 {} 원 입니다. 돈을 넣어주세요~ '.format(sum))\n",
        "  curr = int(input(\"지불할 총 금액은: {} 원 입니다. 돈을 넣어주세요~ \".format(sum)))\n",
        "  sum -= curr\n",
        "\n",
        "print(\"거스름돈을 {} 원 입니다.\".format(sum * -1))\n",
        "print('-' * 50)\n",
        "print(\"커피 맛있게 드세요~~~\")"
      ]
    },
    {
      "cell_type": "markdown",
      "metadata": {
        "id": "EZW369K4pptf"
      },
      "source": [
        "\n",
        "\n",
        "\n",
        "---\n",
        "\n"
      ]
    },
    {
      "cell_type": "markdown",
      "metadata": {
        "id": "7uloNB_JxiNy"
      },
      "source": [
        "### 4) 난수(Random number)\n"
      ]
    },
    {
      "cell_type": "markdown",
      "metadata": {
        "id": "EeamYd3167k0"
      },
      "source": [
        "|함수 | 설명 |\n",
        "|:---|:---|\n",
        "| randint(1, 10)  |  # 1~10 사이의 임의의 정수 1개 |\n",
        "| randrange(1, 10) | # 1~9 사이의 임의의 정수 1개 |\n",
        "| random()  |        # 0~1 사이의 균일분포의 임의의 실수 1개 |\n",
        "| shffle(순서가있는자료) |   # 순서가있는자료를 뒤섞기 |\n",
        "| choice(자료)     | # 자료 중에 임의의 데이터 1개 추출 |\n",
        "| sample(자료,개수)| # 자료 중에 중복되지 않게 개수만큼 추출 |"
      ]
    },
    {
      "cell_type": "markdown",
      "metadata": {
        "id": "3LGH92IV6Dpx"
      },
      "source": [
        "### [실습문제] : 임의의 두 수 합 구하기\n",
        "1부터 10까지의 범위를 갖는 임의의 두 정수 a, b를 더하여 결과 출력하기"
      ]
    },
    {
      "cell_type": "code",
      "execution_count": null,
      "metadata": {
        "id": "kV2ZSmio5-1O"
      },
      "outputs": [],
      "source": [
        "import random\n",
        "\n",
        "a = random.randint(1, 10)\n",
        "b = random.randint(1, 10)\n",
        "print(f'{a} + {b} = {a + b}')"
      ]
    },
    {
      "cell_type": "markdown",
      "metadata": {
        "id": "JhEnxoh86IxE"
      },
      "source": [
        "### **[미션]** : 주사위 숫자 빈도수(주사위 숫자 카운팅)\n",
        "주사위를 100번 던져서 나온 숫자를 각 숫자별로 카운트하고 가장 많이 나온 숫자와 그 숫자의 횟수를 출력하시오."
      ]
    },
    {
      "cell_type": "code",
      "execution_count": 83,
      "metadata": {
        "id": "FSFZw97_6I8f",
        "colab": {
          "base_uri": "https://localhost:8080/"
        },
        "outputId": "7778a965-f5f0-4fd4-c8c8-7b8f35262de8"
      },
      "outputs": [
        {
          "output_type": "stream",
          "name": "stdout",
          "text": [
            "4 23\n"
          ]
        }
      ],
      "source": [
        "import random\n",
        "\n",
        "cnt = [0 for i in range(6)]  # 0으로 초기화\n",
        "\n",
        "for i in range(100):\n",
        "  cnt[(random.randint(1, 6)) - 1] += 1\n",
        "\n",
        "# max 찾기\n",
        "idx = 0\n",
        "maxi = cnt[idx]\n",
        "\n",
        "for i in range(len(cnt)):\n",
        "  if maxi < cnt[i]:\n",
        "    maxi = cnt[i]\n",
        "    idx = i\n",
        "print(idx + 1, maxi)"
      ]
    },
    {
      "cell_type": "markdown",
      "metadata": {
        "id": "Oo2eJbWR8ma8"
      },
      "source": [
        "### 5) 리스트 컴프리헨션(List Comprehension)\n",
        "- 하나 이상의 iterator(값이 순차적인 것, ex:리스트)로 부터 파이썬 자료구조를 만드는 간단한 방법\n",
        "- 반복되거나 특정 조건을 만족하는 리스트를 보다 쉽게 만들어 내기 위한 방법"
      ]
    },
    {
      "cell_type": "code",
      "execution_count": null,
      "metadata": {
        "id": "ZtkRhrgs9D99"
      },
      "outputs": [],
      "source": [
        "numList = []              # 빈리스트 정의\n",
        "for num in range(1, 6):   # 1~6 미만의 정수 [1,2,3,4,5]\n",
        "    numList.append(num)   # 리스트에 추가\n",
        "\n",
        "numList                   # 리스트 출력"
      ]
    },
    {
      "cell_type": "code",
      "execution_count": null,
      "metadata": {
        "id": "6hKFpYVU9EG2"
      },
      "outputs": [],
      "source": [
        "# 리스트 정의 + 요소 추가\n",
        "numList = [num for num in range(1, 6)]   # 한 줄로 정의\n",
        "\n",
        "numList"
      ]
    },
    {
      "cell_type": "code",
      "execution_count": null,
      "metadata": {
        "id": "pbTv5eWj9vMs"
      },
      "outputs": [],
      "source": [
        "# 리스트 정의 + 조건에 맞는 + 요소 추가\n",
        "numList = [num for num in range(1, 11) if num%2 == 0] # 1~10에서 짝수만 리스트의 값으로\n",
        "numList"
      ]
    },
    {
      "cell_type": "markdown",
      "metadata": {
        "id": "3Slx7Z12lNX8"
      },
      "source": [
        "## 1-4. 함수와 모듈, 클래스"
      ]
    },
    {
      "cell_type": "markdown",
      "metadata": {
        "id": "k-VBLQwkldkf"
      },
      "source": [
        "### 1) 함수와 모듈\n",
        "* 관계 : 함수 < 모듈 < 패키지\n",
        "* 함수 정의"
      ]
    },
    {
      "cell_type": "code",
      "execution_count": null,
      "metadata": {
        "id": "nQvz_KT18XZj"
      },
      "outputs": [],
      "source": [
        "def nSum(a, b):\n",
        "    c = a + b\n",
        "    return c\n",
        "\n",
        "nSum(50, 3)"
      ]
    },
    {
      "cell_type": "code",
      "execution_count": null,
      "metadata": {
        "id": "ehREvq1D7alZ"
      },
      "outputs": [],
      "source": [
        "# 로또번호 출력\n",
        "import random\n",
        "\n",
        "def lottoNumber():\n",
        "    lotto = random.sample(range(1,46), 6)\n",
        "    lotto.sort()\n",
        "    return lotto\n",
        "\n",
        "print(\"** 로또 추첨을 시작합니다. ** \\n\");\n",
        "print('로또번호: %s' % lottoNumber())"
      ]
    },
    {
      "cell_type": "markdown",
      "metadata": {
        "id": "TNMx296y-5F5"
      },
      "source": [
        "- 함수의 구조 : 매개변수와 리턴값에 따른 함수의 예"
      ]
    },
    {
      "cell_type": "code",
      "execution_count": null,
      "metadata": {
        "id": "OXVmXOSD-lzc"
      },
      "outputs": [],
      "source": [
        "# 매개변수(X), 리턴값(X)\n",
        "def func():\n",
        "    print('안녕하세요!')\n",
        "\n",
        "print( func() )"
      ]
    },
    {
      "cell_type": "code",
      "execution_count": null,
      "metadata": {
        "id": "kaC9P4DU_Fpl"
      },
      "outputs": [],
      "source": [
        "# 매개변수(X), 리턴값(O)\n",
        "def func():\n",
        "    print('안녕하세요!')\n",
        "    return '처리완료!'\n",
        "\n",
        "print( func() )"
      ]
    },
    {
      "cell_type": "code",
      "execution_count": null,
      "metadata": {
        "id": "dBSKa0U0_FvF"
      },
      "outputs": [],
      "source": [
        "# 매개변수(O), 리턴값(X)\n",
        "def func(a, b):\n",
        "    print('덧셈: %d + %d = %d' % (a, b, a+b))\n",
        "\n",
        "print( func(5, 7) )"
      ]
    },
    {
      "cell_type": "code",
      "execution_count": null,
      "metadata": {
        "id": "lWEOpWjZ_F18"
      },
      "outputs": [],
      "source": [
        "#  매개변수(O), 리턴값(O)\n",
        "def func(a, b):\n",
        "    print('덧셈: %d + %d = %d' % (a, b, a+b))\n",
        "    return a+b\n",
        "\n",
        "print( func(5, 7) )"
      ]
    },
    {
      "cell_type": "markdown",
      "metadata": {
        "id": "huZZPYbn_W6z"
      },
      "source": [
        "- 매개변수의 다양한 모양"
      ]
    },
    {
      "cell_type": "code",
      "execution_count": null,
      "metadata": {
        "id": "_U7CvLtk_cs3"
      },
      "outputs": [],
      "source": [
        "# 1. 매개변수 기본값을 주는 방법\n",
        "def test02(a=0, b=0, c=0):\n",
        "    print(f'test1() --> a:{a} b:{b} c:{c}')\n",
        "\n",
        "test02()\n",
        "test02(10)\n",
        "test02(10, 20)\n",
        "test02(10, 20, 30)\n",
        "test02(c=10, b=20, a=30)"
      ]
    },
    {
      "cell_type": "code",
      "execution_count": null,
      "metadata": {
        "id": "nl5amTQR_c0c"
      },
      "outputs": [],
      "source": [
        "# 2. 무제한 인자 받기 : -> tuple 로 받기\n",
        "def test03(*args):\n",
        "    print(f'args:{args}')\n",
        "    print(type(args))\n",
        "    for i in range(len(args)):\n",
        "        print(f'{i}: {args[i]}')\n",
        "\n",
        "# 개수 제한 없이 인자를 넣을 수 있다.\n",
        "test03('abc', 'def', 1, True)"
      ]
    },
    {
      "cell_type": "code",
      "execution_count": null,
      "metadata": {
        "id": "gCr_AXMW_c-5"
      },
      "outputs": [],
      "source": [
        "#  3. 일부분 무제한 받기\n",
        "def test04(a, *b):  # *b, a 순서는 안된다.\n",
        "    print(f'a:{a} b:{b}')\n",
        "\n",
        "test04(10, 20, 30, 40)  # a:10 b:(20, 30, 40)"
      ]
    },
    {
      "cell_type": "code",
      "execution_count": null,
      "metadata": {
        "id": "E4Mz5CM4_h4Z"
      },
      "outputs": [],
      "source": [
        "# 4. 무제한 인자 받기 : -> dictionary 로 받기\n",
        "def test05(**args):\n",
        "    print(f'args:{args}')\n",
        "    print(type(args))\n",
        "    for k, v in args.items():\n",
        "        print(f'key:{k}, value:{v}')\n",
        "\n",
        "test05(name=\"홍길동\", age=24, address=\"강남구\", contact=\"010-1111-2222\")"
      ]
    },
    {
      "cell_type": "markdown",
      "metadata": {
        "id": "SBWXtjuq_svQ"
      },
      "source": [
        "### **[미션]** : 암스트롱수 구하기\n",
        "다음 조건을 참고하여 암스트롱수를 구하는 함수를 만들어 출력하는 프로그램을 만들어 보세요.\n",
        "- **암스트롱수** : 세 자리의 정수 중에서 각 자리의 수를 세 제곱한 수의 합과 자신이 같은 수"
      ]
    },
    {
      "cell_type": "code",
      "execution_count": 111,
      "metadata": {
        "id": "fE7CLtXv_s43",
        "colab": {
          "base_uri": "https://localhost:8080/"
        },
        "outputId": "b6764a95-145e-4a00-f4e5-5e87fc5feb55"
      },
      "outputs": [
        {
          "output_type": "stream",
          "name": "stdout",
          "text": [
            "[153] is armstrong number\n",
            "[370] is armstrong number\n",
            "[371] is armstrong number\n",
            "[407] is armstrong number\n"
          ]
        }
      ],
      "source": [
        "def is_armstringNumber(N):\n",
        "  num1 = N // 100\n",
        "  num2 = N % 100 // 10\n",
        "  num3 = N % 10\n",
        "  return N == (num1**3 + num2**3 + num3**3)\n",
        "\n",
        "for i in range(100, 1000):\n",
        "  if is_armstringNumber(i):\n",
        "    print(\"[%i] is armstrong number\" % i)"
      ]
    },
    {
      "cell_type": "markdown",
      "metadata": {
        "id": "VuLrffsIAKO9"
      },
      "source": [
        "### #전역변수, 지역변수"
      ]
    },
    {
      "cell_type": "code",
      "execution_count": null,
      "metadata": {
        "id": "bZoGSRWcALBX"
      },
      "outputs": [],
      "source": [
        "a = 10  # 전역변수\n",
        "def test1():\n",
        "    a = 20  # 동명의 지역변수가 생성된다.\n",
        "    print(f'a:{a}')\n",
        "\n",
        "test1()  # a:20\n",
        "print(f'a:{a}')  # a:10  (전역변수 a에 영향이 없다.)"
      ]
    },
    {
      "cell_type": "code",
      "execution_count": null,
      "metadata": {
        "id": "GFWBKfBmAfmW"
      },
      "outputs": [],
      "source": [
        "def test2():\n",
        "    global a  # 전역변수 a를 사용하겠다.\n",
        "    a = 20  # 전역변수를 그대로 사용한다.\n",
        "    print(f'a:{a}')\n",
        "\n",
        "\n",
        "test2()  # a:20\n",
        "print(f'a:{a}')  # a:20  (전역변수 a의 값이 test2()에 의해 변경되었다.)"
      ]
    },
    {
      "cell_type": "markdown",
      "metadata": {
        "id": "tFIaoztVALcE"
      },
      "source": [
        "### #lambda() 함수\n",
        "한 줄로 간단하게 만들어 주는 함수"
      ]
    },
    {
      "cell_type": "code",
      "execution_count": null,
      "metadata": {
        "id": "bY_p9NtyALqY"
      },
      "outputs": [],
      "source": [
        "# 일반 함수\n",
        "def hap(num1, num2):\n",
        "    res = num1 + num2\n",
        "    return res\n",
        "print(hap(10,20))\n",
        "\n",
        "\n",
        "# lambda 함수\n",
        "hap = lambda num1, num2: num1+num2\n",
        "print(hap(10,20))"
      ]
    },
    {
      "cell_type": "markdown",
      "metadata": {
        "id": "SRkt_QUtALyn"
      },
      "source": [
        "### #map() 함수\n",
        " - 함수와 자료형(string, list, tuple)을 인자로 갖는 내장 함수\n",
        " - 첫 번째 인자는 함수명, 두 번째 인자는 순서가 있는 자료형"
      ]
    },
    {
      "cell_type": "code",
      "execution_count": null,
      "metadata": {
        "id": "iGACxe5jAwxA"
      },
      "outputs": [],
      "source": [
        "# 리스트에 모두 10을 더하는 코드\n",
        "myList = [1,2,3,4,5]\n",
        "myList = [num+10 for num in myList]"
      ]
    },
    {
      "cell_type": "code",
      "execution_count": null,
      "metadata": {
        "id": "8zPTIUeXAL6H"
      },
      "outputs": [],
      "source": [
        "myList = [1,2,3,4,5]\n",
        "\n",
        "def add10(num):\n",
        "    return num+10\n",
        "\n",
        "for index, value in enumerate(myList):\n",
        "    myList[index] = add10(value)\n",
        "\n",
        "print(myList)"
      ]
    },
    {
      "cell_type": "code",
      "execution_count": null,
      "metadata": {
        "id": "laQ-sfjIBA_L"
      },
      "outputs": [],
      "source": [
        "# 최종\n",
        "myList = [1,2,3,4,5]\n",
        "myList = list(map(lambda num:num+10, myList))"
      ]
    },
    {
      "cell_type": "markdown",
      "metadata": {
        "id": "41N9l46PBZXJ"
      },
      "source": [
        "### [실습문제] : lambda + map 사용하기\n",
        "리스트에서 3의 배수를 문자열로 변환하는 프로그램을 lambda와 map을 이용하여 만들어 보세요."
      ]
    },
    {
      "cell_type": "code",
      "execution_count": null,
      "metadata": {
        "id": "Ssct8ptKBZhk"
      },
      "outputs": [],
      "source": [
        "myList = [1, 2, 3, 4, 5, 6, 7, 8, 9, 10]\n",
        "multiple3 = lambda x: str(x) if x % 3 == 0 else x\n",
        "myList = list(map(multiple3, myList))\n",
        "myList"
      ]
    },
    {
      "cell_type": "markdown",
      "metadata": {
        "id": "NPXAxebsBwRW"
      },
      "source": [
        "2개의 리스트에서 동일한 인덱스의 숫자를 곱한 값을 리스트로 출력하는프로그램을 lambda와 map을 이용하여 만들어 보세요.\n",
        "\n",
        "- myList1 = [1, 2, 3, 4, 5]\n",
        "- myList2 = [2, 4, 6, 8, 10]"
      ]
    },
    {
      "cell_type": "code",
      "execution_count": null,
      "metadata": {
        "id": "DzaB2guoBl6F"
      },
      "outputs": [],
      "source": [
        "myList1 = [1, 2, 3, 4, 5]\n",
        "myList2 = [2, 4, 6, 8, 10]\n",
        "multiply = lambda x, y: x*y\n",
        "myList = list(map(multiply, myList1, myList2))\n",
        "myList"
      ]
    },
    {
      "cell_type": "markdown",
      "metadata": {
        "id": "06P3Y5T5ClB6"
      },
      "source": [
        "### 2) 클래스"
      ]
    },
    {
      "cell_type": "markdown",
      "metadata": {
        "id": "ua8uO0qlCldV"
      },
      "source": [
        "#### 1.클래스 정의하기"
      ]
    },
    {
      "cell_type": "code",
      "execution_count": null,
      "metadata": {
        "id": "KEkZL-sHCsnx"
      },
      "outputs": [],
      "source": [
        "class Car :\n",
        "    color = \"\"\n",
        "    speed = 0\n",
        "\n",
        "    def upSpeed(self, value) :\n",
        "        self.speed += value\n",
        "\n",
        "    def downSpeed(self, value) :\n",
        "        self.speed -= value\n",
        "\n",
        "    def printMessage() :\n",
        "        print(\"시험 출력입니다.\")"
      ]
    },
    {
      "cell_type": "markdown",
      "metadata": {
        "id": "_M8neVL5Csxn"
      },
      "source": [
        "#### 2.인스턴스 생성 및 작동 구현"
      ]
    },
    {
      "cell_type": "code",
      "execution_count": null,
      "metadata": {
        "id": "9JRJlAJSCs7P"
      },
      "outputs": [],
      "source": [
        "## 클래스 선언 부분 ##\n",
        "class Car :\n",
        "    color = \"\"\n",
        "    speed = 0\n",
        "\n",
        "    def upSpeed(self, value) :\n",
        "        self.speed += value\n",
        "\n",
        "    def downSpeed(self, value) :\n",
        "        self.speed -= value\n",
        "\n",
        "    def printMessage() :\n",
        "        print(\"시험 출력입니다.\")\n",
        "\n",
        "## 메인 코드 부분 ##\n",
        "myCar1 = Car()\n",
        "myCar1.color = \"빨강\"\n",
        "myCar1.speed = 0\n",
        "\n",
        "myCar2 = Car()\n",
        "myCar2.color = \"파랑\"\n",
        "myCar2.speed = 0\n",
        "\n",
        "myCar3 = Car()\n",
        "myCar3.color = \"노랑\"\n",
        "myCar3.speed = 0\n",
        "\n",
        "myCar1.upSpeed(30)\n",
        "print(\"자동차1의 색상은 %s이며, 현재 속도는 %dkm 입니다.\" % (myCar1.color, myCar1.speed))\n",
        "\n",
        "myCar2.upSpeed(60)\n",
        "print(\"자동차1의 색상은 %s이며, 현재 속도는 %dkm 입니다.\" % (myCar2.color, myCar2.speed))\n",
        "\n",
        "myCar3.upSpeed(0)\n",
        "print(\"자동차1의 색상은 %s이며, 현재 속도는 %dkm 입니다.\" % (myCar3.color, myCar3.speed))"
      ]
    },
    {
      "cell_type": "markdown",
      "metadata": {
        "id": "glBcaR7yC01R"
      },
      "source": [
        "#### 3.클래스 생성자 정의\n",
        "- __init__"
      ]
    },
    {
      "cell_type": "code",
      "execution_count": null,
      "metadata": {
        "id": "gGUvOsAMC09g"
      },
      "outputs": [],
      "source": [
        "## 클래스 선언 부분 ##\n",
        "class Car :\n",
        "    color = \"\"\n",
        "    name = \"\"\n",
        "    speed = 0\n",
        "\n",
        "    def __init__(self, color, name, speed) :\n",
        "        self.color = color\n",
        "        self.name = name\n",
        "        self.speed = speed\n",
        "\n",
        "    def getColor(self) :\n",
        "        return self.color\n",
        "\n",
        "    def getName(self) :\n",
        "        return self.name\n",
        "\n",
        "    def getSpeed(self) :\n",
        "        return self.speed\n",
        "\n",
        "## 변수 선언 부분 ##\n",
        "car1, car2 = None, None\n",
        "\n",
        "## 메인 코드 부분 ##\n",
        "car1 = Car(\"흰색\", \"아우디\", 0 )\n",
        "car2 = Car(\"검정색\", \"벤츠\", 30)\n",
        "\n",
        "print(\"%s %s의 현재 속도는 %d 입니다.\" % (car1.getColor(), car1.getName(), car1.getSpeed()))\n",
        "print(\"%s %s의 현재 속도는 %d 입니다.\" % (car2.getColor(), car2.getName(), car2.getSpeed()))"
      ]
    },
    {
      "cell_type": "markdown",
      "metadata": {
        "id": "iiMXXEqLC1Fi"
      },
      "source": [
        "- 클래스의 특별한 메서드"
      ]
    },
    {
      "cell_type": "code",
      "execution_count": null,
      "metadata": {
        "id": "BEmYa_yTC1Nk"
      },
      "outputs": [],
      "source": [
        "class Line :\n",
        "    length = 0\n",
        "    def __init__(self, length):\n",
        "        self.length = length\n",
        "        print(self.length, '길이의 선이 생성되었습니다')\n",
        "\n",
        "    def __del__(self):\n",
        "        print(self.length, '길이의 선이 삭제되었습니다')\n",
        "\n",
        "    def __repr__(self):\n",
        "        return '선의 길이 : ' + str(self.length)\n",
        "\n",
        "    def __add__(self, other):\n",
        "        return self.length + other.length\n",
        "\n",
        "    def __lt__(self, other):\n",
        "        return self.length < other.length\n",
        "\n",
        "    def __eq__(self, other):\n",
        "        return self.length == other.length\n",
        "\n",
        "## 메인 코드 부분 ##\n",
        "myLine1 = Line(100)\n",
        "myLine2 = Line(200)\n",
        "print(myLine1)\n",
        "\n",
        "print('두 선의 길이 합 : ', myLine1+myLine2)\n",
        "\n",
        "if myLine1 < myLine2 :\n",
        "    print('선분 2가 더 기네요')\n",
        "elif myLine1 == myLine2 :\n",
        "    print('두선분이 같네요')\n",
        "else :\n",
        "    print('모르겠네요.')\n",
        "\n",
        "del(myLine1)"
      ]
    },
    {
      "cell_type": "markdown",
      "metadata": {
        "id": "7WYWGkG3Do_d"
      },
      "source": [
        "#### 4.클래스 상속 (Inheritance)\n",
        "- 메서드 오버라이딩"
      ]
    },
    {
      "cell_type": "code",
      "execution_count": null,
      "metadata": {
        "id": "T_TBlBpcDpI-"
      },
      "outputs": [],
      "source": [
        "## 클래스 선언 부분 ##\n",
        "class Car :\n",
        "    speed = 0\n",
        "\n",
        "    def upSpeed(self, value) :\n",
        "        self.speed += value\n",
        "\n",
        "        print(\"현재 속도(슈퍼 클래스) : %d\" % self.speed)\n",
        "\n",
        "class Sedan(Car) :\n",
        "    def upSpeed(self, value) :\n",
        "        self.speed += value\n",
        "\n",
        "        if self.speed > 150 :\n",
        "            self.speed = 150\n",
        "\n",
        "        print(\"현재 속도(서브 클래스) : %d\" % self.speed)\n",
        "\n",
        "class Truck(Car) :\n",
        "    pass\n",
        "\n",
        "\n",
        "## 변수 선언 부분 ##\n",
        "sedan1, truck1 = None, None\n",
        "\n",
        "## 메인 코드 부분 ##\n",
        "truck1 = Truck()\n",
        "sedan1 = Sedan()\n",
        "\n",
        "print(\"트럭 -->\",  end=\"\")\n",
        "truck1.upSpeed(200)\n",
        "\n",
        "print(\"승용차 -->\",  end=\"\")\n",
        "sedan1.upSpeed(200)"
      ]
    },
    {
      "cell_type": "markdown",
      "metadata": {
        "id": "Aw9F6q1YEGgC"
      },
      "source": [
        "### **[미션]** : 온라인 장바구니 클래스로 구현하기"
      ]
    },
    {
      "cell_type": "code",
      "execution_count": 126,
      "metadata": {
        "id": "RdISOWD4EGtB",
        "colab": {
          "base_uri": "https://localhost:8080/"
        },
        "outputId": "df140d07-19b2-4829-e191-5126dccf32bc"
      },
      "outputs": [
        {
          "output_type": "stream",
          "name": "stdout",
          "text": [
            "& 제인의 장바구니\n",
            "------------------------------\n",
            "* 바나나 3000 2\n",
            "* 우유 2500 1\n",
            "* 라면 4000 1\n",
            "** 전체가격 = 12500, 전체수량 3\n",
            "--------------------------------------------------\n",
            "& 대원의 장바구니\n",
            "------------------------------\n",
            "* 라면 4000 2\n",
            "** 전체가격 = 8000, 전체수량 1\n",
            "--------------------------------------------------\n"
          ]
        }
      ],
      "source": [
        "# 온라인 장바구니 구현\n",
        "class Basket:\n",
        "\n",
        "    def __init__(self,id):\n",
        "        self.id = id       #인스턴스ID\n",
        "        self.arr = dict()\n",
        "        self.sum = 0\n",
        "\n",
        "    #장바구니에 추가\n",
        "    def add(self, item, price, qty):\n",
        "      if item in self.arr.keys():\n",
        "        self.arr[item] = [price, self.arr[item][1] + qty] # 1 transaction\n",
        "      else:\n",
        "        self.arr[item] = [price, qty] # 1 transaction\n",
        "\n",
        "    #장바구니에서 삭제\n",
        "    def delete(self, item, qty):\n",
        "      if item in self.arr.keys():\n",
        "        self.arr[item][1] -= qty # 1 transaction\n",
        "      else:\n",
        "        print(\"해당 장바구니에 들어가있지 않습니다.\")\n",
        "\n",
        "\n",
        "    #장바구니에 물건 출력\n",
        "    def printitems(self):\n",
        "      print(f\"& {self.id}의 장바구니\")\n",
        "      print('-'*30)\n",
        "      for k in self.arr.keys():\n",
        "        self.sum += (self.arr[k][0] * self.arr[k][1])\n",
        "        print(\"* {} {} {}\".format(k, self.arr[k][0], self.arr[k][1]))\n",
        "      print(f\"** 전체가격 = {self.sum}, 전체수량 {len(self.arr)}\")\n",
        "      print('-'*50)\n",
        "\n",
        "basket1 = Basket(\"제인\")\n",
        "basket2 = Basket(\"대원\")\n",
        "\n",
        "basket1.add(\"바나나\", 3000,2)\n",
        "basket1.add(\"우유\", 2500, 2)\n",
        "basket1.add(\"라면\", 4000, 1)\n",
        "basket2.add(\"라면\", 4000, 2)\n",
        "basket1.delete(\"우유\", 1)\n",
        "\n",
        "basket1.printitems()\n",
        "basket2.printitems()"
      ]
    },
    {
      "cell_type": "markdown",
      "metadata": {
        "id": "4iqpCiPDprJt"
      },
      "source": [
        "\n",
        "\n",
        "---\n",
        "\n"
      ]
    },
    {
      "cell_type": "markdown",
      "metadata": {
        "id": "w0oNDNnbpsZn"
      },
      "source": [
        "**THE END**"
      ]
    }
  ],
  "metadata": {
    "colab": {
      "provenance": [],
      "toc_visible": true,
      "collapsed_sections": [
        "Rg7wM4ioln5i",
        "Oo2eJbWR8ma8"
      ],
      "gpuType": "T4"
    },
    "kernelspec": {
      "display_name": "Python 3",
      "name": "python3"
    },
    "language_info": {
      "codemirror_mode": {
        "name": "ipython",
        "version": 3
      },
      "file_extension": ".py",
      "mimetype": "text/x-python",
      "name": "python",
      "nbconvert_exporter": "python",
      "pygments_lexer": "ipython3",
      "version": "3.10.9"
    }
  },
  "nbformat": 4,
  "nbformat_minor": 0
}