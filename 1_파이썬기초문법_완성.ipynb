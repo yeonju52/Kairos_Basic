{
  "cells": [
    {
      "cell_type": "markdown",
      "metadata": {
        "id": "dmKU-5iOkeLS"
      },
      "source": [
        "# 1. 파이썬 기초 문법"
      ]
    },
    {
      "cell_type": "markdown",
      "metadata": {
        "id": "d9dW6kUik5zy"
      },
      "source": [
        "## 1-1. 파이썬 소개 및 환경설정"
      ]
    },
    {
      "cell_type": "markdown",
      "metadata": {
        "id": "Rg7wM4ioln5i"
      },
      "source": [
        "### 1) 파이썬 라이브러리 사용 방법"
      ]
    },
    {
      "cell_type": "markdown",
      "metadata": {
        "id": "ybitq5NDn5Vd"
      },
      "source": [
        "- **파이썬 정보 확인하기**"
      ]
    },
    {
      "cell_type": "code",
      "execution_count": null,
      "metadata": {
        "id": "vD8MIsi7kNo7"
      },
      "outputs": [],
      "source": [
        "import sys\n",
        "\n",
        "print('파이썬 버전:' , sys.version)\n",
        "print('파이썬 실행파일 위치:' , sys.executable)\n",
        "print('파이썬 관련 Path:' , sys.path)"
      ]
    },
    {
      "cell_type": "markdown",
      "metadata": {
        "id": "-XLC19-coD_6"
      },
      "source": [
        "- **설치된 파이썬 라이브러리 확인(전체)**"
      ]
    },
    {
      "cell_type": "code",
      "execution_count": null,
      "metadata": {
        "id": "M1EYkpqmoT4T"
      },
      "outputs": [],
      "source": [
        "!pip list"
      ]
    },
    {
      "cell_type": "markdown",
      "metadata": {
        "id": "FjHYYO_DoUL3"
      },
      "source": [
        "- **설치된 파이썬 라이브러리 확인(특정한 라이브러리)**"
      ]
    },
    {
      "cell_type": "code",
      "execution_count": null,
      "metadata": {
        "id": "9MViFeSPoUXO"
      },
      "outputs": [],
      "source": [
        "!pip show numpy"
      ]
    },
    {
      "cell_type": "markdown",
      "metadata": {
        "id": "A_scKVnNpEng"
      },
      "source": [
        "- **파이썬 라이브러리 삭제하기**"
      ]
    },
    {
      "cell_type": "code",
      "execution_count": null,
      "metadata": {
        "id": "rPLoMtclpEAs"
      },
      "outputs": [],
      "source": [
        "!pip uninstall numpy"
      ]
    },
    {
      "cell_type": "markdown",
      "metadata": {
        "id": "xxZVgqNeoUms"
      },
      "source": [
        "- **파이썬 라이브러리 설치하기**"
      ]
    },
    {
      "cell_type": "code",
      "execution_count": null,
      "metadata": {
        "id": "YRWXUTbdpZu7"
      },
      "outputs": [],
      "source": [
        "!pip show numpy"
      ]
    },
    {
      "cell_type": "markdown",
      "metadata": {
        "id": "9y64JOE7lvmg"
      },
      "source": [
        "### **[미션]** 파이썬 정보 확인하기"
      ]
    },
    {
      "cell_type": "markdown",
      "metadata": {
        "id": "OjbwCCmpmA4M"
      },
      "source": [
        "\n",
        "\n",
        "1.   파이썬 버전 확인하는 명령어는?\n",
        "\n"
      ]
    },
    {
      "cell_type": "code",
      "execution_count": null,
      "metadata": {
        "id": "7T7h_MG6mUrA"
      },
      "outputs": [],
      "source": [
        "import sys\n",
        "print(sys.version)"
      ]
    },
    {
      "cell_type": "code",
      "execution_count": null,
      "metadata": {
        "id": "cLDfMR4KmehB"
      },
      "outputs": [],
      "source": [
        "!python -V"
      ]
    },
    {
      "cell_type": "markdown",
      "metadata": {
        "id": "3sLxUxhEmGGK"
      },
      "source": [
        "2. 파이썬 실행 파일 또는 설치 위치 확인하는 명령어는?"
      ]
    },
    {
      "cell_type": "code",
      "execution_count": null,
      "metadata": {
        "id": "pq-hWEbDmVCV"
      },
      "outputs": [],
      "source": [
        "import sys\n",
        "print(sys.executable)\n",
        "print(sys.path)"
      ]
    },
    {
      "cell_type": "markdown",
      "metadata": {
        "id": "UnQphcEdmORF"
      },
      "source": [
        "3. 설치된 파이썬 라이브러리 목록 확인하는 명령어는?"
      ]
    },
    {
      "cell_type": "code",
      "execution_count": null,
      "metadata": {
        "id": "lxuh0G9_mVhJ"
      },
      "outputs": [],
      "source": [
        "#pip list\n",
        "!pip list"
      ]
    },
    {
      "cell_type": "markdown",
      "metadata": {
        "id": "5idw4Hm89z8m"
      },
      "source": [
        "- **현재 경로 확인**"
      ]
    },
    {
      "cell_type": "code",
      "execution_count": null,
      "metadata": {
        "id": "JBQn37nOlf01"
      },
      "outputs": [],
      "source": []
    },
    {
      "cell_type": "code",
      "execution_count": null,
      "metadata": {
        "id": "Jlz90PvC9wXE"
      },
      "outputs": [],
      "source": [
        "import os\n",
        "\n",
        "#현재 폴더 경로; 작업 폴더 기준\n",
        "print(os.getcwd())              # 현재 경로\n",
        "print(os.path.realpath('./'))   # 현재 경로\n",
        "\n",
        "#현재 디렉토리의 파일 리스트\n",
        "print(os.listdir(os.getcwd()))\n",
        "\n",
        "#디렉토리 변경\n",
        "# os.chdir('/')"
      ]
    },
    {
      "cell_type": "markdown",
      "metadata": {
        "id": "M5JilNR-pkpW"
      },
      "source": [
        "\n",
        "\n",
        "---\n",
        "\n"
      ]
    },
    {
      "cell_type": "markdown",
      "metadata": {
        "id": "HDyqQBWrlNFM"
      },
      "source": [
        "## 1-2. 파이썬 자료형과 연산자"
      ]
    },
    {
      "cell_type": "markdown",
      "metadata": {
        "id": "K8vgVXmulcSq"
      },
      "source": [
        "### 1) 파이썬 자료형"
      ]
    },
    {
      "cell_type": "markdown",
      "metadata": {
        "id": "P6uMmPoHv_68"
      },
      "source": [
        "* 파이썬 자료형 확인 방법"
      ]
    },
    {
      "cell_type": "code",
      "execution_count": null,
      "metadata": {
        "id": "LqIHiC1MsT0F"
      },
      "outputs": [],
      "source": [
        "# 파이썬 자료형 확인 방법\n",
        "d1 = 123\n",
        "d2 = '123'\n",
        "d3 = [123]\n",
        "d4 = (123,)\n",
        "d5 = {'key':123}\n",
        "d6 = {123}\n",
        "d7 = True\n",
        "\n",
        "print(f'{d1}의 자료형: {type(d1)}')\n",
        "print(f'{d2}의 자료형: {type(d2)}')\n",
        "print(f'{d3}의 자료형: {type(d3)}')\n",
        "print(f'{d4}의 자료형: {type(d4)}')\n",
        "print(f'{d5}의 자료형: {type(d5)}')\n",
        "print(f'{d6}의 자료형: {type(d6)}')\n",
        "print(f'{d7}의 자료형: {type(d7)}')"
      ]
    },
    {
      "cell_type": "code",
      "execution_count": null,
      "metadata": {
        "id": "ifLMq0b3-1q6"
      },
      "outputs": [],
      "source": [
        "# 리스트와 반복문을 이용한 자료형 출력\n",
        "datas = [123, '123', [123], (123,), {'key':123}, {123}, True]\n",
        "\n",
        "for d in datas:\n",
        "         print(f\"데이터 {d} 의 자료형: {type(d)}\")"
      ]
    },
    {
      "cell_type": "markdown",
      "metadata": {
        "id": "HxuivRiwwEEP"
      },
      "source": [
        "* 표준 입력과 출력\n",
        "    - 표준 입력함수 : input()\n",
        "    - 표준 출력함수 : print()"
      ]
    },
    {
      "cell_type": "markdown",
      "metadata": {
        "id": "3q7wLO7FwyMf"
      },
      "source": [
        "* 숫자형 자료형\n",
        "    - 정수 : int()\n",
        "    - 실수 : float()"
      ]
    },
    {
      "cell_type": "code",
      "execution_count": null,
      "metadata": {
        "id": "AR1a1JN0wlT7"
      },
      "outputs": [],
      "source": [
        "# 문자열 데이터를 숫자(정수)로 변환하기\n",
        "a = input('숫자를 입력하세요: ')\n",
        "print(type(a))\n",
        "\n",
        "a = int(a)\n",
        "print(type(a))"
      ]
    },
    {
      "cell_type": "code",
      "execution_count": null,
      "metadata": {
        "id": "DbPvevMaxQrg"
      },
      "outputs": [],
      "source": [
        "a = int(input('숫자를 입력하세요: '))\n",
        "print(type(a))"
      ]
    },
    {
      "cell_type": "markdown",
      "metadata": {
        "id": "v-QqyapnxdYO"
      },
      "source": [
        "* print()함수를 사용한 다양한 출력 방식\n",
        "    - 방법1: % 를 사용하여 변수 포맷팅 방법\n",
        "    - 방법2: format() 함수를 사용한 방법\n",
        "    - 방법3: f'string과 {}을 사용한 방법"
      ]
    },
    {
      "cell_type": "code",
      "execution_count": null,
      "metadata": {
        "id": "NXTbJ-RG5Jus"
      },
      "outputs": [],
      "source": [
        "#방법1: % 를 사용하여 변수 포맷팅 방법\n",
        "var1 = input('숫자를 입력하세요: ')\n",
        "var2 = input('문자열을 입력하세요: ')\n",
        "print('---------------------------')\n",
        "\n",
        "print('var1 = %d, var2 = %s' % (int(var1), var2))"
      ]
    },
    {
      "cell_type": "code",
      "execution_count": null,
      "metadata": {
        "id": "QxBnOlE75NJ-"
      },
      "outputs": [],
      "source": [
        "#방법2: format() 함수를 사용한 방법\n",
        "print('var1 = {0}, var2 = {1}'.format(int(var1), var2))\n",
        "print('var1 = {0:d}, var2 = {1:s}'.format(int(var1), var2))\n",
        "print('var2 = {1}, var1 = {0}'.format(int(var1), var2))"
      ]
    },
    {
      "cell_type": "code",
      "execution_count": null,
      "metadata": {
        "id": "6vWViLQV5NSo"
      },
      "outputs": [],
      "source": [
        "#방법3: f'string과 {}을 사용한 방법\n",
        "print(f'var1 = {var1}, var2 = {var2}')"
      ]
    },
    {
      "cell_type": "code",
      "execution_count": null,
      "metadata": {
        "id": "6nMEE1T465Tn"
      },
      "outputs": [],
      "source": [
        "name = '아이유'\n",
        "age = 30\n",
        "print(f'내 이름은 {name}이고, 나이는 {age}살 입니다.')"
      ]
    },
    {
      "cell_type": "markdown",
      "metadata": {
        "id": "pYT-0Xoi7gvt"
      },
      "source": [
        "### **[미션]** 키보드로 두 개 정수 입력받아 사칙연산 하기"
      ]
    },
    {
      "cell_type": "code",
      "execution_count": null,
      "metadata": {
        "id": "iOwb1r5I7py5"
      },
      "outputs": [],
      "source": [
        "# 정수로 변환:int(), 실수로 변환: float()\n",
        "num1 = int(input('첫번째 숫자: '))   # 정수로 변환\n",
        "num2 = int(input('두번째 숫자: '))\n",
        "print('-----------------------------------------')\n",
        "print(f'덧셈: {num1} + {num2} = {num1+num2}')\n",
        "print(f'뺄셈: {num1} - {num2} = {num1-num2}')\n",
        "print(f'곱셈: {num1} * {num2} = {num1*num2}')\n",
        "print(f'몫:   {num1} // {num2} = {num1//num2}')\n",
        "print(f'나머지:{num1} % {num2} = {num1%num2}')"
      ]
    },
    {
      "cell_type": "code",
      "execution_count": null,
      "metadata": {
        "id": "LXgWXpoK_MHy"
      },
      "outputs": [],
      "source": [
        "# eval()함수 사용\n",
        "num1 = input('첫번째 숫자: ')\n",
        "num2 = input('두번째 숫자: ')\n",
        "eval(f'{num1} / {num2}')"
      ]
    },
    {
      "cell_type": "markdown",
      "metadata": {
        "id": "S1Ck5nEe-Szj"
      },
      "source": [
        "\n",
        "\n",
        "---\n",
        "\n"
      ]
    },
    {
      "cell_type": "markdown",
      "metadata": {
        "id": "yof26G4SsK6N"
      },
      "source": [
        "### 2) 문자와 문자열"
      ]
    },
    {
      "cell_type": "markdown",
      "metadata": {
        "id": "-uQBHWUXAzGW"
      },
      "source": [
        "- 문자와 문자열 변환"
      ]
    },
    {
      "cell_type": "code",
      "execution_count": null,
      "metadata": {
        "id": "rPevhDsCsX7d"
      },
      "outputs": [],
      "source": [
        "# 문자 --> 숫자(정수) 로 변환 : ord() 함수 사용\n",
        "print( ord('A') )\n",
        "print( ord('!') )\n",
        "print( ord('가') )\n",
        "\n",
        "# 숫자(정수) --> 문자 로 변환 : chr() 함수 사용\n",
        "print( chr(65) )\n",
        "print( chr(97) )\n",
        "print( chr(44032) )"
      ]
    },
    {
      "cell_type": "code",
      "execution_count": null,
      "metadata": {
        "id": "lKa8QoJgAbSs"
      },
      "outputs": [],
      "source": [
        "# 문자 --> 숫자 --> 이진수 로 변환\n",
        "for c in '파이썬':\n",
        "    숫자, 이진수 = ord(c), bin(숫자)  # unicode, 16진수 binarycode\n",
        "    print(f'{c}->{숫자}->{이진수}', end = ', ')  # 한 줄로 표현하기\n",
        "print()\n",
        "for c in '파이썬':\n",
        "    # 이진수에서 앞'0b'를 없애기 위해 format() 함수 사용할 수 있다.\n",
        "    print(f\"{c}->{format(ord(c),'b')}\", end = ' ')  # 한 줄로 표현하기"
      ]
    },
    {
      "cell_type": "markdown",
      "metadata": {
        "id": "8gfcqs2XA4eF"
      },
      "source": [
        "- 문자열 따옴표로 지정"
      ]
    },
    {
      "cell_type": "code",
      "execution_count": null,
      "metadata": {
        "id": "ySUvp4v0A8fm"
      },
      "outputs": [],
      "source": [
        "# 큰 따옴표 or 작은 따옴표로 지정한다\n",
        "print('Hello')\n",
        "print(\"Hello\")\n",
        "print(\"Hello 'world\")\n",
        "print('Hello \"world')\n",
        "print(' \"Yes, I can!\" ')"
      ]
    },
    {
      "cell_type": "code",
      "execution_count": null,
      "metadata": {
        "id": "Z_upV1UVBAys"
      },
      "outputs": [],
      "source": [
        "#따옴표 세 개 사용 : 여러 줄로 표현할 때\n",
        "a = '''박씨가 소리질렀다.\n",
        "도둑이야!'''\n",
        "print(a)"
      ]
    },
    {
      "cell_type": "code",
      "execution_count": null,
      "metadata": {
        "id": "ILmnDdKBBCV0"
      },
      "outputs": [],
      "source": [
        "menu = '''OOO카페 메뉴판\n",
        "- 아메리카노:  3000원\n",
        "- 카페라테:     4000원\n",
        "- 카페모카:     5000원'''\n",
        "print(menu)\n",
        "coffee = input('주문하실 음료를 입력하세요(ex:아메리카노) => ')\n",
        "cup = input(f'{coffee} 몇 잔을 주문하시겠습니까?: ')\n",
        "\n",
        "print(f'주문하신 음료는 [{coffee} {cup} 잔] 입니다.')"
      ]
    },
    {
      "cell_type": "markdown",
      "metadata": {
        "id": "9nuqRUB1A9Y-"
      },
      "source": [
        "* 문자열 연산\n",
        "    - (+): 문자열 연결하기\n",
        "    - (*) : 반복의 의미"
      ]
    },
    {
      "cell_type": "code",
      "execution_count": null,
      "metadata": {
        "id": "tHpfFScrA9h5"
      },
      "outputs": [],
      "source": [
        "# 문자열 연결하기\n",
        "print('Hello'+'world')\n",
        "print('Hello','world', '!')\n",
        "\n",
        "a = \"Python\"\n",
        "b = \" is very fun!\"\n",
        "print(a+b)"
      ]
    },
    {
      "cell_type": "code",
      "execution_count": null,
      "metadata": {
        "id": "qx1PgEfpBd6C"
      },
      "outputs": [],
      "source": [
        "# 반복의 의미\n",
        "print('Hello'*3)\n",
        "print('-' * 30)"
      ]
    },
    {
      "cell_type": "markdown",
      "metadata": {
        "id": "YFK-5WZnsOQF"
      },
      "source": [
        "### 3) 문자열 인덱싱(Indexing)과 슬라이싱(Slicing)"
      ]
    },
    {
      "cell_type": "code",
      "execution_count": null,
      "metadata": {
        "id": "FDZ132q2sYSZ"
      },
      "outputs": [],
      "source": [
        "a = '우리는 민족중흥의 역사적 사명을 띠고 이 땅에 태어났다.'\n",
        "print(a[3:12] )\n",
        "\n",
        "fruits = 'orange'\n",
        "print(fruits[1:3])"
      ]
    },
    {
      "cell_type": "markdown",
      "metadata": {
        "id": "LjIkvKH6C5id"
      },
      "source": [
        "### **[미션]** : 문자열 거꾸로 출력하기"
      ]
    },
    {
      "cell_type": "code",
      "execution_count": null,
      "metadata": {
        "id": "QAocYOpgC_iI"
      },
      "outputs": [],
      "source": [
        "s = input('문자열을 입력하세요: ')\n",
        "print(s[::-1])"
      ]
    },
    {
      "cell_type": "markdown",
      "metadata": {
        "id": "OsYbA5Tys7fU"
      },
      "source": [
        "### 4) 연산자\n",
        "* 연산자의 종류\n",
        "    - 산술 연산자\n",
        "    - 대입 연산자\n",
        "    - 관계 연산자\n",
        "    - 논리 연산\n",
        "    - 멤버쉽 연산자\n",
        "    - 비트 연산자"
      ]
    },
    {
      "cell_type": "markdown",
      "metadata": {
        "id": "-EflCpDTDHtn"
      },
      "source": [
        "### **[미션]** : 동전 교환 프로그램 작성하기\n",
        "키보드로 숫자(원)를 입력받아 우리나라 동전으로 각각 몇개가 필요한지 동전 교환하는 프로그램을 만들어 보세요."
      ]
    },
    {
      "cell_type": "code",
      "execution_count": null,
      "metadata": {
        "id": "fqMqO4ENmlln"
      },
      "outputs": [],
      "source": [
        "# 키보드로부터 금액 입력 받기\n",
        "print('---동전교환기 프로그램을 작동합니다.---')\n",
        "money = int( input('금액을 입력하세요: '))\n",
        "print('동전으로 교환하겠습니다.---------')\n",
        "\n",
        "print(f'500원짜리 동전: {money//500} 개')\n",
        "money %= 500   #money = money % 500\n",
        "print(f'100원짜리 동전: {money//100} 개')\n",
        "money = money % 100\n",
        "print(f'50원짜리 동전: {money//50} 개')\n",
        "money = money % 50\n",
        "print(f'10원짜리 동전: {money//10} 개')\n",
        "money = money % 10\n",
        "print(f'잔돈:  {money}')"
      ]
    },
    {
      "cell_type": "markdown",
      "metadata": {
        "id": "0xe_4Y4jCU1c"
      },
      "source": [
        "### **[미션]** : 구글TTS(gTTS) 사용하여 txt 파일을 읽어서 음성으로 출력하기\n",
        "Google Text to Speech(gTTS)"
      ]
    },
    {
      "cell_type": "code",
      "execution_count": null,
      "metadata": {
        "id": "-tXVlxe1CYS9"
      },
      "outputs": [],
      "source": [
        "# 구글 tts 라이브러리 설치\n",
        "!pip install gTTS"
      ]
    },
    {
      "cell_type": "code",
      "execution_count": null,
      "metadata": {
        "id": "oFMpZEzcCYas"
      },
      "outputs": [],
      "source": [
        "# 영어 출력\n",
        "from gtts import gTTS\n",
        "from IPython.display import Audio\n",
        "\n",
        "eng_wav = gTTS('Hello World!')\n",
        "eng_wav.save('eng.wav')\n",
        "\n",
        "display(Audio('eng.wav', autoplay=True))"
      ]
    },
    {
      "cell_type": "code",
      "execution_count": null,
      "metadata": {
        "id": "jVHUns3tCc6I"
      },
      "outputs": [],
      "source": [
        "# 한글 출력\n",
        "from gtts import gTTS\n",
        "from IPython.display import Audio\n",
        "\n",
        "kor_wav = gTTS('안녕하세요! ', lang = 'ko')\n",
        "kor_wav.save('kor.wav')\n",
        "\n",
        "display(Audio('kor.wav', autoplay=True))"
      ]
    },
    {
      "cell_type": "code",
      "execution_count": null,
      "metadata": {
        "id": "0eGwHVLyCjK6"
      },
      "outputs": [],
      "source": [
        "# 간단한 txt 파일을 만들어 gTTS사용하여 읽어보세요.\n",
        "from gtts import gTTS\n",
        "from IPython.display import Audio\n",
        "import time\n",
        "\n",
        "s = None\n",
        "with open(\"./사건의지평선.txt\",\"r\") as f:\n",
        "    s = f.read() # 파일 전체 읽기\n",
        "    print(s)\n",
        "\n",
        "kor_wav = gTTS(s, lang = 'ko')\n",
        "kor_wav.save('kor.wav')\n",
        "\n",
        "time.sleep(1)\n",
        "display(Audio('kor.wav', autoplay=True))"
      ]
    },
    {
      "cell_type": "markdown",
      "metadata": {
        "id": "6hQoSubZsYux"
      },
      "source": [
        "### 5) Collections - Container datatypes\n",
        "https://docs.python.org/3/library/collections.html"
      ]
    },
    {
      "cell_type": "markdown",
      "metadata": {
        "id": "0Rg2Pdv9sqsO"
      },
      "source": [
        "#### 1.리스트(List)\n",
        "* 리스트의 특징\n",
        "    - 리스트는 여러 개의 데이터 값을 하나의 변수에 담을 수 있는 데이터 구조\n",
        "    - 리스트는 순서(인덱스)가 있고 데이터를 수정, 삭제, 추가 가능하다.\n",
        "    - 대괄호로 표현되고 내부 원소는 ,(쉼표)로 구분됨"
      ]
    },
    {
      "cell_type": "markdown",
      "metadata": {
        "id": "cDkUr4OlDeYG"
      },
      "source": [
        "- 리스트 생성 & 삭제"
      ]
    },
    {
      "cell_type": "code",
      "execution_count": null,
      "metadata": {
        "id": "lxpVBPW1D26I"
      },
      "outputs": [],
      "source": [
        "a = list()\n",
        "a = []\n",
        "a = [1,2,3]\n",
        "a = ['I', 'Love', 'Python']\n",
        "b = [1,2, '사랑해요', 'Python']\n",
        "b = ['a', '1', 1, [2,3], -4]\n",
        "a = [1,2,['a','b',['사랑해', '파이썬']], 3]\n",
        "print(a)\n",
        "print(b)\n",
        "\n",
        "# 리스트 삭제\n",
        "del(b)\n",
        "\n",
        "print(a)\n",
        "print(b)"
      ]
    },
    {
      "cell_type": "markdown",
      "metadata": {
        "id": "6pf8_bADDtwR"
      },
      "source": [
        "- 리스트 요소에 접근"
      ]
    },
    {
      "cell_type": "code",
      "execution_count": null,
      "metadata": {
        "id": "8sM8U6uQD3QI"
      },
      "outputs": [],
      "source": [
        "print( a[1] )\n",
        "print( a[2] )\n",
        "print( a[2][1] )"
      ]
    },
    {
      "cell_type": "markdown",
      "metadata": {
        "id": "yn8xt-ZaDt4w"
      },
      "source": [
        "- 리스트 요소 추가 / 변경"
      ]
    },
    {
      "cell_type": "code",
      "execution_count": null,
      "metadata": {
        "id": "OQlz2jaoD3lf"
      },
      "outputs": [],
      "source": [
        "print(a)\n",
        "a.append('봄')     # 리스트 맨 끝에 추가\n",
        "print(a)\n",
        "a.insert(1, '봄')  # 리스트명.insert(인덱스위치, 값)\n",
        "print(a)"
      ]
    },
    {
      "cell_type": "markdown",
      "metadata": {
        "id": "ePPyveBgDzqc"
      },
      "source": [
        "- 리스트 요소 삭제"
      ]
    },
    {
      "cell_type": "code",
      "execution_count": null,
      "metadata": {
        "id": "hwC1ZnmWD4N8"
      },
      "outputs": [],
      "source": [
        "print(a)\n",
        "a.pop()     # 리스트 맨 끝 요소 삭제\n",
        "print(a)\n",
        "a.remove('봄')  # 리스트명.remove(값), 단 여러 개 일 경우 첫 번째만 삭제됨\n",
        "print(a)"
      ]
    },
    {
      "cell_type": "markdown",
      "metadata": {
        "id": "-gkAog5jsseH"
      },
      "source": [
        "#### 2.딕셔너리(dictionary)\n",
        "* 딕셔너리의 특징\n",
        "    - 딕셔너리는 쌍이 하나로 묶인 자료구조\n",
        "    - 인덱스를 의미하는 키(key)와 자료의 내용인 값(value)이 중괄호{}로 묶어 이루어짐\n",
        "    - 자료의 순서가 없다.\n"
      ]
    },
    {
      "cell_type": "markdown",
      "metadata": {
        "id": "BOTk4J7jEMFQ"
      },
      "source": [
        "- 딕셔너리 키(key)와 값(value)에 접근하기"
      ]
    },
    {
      "cell_type": "code",
      "execution_count": null,
      "metadata": {
        "id": "DZkLi3gHETI8"
      },
      "outputs": [],
      "source": [
        "scores = {'국어': 100, '수학': 90, '영어': 80}\n",
        "\n",
        "print(scores['국어'])  # 딕셔너리는 키로 접근한다.\n",
        "\n",
        "# 방법1\n",
        "print('---방법1---')\n",
        "for key in scores:\n",
        "    print('%s => %s' % (key, scores[key]))\n",
        "\n",
        "# 방법2\n",
        "print('---방법2---')\n",
        "for key, value in scores.items():\n",
        "    print('%s => %s' % (key, value))"
      ]
    },
    {
      "cell_type": "code",
      "execution_count": null,
      "metadata": {
        "id": "JQ3zRyheEX9u"
      },
      "outputs": [],
      "source": [
        "print(scores.keys())   # 키만 추출\n",
        "print(scores.values()) # 키만 추출\n",
        "print(scores.items())  # (키,값)쌍 형태로 추출"
      ]
    },
    {
      "cell_type": "markdown",
      "metadata": {
        "id": "iHKInESTEP78"
      },
      "source": [
        "- 딕셔너리에 요소 추가/수정/삭제"
      ]
    },
    {
      "cell_type": "code",
      "execution_count": null,
      "metadata": {
        "id": "2pWI1v5-vfSS"
      },
      "outputs": [],
      "source": [
        "# 키로 요소 추가하기\n",
        "scores['music'] = 100\n",
        "print(scores)\n",
        "\n",
        "# 요소 값 수정하기\n",
        "scores['수학'] = 99\n",
        "print(scores)\n",
        "\n",
        "# 요소 삭제하기\n",
        "del (scores['영어'])\n",
        "print(scores)"
      ]
    },
    {
      "cell_type": "markdown",
      "metadata": {
        "id": "6tt4-j1YuIqw"
      },
      "source": [
        "#### 3.튜플(Tuple)\n",
        "* 튜플의 특징\n",
        "    - 리스트와 유사한 형태로 대괄호[] 대신 소괄호() 사용\n",
        "    - 요소(element)들의 수정과 추가가 불가하다\n",
        "    - 튜플은 소괄호 생각가능, 요소 항목이 하나인 튜플은 뒤에 쉼표를 붙임 --> (3, )"
      ]
    },
    {
      "cell_type": "code",
      "execution_count": null,
      "metadata": {
        "id": "TweNVyz6EuLa"
      },
      "outputs": [],
      "source": [
        "# 튜플 자료형 생성\n",
        "a = tuple()\n",
        "print(a)\n",
        "a = ()\n",
        "print(a)\n",
        "a = (1,)\n",
        "print(a)\n",
        "a = (1,2,3)\n",
        "print(a)\n",
        "a = ('I', 'Love', 'Python')\n",
        "print(a)\n",
        "b = (1,2, '사랑해요', 'Python')\n",
        "print(a)"
      ]
    },
    {
      "cell_type": "markdown",
      "metadata": {
        "id": "ZM3tCq4nuIzM"
      },
      "source": [
        "#### 4.집합(Set)\n",
        "* 집합의 특징\n",
        "    - 딕셔너리에서 키만 모아 놓은 형태로 중괄호{} 사용함\n",
        "    - 딕셔너리에서 키가 중복되면 안되듯이 집합은 항상 유니크한(중복이 안된) 데이터만 가짐\n",
        "    - 자료의 순서가 없음"
      ]
    },
    {
      "cell_type": "code",
      "execution_count": null,
      "metadata": {
        "id": "op5gE5wuExRB"
      },
      "outputs": [],
      "source": [
        "# 집합 자료형 생성\n",
        "a = set()\n",
        "print(a)\n",
        "a = set([1,2,3])\n",
        "print(a)\n",
        "a = {1,2,3}\n",
        "print(a)\n",
        "a = set('Hello')\n",
        "print(a)"
      ]
    },
    {
      "cell_type": "markdown",
      "metadata": {
        "id": "yFkT_Dj8pmwd"
      },
      "source": [
        "\n",
        "\n",
        "---\n",
        "\n"
      ]
    },
    {
      "cell_type": "markdown",
      "metadata": {
        "id": "Tnw0V2MMlNQU"
      },
      "source": [
        "## 1-3. 조건문과 반복"
      ]
    },
    {
      "cell_type": "markdown",
      "metadata": {
        "id": "IWmSe3yJveWT"
      },
      "source": [
        "### 1) if 조건문"
      ]
    },
    {
      "cell_type": "markdown",
      "metadata": {
        "id": "1kGZw87MyMkM"
      },
      "source": [
        "- if ~"
      ]
    },
    {
      "cell_type": "code",
      "execution_count": null,
      "metadata": {
        "id": "uLp2OZ6Bv1Vx"
      },
      "outputs": [],
      "source": [
        "a = 200\n",
        "if a < 100:\n",
        "    print(f\"{a}는 100보다 작군요\")"
      ]
    },
    {
      "cell_type": "markdown",
      "metadata": {
        "id": "0-hjcmhTyQ0S"
      },
      "source": [
        "- if ~ else ~"
      ]
    },
    {
      "cell_type": "code",
      "execution_count": null,
      "metadata": {
        "id": "LmGOKZwJsUzQ"
      },
      "outputs": [],
      "source": [
        "a = 200\n",
        "if a < 100:\n",
        "    print(f\"{a}는 100보다 작군요\")\n",
        "else:\n",
        "    print(f\"{a}는 100보다 작거나 같군요\")"
      ]
    },
    {
      "cell_type": "markdown",
      "metadata": {
        "id": "FRTcqd98yW9l"
      },
      "source": [
        "- if {if ~ else~} else ~"
      ]
    },
    {
      "cell_type": "code",
      "execution_count": null,
      "metadata": {
        "id": "wjLY8xMVsVGP"
      },
      "outputs": [],
      "source": [
        "a = 200\n",
        "if a > 100:\n",
        "    if a > 200:\n",
        "        print(f\"{a}는 200보다 크군요\")\n",
        "    else:\n",
        "         print(f\"{a}는 200보다 작거나 같군요\")\n",
        "else:\n",
        "    print(f\"{a}는100보다 작거나 같군요\")"
      ]
    },
    {
      "cell_type": "markdown",
      "metadata": {
        "id": "BqCQaIWPx-Cj"
      },
      "source": [
        "- if와 else 문장을 --> elif 문장으로 변환"
      ]
    },
    {
      "cell_type": "code",
      "execution_count": null,
      "metadata": {
        "id": "9tpbC6y3x-cs"
      },
      "outputs": [],
      "source": [
        "# if, else 문장\n",
        "pocket = ['paper', 'handphone']\n",
        "card = True\n",
        "\n",
        "if 'money' in pocket:\n",
        "    print('택시를 타고 가세요')\n",
        "else:\n",
        "    if card:\n",
        "        print('택시를 타고 가세요')\n",
        "    else:\n",
        "        print('걸어서 가세요')"
      ]
    },
    {
      "cell_type": "code",
      "execution_count": null,
      "metadata": {
        "id": "D4li12w4yn-S"
      },
      "outputs": [],
      "source": [
        "# if elif 문장\n",
        "pocket = ['paper', 'handphone']\n",
        "card = True\n",
        "\n",
        "if 'money' in pocket:\n",
        "    print('택시를 타고 가세요')\n",
        "elif card:\n",
        "    print('택시를 타고 가세요')\n",
        "else:\n",
        "    print('걸어서 가세요')"
      ]
    },
    {
      "cell_type": "markdown",
      "metadata": {
        "id": "iy3brWLHldB_"
      },
      "source": [
        "### [실습문제] : 짝수/홀수 판별하기"
      ]
    },
    {
      "cell_type": "code",
      "execution_count": null,
      "metadata": {
        "id": "sRD0jgFoxAIT"
      },
      "outputs": [],
      "source": [
        "x = int(input('숫자를 입력해 주세요: '))\n",
        "\n",
        "if x % 2 == 0:\n",
        "    print('입력된 수 : %d ==> 짝수' % x)\n",
        "else:\n",
        "    print('입력된 수 : %d ==> 홀수' % x)"
      ]
    },
    {
      "cell_type": "markdown",
      "metadata": {
        "id": "PuPFgEc4xKC4"
      },
      "source": [
        "### **[미션]** : 커피 자판기 프로그램 만들기\n",
        "아래 조건을 만족하는 커피 자판기 조건문을 만들어보세요.<br><br>\n",
        "[커피 자판기 프로그램]<br>\n",
        "친구들과 현금 커피 자동주문 머신 앞에서\n",
        " - 아메리카노 2잔과 카페라테 2잔 카푸치노 1잔을 주문하였다.\n",
        " - 아메리카노 한잔에 2500원이고\n",
        " - 카페라테는 한잔에 3000원\n",
        " - 카푸치노는 한잔에 3000원이다.\n",
        "커피 종류와 잔 수를 결정한 후 현금 15000원을 투입하고 잔돈을 1000원 받았다."
      ]
    },
    {
      "cell_type": "code",
      "execution_count": null,
      "metadata": {
        "id": "9GJrF8Foxami"
      },
      "outputs": [],
      "source": [
        "menu = '''[커피 자판기 메뉴]\n",
        "-----------------------------\n",
        "- 아메리카노 2500원\n",
        "- 카페라테   3000원\n",
        "- 카푸치노   3000원\n",
        "입니다. 원하시는 커피종류와 잔수를 입력하세요.\n",
        "-----------------------------\\n'''\n",
        "\n",
        "coffee1 = int(input(menu+\"아메리카노 몇잔?: \"))\n",
        "coffee2 = int(input('카페라떼 몇잔?: '))\n",
        "coffee3 = int(input('카푸치노 몇잔?: '))\n",
        "\n",
        "total = coffee1*2500 + coffee2*3000 + coffee3*3000\n",
        "print(f'지불할 총 금액은 {total} 입니다.')\n",
        "print('-----------------------------')\n",
        "\n",
        "money = int(input('돈을 넣어 주세요.: '))\n",
        "change = money - total\n",
        "if change < 0:\n",
        "    print(f'돈이 부족합니다. {change*-1} 원을 더 넣어주세요.')\n",
        "else:\n",
        "    print(f'거스름돈은 {change} 원 입니다.')"
      ]
    },
    {
      "cell_type": "markdown",
      "metadata": {
        "id": "HeSfsBSOzEj8"
      },
      "source": [
        "* **조건부 표현식**\n",
        "    - if else 문장을 --> 조건부 표현식으로 변환"
      ]
    },
    {
      "cell_type": "code",
      "execution_count": null,
      "metadata": {
        "id": "MPF2oMsqzTer"
      },
      "outputs": [],
      "source": [
        "score = int(input('점수를 입력하세요: '))\n",
        "\n",
        "if score >= 60:\n",
        "    print('success')\n",
        "else:\n",
        "    print('failure')\n"
      ]
    },
    {
      "cell_type": "code",
      "execution_count": null,
      "metadata": {
        "id": "NECzBnNLzXcI"
      },
      "outputs": [],
      "source": [
        "# 간단하게 한 줄로 표현한 방식\n",
        "print('success') if score >=60 else print('failure')"
      ]
    },
    {
      "cell_type": "markdown",
      "metadata": {
        "id": "AxG9v43e0DAD"
      },
      "source": [
        "\n",
        "\n",
        "---\n",
        "\n"
      ]
    },
    {
      "cell_type": "markdown",
      "metadata": {
        "id": "kNZGrl9J0ESt"
      },
      "source": [
        "### 2) for 반복문\n",
        "* for반복문의 특징\n",
        "    - 유한 개수(번)의 반복\n",
        "    - 반복 회수 부분에 range()함수, 문자열, container 자료형 사용 가능"
      ]
    },
    {
      "cell_type": "code",
      "execution_count": null,
      "metadata": {
        "id": "UFJvBSWx1opU"
      },
      "outputs": [],
      "source": [
        "# range()함수 사용한 for반복\n",
        "hap = 0\n",
        "for i in range(1,11,1):\n",
        "    hap = hap + i\n",
        "\n",
        "print(f'1에서 10까지의 합계: {hap}')"
      ]
    },
    {
      "cell_type": "code",
      "execution_count": null,
      "metadata": {
        "id": "BAO0QgbE2Ky5"
      },
      "outputs": [],
      "source": [
        "# 문자열 사용한 for반복\n",
        "a = '파이썬'\n",
        "for i in a:   #\n",
        "    print(i)"
      ]
    },
    {
      "cell_type": "code",
      "execution_count": null,
      "metadata": {
        "id": "Ujbxf0wF14zh"
      },
      "outputs": [],
      "source": [
        "# 리스트 사용한 for반복\n",
        "a_list = [70, 60, 55, 75, 95, 90, 80, 80, 85, 100]\n",
        "hap = 0\n",
        "for i in a_list:\n",
        "    hap += i   # hap = hap + i\n",
        "\n",
        "print(f'{a_list} 안의 모든 합은: {hap}')"
      ]
    },
    {
      "cell_type": "markdown",
      "metadata": {
        "id": "QxFXPpKG1dsT"
      },
      "source": [
        "### **[미션]** : 1~N까지 짝수 제외 합계 구하기\n",
        "숫자를 입력받아 1~n까지의 합을 구할 때 짝수를 제외하고 합을 구하기"
      ]
    },
    {
      "cell_type": "code",
      "execution_count": null,
      "metadata": {
        "id": "nckj6uyB07eo"
      },
      "outputs": [],
      "source": [
        "n = int(input('합계를 구할 숫자 입력:'))\n",
        "hap = 0\n",
        "for i in range(1,n+1,2):\n",
        "    hap = hap + i\n",
        "\n",
        "print(f'1 ~ {n}까지 짝수를 제외한 합은: {hap}')"
      ]
    },
    {
      "cell_type": "markdown",
      "metadata": {
        "id": "t4ULklkH0MKe"
      },
      "source": [
        "### 3) while 반복문"
      ]
    },
    {
      "cell_type": "markdown",
      "metadata": {
        "id": "XaBzqnN808Tn"
      },
      "source": [
        "* while 반복문의 특징\n",
        "    - 특정 조건이 참이될 동안의 반복\n",
        "    - 무한 개수(번)의 반복 -> 단, 빠져나올 조건(break)이 필요"
      ]
    },
    {
      "cell_type": "code",
      "execution_count": null,
      "metadata": {
        "id": "kj2Z6IuO1Y2W"
      },
      "outputs": [],
      "source": [
        "num1, num2 = 0, 0\n",
        "while True:\n",
        "    num1 = int(input(\"더할 첫 번째 숫자: \"))\n",
        "    if num1 == 0:\n",
        "        break\n",
        "    num2 = int(input(\"더할 두 번째 숫자: \"))\n",
        "\n",
        "    print(f'{num1} + {num2} = {num1 + num2}')\n",
        "\n",
        "print(\"0이 입력되어서 반복문을 탈출했습니다.\")"
      ]
    },
    {
      "cell_type": "markdown",
      "metadata": {
        "id": "F_I6RUyD29qQ"
      },
      "source": [
        "### **[미션]** : 도둑잡기 게임 만들기\n",
        "경찰에 쫓기던 범인이 3개의 방 중에 한 곳에 숨어버렸습니다. 범인은 방문을 열 때마다 무작위로 3개의 방 중 하나의 방으로 이동합니다. 3개의 방 중 하나의 방을 선택했을 때 범인이 있다면 100점, 없을 때 -10점을 부여하고 범인을 잡으면 게임을 종료하는 프로그램을 만들어 보세요."
      ]
    },
    {
      "cell_type": "code",
      "execution_count": null,
      "metadata": {
        "id": "Og2hynkD290F"
      },
      "outputs": [],
      "source": [
        "import random\n",
        "score = 0\n",
        "\n",
        "while True:  # 무한반복\n",
        "    # 1.무작위로 범인 방 배치\n",
        "    room = random.randint(1, 3)\n",
        "\n",
        "    # 2.사용자로부터 방 번호 입력 받기\n",
        "    n = int(input('방 번호를 입력하세요(1,2,3): '))\n",
        "\n",
        "    # 3.사용자가 입력한 방 번호와 범인이 있는 방 비교\n",
        "    if n == room:               # 4.범인을 찾으면\n",
        "        print('범인 체포!')     # 범인 체포“라는 메시지 출력\n",
        "        score += 100            # 점수 증가\n",
        "        break                   # 무한반복 빠져 나가기\n",
        "\n",
        "    else:                        # 5.범인을 찾지 못하면\n",
        "        print('범인이 없습니다.' )# “범인을 찾지 못했다“라는 메시지 출력\n",
        "        score -= 10               # 점수 감소\n",
        "\n",
        "print('게임 종료!')        # 게임 종료 메시지 출력\n",
        "print(f'점수: {score} 점') # 최종 점수 출력"
      ]
    },
    {
      "cell_type": "markdown",
      "metadata": {
        "id": "vog_-hjk3I-d"
      },
      "source": [
        "### **[미션]** : 공이 튕긴 횟수 구하기\n",
        "공을 일정 높이에서 던졌을 때, 원래 높이의 1/2만큼 튀어 오른다고 합니다. 그러다가 높이가 0.00001m보다 낮으면 튀어오르지 않는다고 합니다. while문을 이용하여 이 프로그램을 만들어 보세요."
      ]
    },
    {
      "cell_type": "code",
      "execution_count": null,
      "metadata": {
        "id": "v1bfJ76E3JFn"
      },
      "outputs": [],
      "source": [
        "length = int(input('공의 높이를 입력하세요(meter) : '))\n",
        "meter, cnt = length, 0\n",
        "while True:\n",
        "    meter /= 2\n",
        "    cnt += 1\n",
        "    if meter < 0.00001:\n",
        "        break\n",
        "\n",
        "print(f'{length} 위치에서 공의 튕긴 횟수는 총 {cnt}번 입니다.')"
      ]
    },
    {
      "cell_type": "markdown",
      "metadata": {
        "id": "71WChfL94Cb_"
      },
      "source": [
        "### **[미션]** :  커피 자판기 프로그램 업그레이드\n",
        "앞에서 만들어 본 커피 자판기 머신 프로그램을 while문을 이용하여 돈을 모두 지불할 때까지 돈을 입력 받도록 프로그램 기능 수정하기"
      ]
    },
    {
      "cell_type": "code",
      "execution_count": null,
      "metadata": {
        "id": "p0GtUXCO4Cll"
      },
      "outputs": [],
      "source": [
        "menu = '''[커피 자판기 메뉴]\n",
        "-----------------------------\n",
        "- 아메리카노 2500원\n",
        "- 카페라테   3000원\n",
        "- 카푸치노   3000원\n",
        "입니다. 원하시는 커피종류와 잔수를 입력하세요.\n",
        "-----------------------------\\n'''\n",
        "\n",
        "coffee1 = int(input(menu+\"아메리카노 몇잔?: \"))\n",
        "coffee2 = int(input('카페라떼 몇잔?: '))\n",
        "coffee3 = int(input('카푸치노 몇잔?: '))\n",
        "\n",
        "total = coffee1*2500 + coffee2*3000 + coffee3*3000\n",
        "print(f'지불할 총 금액은 {totalprice} 입니다.')\n",
        "\n",
        "money, change = 0, 0\n",
        "while True:\n",
        "    print('-'*30)\n",
        "    money = int(input(f'[지불할 금액:{total}] : 돈을 넣어주세요: '))\n",
        "\n",
        "    change = money - total\n",
        "    if change < 0:\n",
        "        print(f'입력한 금액이 부족합니다. {change*-1} 원을 더 넣어주세요.')\n",
        "        total = total - money\n",
        "    else:\n",
        "        print(f'거스름돈은 {change} 원 입니다.')\n",
        "        break\n",
        "\n",
        "print('-'*30)\n",
        "print('커피 맛있게 드세요~~~')"
      ]
    },
    {
      "cell_type": "markdown",
      "metadata": {
        "id": "EZW369K4pptf"
      },
      "source": [
        "\n",
        "\n",
        "---\n",
        "\n"
      ]
    },
    {
      "cell_type": "markdown",
      "metadata": {
        "id": "7uloNB_JxiNy"
      },
      "source": [
        "### 4) 난수(Random number)\n"
      ]
    },
    {
      "cell_type": "markdown",
      "metadata": {
        "id": "EeamYd3167k0"
      },
      "source": [
        "|함수 | 설명 |\n",
        "|:---|:---|\n",
        "| randint(1, 10)  |  # 1~10 사이의 임의의 정수 1개 |\n",
        "| randrange(1, 10) | # 1~9 사이의 임의의 정수 1개 |\n",
        "| random()  |        # 0~1 사이의 균일분포의 임의의 실수 1개 |\n",
        "| shffle(순서가있는자료) |   # 순서가있는자료를 뒤섞기 |\n",
        "| choice(자료)     | # 자료 중에 임의의 데이터 1개 추출 |\n",
        "| sample(자료,개수)| # 자료 중에 중복되지 않게 개수만큼 추출 |"
      ]
    },
    {
      "cell_type": "markdown",
      "metadata": {
        "id": "3LGH92IV6Dpx"
      },
      "source": [
        "### [실습문제] : 임의의 두 수 합 구하기\n",
        "1부터 10까지의 범위를 갖는 임의의 두 정수 a, b를 더하여 결과 출력하기"
      ]
    },
    {
      "cell_type": "code",
      "execution_count": null,
      "metadata": {
        "id": "kV2ZSmio5-1O"
      },
      "outputs": [],
      "source": [
        "import random\n",
        "\n",
        "a = random.randint(1, 10)\n",
        "b = random.randint(1, 10)\n",
        "print(f'{a} + {b} = {a + b}')"
      ]
    },
    {
      "cell_type": "markdown",
      "metadata": {
        "id": "JhEnxoh86IxE"
      },
      "source": [
        "### **[미션]** : 주사위 숫자 빈도수(주사위 숫자 카운팅)\n",
        "주사위를 100번 던져서 나온 숫자를 각 숫자별로 카운트하고 가장 많이 나온 숫자와 그 숫자의 횟수를 출력하시오."
      ]
    },
    {
      "cell_type": "code",
      "execution_count": null,
      "metadata": {
        "id": "FSFZw97_6I8f"
      },
      "outputs": [],
      "source": [
        "import random\n",
        "\n",
        "dice=[0,0,0,0,0,0]\n",
        "for i in range(100):\n",
        "    x = random.randint(1,6)\n",
        "    dice[x-1] += 1\n",
        "\n",
        "print(f'숫자별 개수: {dice}')\n",
        "print(f'가장 많이 나온 주사위 숫자: {max(dice)}, 횟수: { dice.index(max(dice)) + 1}')"
      ]
    },
    {
      "cell_type": "markdown",
      "metadata": {
        "id": "Oo2eJbWR8ma8"
      },
      "source": [
        "### 5) 리스트 컴프리헨션(List Comprehension)\n",
        "- 하나 이상의 iterator(값이 순차적인 것, ex:리스트)로 부터 파이썬 자료구조를 만드는 간단한 방법\n",
        "- 반복되거나 특정 조건을 만족하는 리스트를 보다 쉽게 만들어 내기 위한 방법"
      ]
    },
    {
      "cell_type": "code",
      "execution_count": null,
      "metadata": {
        "id": "ZtkRhrgs9D99"
      },
      "outputs": [],
      "source": [
        "numList = []              # 빈리스트 정의\n",
        "for num in range(1, 6):   # 1~6 미만의 정수 [1,2,3,4,5]\n",
        "    numList.append(num)   # 리스트에 추가\n",
        "\n",
        "numList                   # 리스트 출력"
      ]
    },
    {
      "cell_type": "code",
      "execution_count": null,
      "metadata": {
        "id": "6hKFpYVU9EG2"
      },
      "outputs": [],
      "source": [
        "# 리스트 정의 + 요소 추가\n",
        "numList = [num for num in range(1, 6)]   # 한 줄로 정의\n",
        "\n",
        "numList"
      ]
    },
    {
      "cell_type": "code",
      "execution_count": null,
      "metadata": {
        "id": "pbTv5eWj9vMs"
      },
      "outputs": [],
      "source": [
        "# 리스트 정의 + 조건에 맞는 + 요소 추가\n",
        "numList = [num for num in range(1, 11) if num%2 == 0] # 1~10에서 짝수만 리스트의 값으로\n",
        "numList"
      ]
    },
    {
      "cell_type": "markdown",
      "metadata": {
        "id": "3Slx7Z12lNX8"
      },
      "source": [
        "## 1-4. 함수와 모듈, 클래스"
      ]
    },
    {
      "cell_type": "markdown",
      "metadata": {
        "id": "k-VBLQwkldkf"
      },
      "source": [
        "### 1) 함수와 모듈\n",
        "* 관계 : 함수 < 모듈 < 패키지\n",
        "* 함수 정의"
      ]
    },
    {
      "cell_type": "code",
      "execution_count": null,
      "metadata": {
        "id": "nQvz_KT18XZj"
      },
      "outputs": [],
      "source": [
        "def nSum(a, b):\n",
        "    c = a + b\n",
        "    return c\n",
        "\n",
        "nSum(50, 3)"
      ]
    },
    {
      "cell_type": "code",
      "execution_count": null,
      "metadata": {
        "id": "ehREvq1D7alZ"
      },
      "outputs": [],
      "source": [
        "# 로또번호 출력\n",
        "import random\n",
        "\n",
        "def lottoNumber():\n",
        "    lotto = random.sample(range(1,46), 6)\n",
        "    lotto.sort()\n",
        "    return lotto\n",
        "\n",
        "print(\"** 로또 추첨을 시작합니다. ** \\n\");\n",
        "print('로또번호: %s' % lottoNumber())"
      ]
    },
    {
      "cell_type": "markdown",
      "metadata": {
        "id": "TNMx296y-5F5"
      },
      "source": [
        "- 함수의 구조 : 매개변수와 리턴값에 따른 함수의 예"
      ]
    },
    {
      "cell_type": "code",
      "execution_count": null,
      "metadata": {
        "id": "OXVmXOSD-lzc"
      },
      "outputs": [],
      "source": [
        "# 매개변수(X), 리턴값(X)\n",
        "def func():\n",
        "    print('안녕하세요!')\n",
        "\n",
        "print( func() )"
      ]
    },
    {
      "cell_type": "code",
      "execution_count": null,
      "metadata": {
        "id": "kaC9P4DU_Fpl"
      },
      "outputs": [],
      "source": [
        "# 매개변수(X), 리턴값(O)\n",
        "def func():\n",
        "    print('안녕하세요!')\n",
        "    return '처리완료!'\n",
        "\n",
        "print( func() )"
      ]
    },
    {
      "cell_type": "code",
      "execution_count": null,
      "metadata": {
        "id": "dBSKa0U0_FvF"
      },
      "outputs": [],
      "source": [
        "# 매개변수(O), 리턴값(X)\n",
        "def func(a, b):\n",
        "    print('덧셈: %d + %d = %d' % (a, b, a+b))\n",
        "\n",
        "print( func(5, 7) )"
      ]
    },
    {
      "cell_type": "code",
      "execution_count": null,
      "metadata": {
        "id": "lWEOpWjZ_F18"
      },
      "outputs": [],
      "source": [
        "#  매개변수(O), 리턴값(O)\n",
        "def func(a, b):\n",
        "    print('덧셈: %d + %d = %d' % (a, b, a+b))\n",
        "    return a+b\n",
        "\n",
        "print( func(5, 7) )"
      ]
    },
    {
      "cell_type": "markdown",
      "metadata": {
        "id": "huZZPYbn_W6z"
      },
      "source": [
        "- 매개변수의 다양한 모양"
      ]
    },
    {
      "cell_type": "code",
      "execution_count": null,
      "metadata": {
        "id": "_U7CvLtk_cs3"
      },
      "outputs": [],
      "source": [
        "# 1. 매개변수 기본값을 주는 방법\n",
        "def test02(a=0, b=0, c=0):\n",
        "    print(f'test1() --> a:{a} b:{b} c:{c}')\n",
        "\n",
        "test02()\n",
        "test02(10)\n",
        "test02(10, 20)\n",
        "test02(10, 20, 30)\n",
        "test02(c=10, b=20, a=30)"
      ]
    },
    {
      "cell_type": "code",
      "execution_count": null,
      "metadata": {
        "id": "nl5amTQR_c0c"
      },
      "outputs": [],
      "source": [
        "# 2. 무제한 인자 받기 : -> tuple 로 받기\n",
        "def test03(*args):\n",
        "    print(f'args:{args}')\n",
        "    print(type(args))\n",
        "    for i in range(len(args)):\n",
        "        print(f'{i}: {args[i]}')\n",
        "\n",
        "# 개수 제한 없이 인자를 넣을 수 있다.\n",
        "test03('abc', 'def', 1, True)"
      ]
    },
    {
      "cell_type": "code",
      "execution_count": null,
      "metadata": {
        "id": "gCr_AXMW_c-5"
      },
      "outputs": [],
      "source": [
        "#  3. 일부분 무제한 받기\n",
        "def test04(a, *b):  # *b, a 순서는 안된다.\n",
        "    print(f'a:{a} b:{b}')\n",
        "\n",
        "test04(10, 20, 30, 40)  # a:10 b:(20, 30, 40)"
      ]
    },
    {
      "cell_type": "code",
      "execution_count": null,
      "metadata": {
        "id": "E4Mz5CM4_h4Z"
      },
      "outputs": [],
      "source": [
        "# 4. 무제한 인자 받기 : -> dictionary 로 받기\n",
        "def test05(**args):\n",
        "    print(f'args:{args}')\n",
        "    print(type(args))\n",
        "    for k, v in args.items():\n",
        "        print(f'key:{k}, value:{v}')\n",
        "\n",
        "test05(name=\"홍길동\", age=24, address=\"강남구\", contact=\"010-1111-2222\")"
      ]
    },
    {
      "cell_type": "markdown",
      "metadata": {
        "id": "SBWXtjuq_svQ"
      },
      "source": [
        "### **[미션]** : 암스트롱수 구하기\n",
        "다음 조건을 참고하여 암스트롱수를 구하는 함수를 만들어 출력하는 프로그램을 만들어 보세요.\n",
        "- **암스트롱수** : 세 자리의 정수 중에서 각 자리의 수를 세 제곱한 수의 합과 자신이 같은 수"
      ]
    },
    {
      "cell_type": "code",
      "execution_count": null,
      "metadata": {
        "id": "fE7CLtXv_s43"
      },
      "outputs": [],
      "source": [
        "def is_armstringNumber(N):\n",
        "    _3, _2, _1 = int(str(N)[0]), int(str(N)[1]),  int(str(N)[2])\n",
        "    if N == (_3**3 + _2**3 + _1**3):\n",
        "        return True\n",
        "    else:\n",
        "        return False\n",
        "\n",
        "for i in range(100, 1000):\n",
        "    if is_armstringNumber(i):\n",
        "        print(\"[%i] is armstrong number\" % i)"
      ]
    },
    {
      "cell_type": "markdown",
      "metadata": {
        "id": "VuLrffsIAKO9"
      },
      "source": [
        "### #전역변수, 지역변수"
      ]
    },
    {
      "cell_type": "code",
      "execution_count": null,
      "metadata": {
        "id": "bZoGSRWcALBX"
      },
      "outputs": [],
      "source": [
        "a = 10  # 전역변수\n",
        "def test1():\n",
        "    a = 20  # 동명의 지역변수가 생성된다.\n",
        "    print(f'a:{a}')\n",
        "\n",
        "test1()  # a:20\n",
        "print(f'a:{a}')  # a:10  (전역변수 a에 영향이 없다.)"
      ]
    },
    {
      "cell_type": "code",
      "execution_count": null,
      "metadata": {
        "id": "GFWBKfBmAfmW"
      },
      "outputs": [],
      "source": [
        "def test2():\n",
        "    global a  # 전역변수 a를 사용하겠다.\n",
        "    a = 20  # 전역변수를 그대로 사용한다.\n",
        "    print(f'a:{a}')\n",
        "\n",
        "\n",
        "test2()  # a:20\n",
        "print(f'a:{a}')  # a:20  (전역변수 a의 값이 test2()에 의해 변경되었다.)"
      ]
    },
    {
      "cell_type": "markdown",
      "metadata": {
        "id": "tFIaoztVALcE"
      },
      "source": [
        "### #lambda() 함수\n",
        "한 줄로 간단하게 만들어 주는 함수"
      ]
    },
    {
      "cell_type": "code",
      "execution_count": null,
      "metadata": {
        "id": "bY_p9NtyALqY"
      },
      "outputs": [],
      "source": [
        "# 일반 함수\n",
        "def hap(num1, num2):\n",
        "    res = num1 + num2\n",
        "    return res\n",
        "print(hap(10,20))\n",
        "\n",
        "\n",
        "# lambda 함수\n",
        "hap = lambda num1, num2: num1+num2\n",
        "print(hap(10,20))"
      ]
    },
    {
      "cell_type": "markdown",
      "metadata": {
        "id": "SRkt_QUtALyn"
      },
      "source": [
        "### #map() 함수\n",
        " - 함수와 자료형(string, list, tuple)을 인자로 갖는 내장 함수\n",
        " - 첫 번째 인자는 함수명, 두 번째 인자는 순서가 있는 자료형"
      ]
    },
    {
      "cell_type": "code",
      "execution_count": null,
      "metadata": {
        "id": "iGACxe5jAwxA"
      },
      "outputs": [],
      "source": [
        "# 리스트에 모두 10을 더하는 코드\n",
        "myList = [1,2,3,4,5]\n",
        "myList = [num+10 for num in myList]"
      ]
    },
    {
      "cell_type": "code",
      "execution_count": null,
      "metadata": {
        "id": "8zPTIUeXAL6H"
      },
      "outputs": [],
      "source": [
        "myList = [1,2,3,4,5]\n",
        "\n",
        "def add10(num):\n",
        "    return num+10\n",
        "\n",
        "for index, value in enumerate(myList):\n",
        "    myList[index] = add10(value)\n",
        "\n",
        "print(myList)"
      ]
    },
    {
      "cell_type": "code",
      "execution_count": null,
      "metadata": {
        "id": "laQ-sfjIBA_L"
      },
      "outputs": [],
      "source": [
        "# 최종\n",
        "myList = [1,2,3,4,5]\n",
        "myList = list(map(lambda num:num+10, myList))"
      ]
    },
    {
      "cell_type": "markdown",
      "metadata": {
        "id": "41N9l46PBZXJ"
      },
      "source": [
        "### [실습문제] : lambda + map 사용하기\n",
        "리스트에서 3의 배수를 문자열로 변환하는 프로그램을 lambda와 map을 이용하여 만들어 보세요."
      ]
    },
    {
      "cell_type": "code",
      "execution_count": null,
      "metadata": {
        "id": "Ssct8ptKBZhk"
      },
      "outputs": [],
      "source": [
        "myList = [1, 2, 3, 4, 5, 6, 7, 8, 9, 10]\n",
        "multiple3 = lambda x: str(x) if x % 3 == 0 else x\n",
        "myList = list(map(multiple3, myList))\n",
        "myList"
      ]
    },
    {
      "cell_type": "markdown",
      "metadata": {
        "id": "NPXAxebsBwRW"
      },
      "source": [
        "2개의 리스트에서 동일한 인덱스의 숫자를 곱한 값을 리스트로 출력하는프로그램을 lambda와 map을 이용하여 만들어 보세요.\n",
        "\n",
        "- myList1 = [1, 2, 3, 4, 5]\n",
        "- myList2 = [2, 4, 6, 8, 10]"
      ]
    },
    {
      "cell_type": "code",
      "execution_count": null,
      "metadata": {
        "id": "DzaB2guoBl6F"
      },
      "outputs": [],
      "source": [
        "myList1 = [1, 2, 3, 4, 5]\n",
        "myList2 = [2, 4, 6, 8, 10]\n",
        "multiply = lambda x, y: x*y\n",
        "myList = list(map(multiply, myList1, myList2))\n",
        "myList"
      ]
    },
    {
      "cell_type": "markdown",
      "metadata": {
        "id": "06P3Y5T5ClB6"
      },
      "source": [
        "### 2) 클래스"
      ]
    },
    {
      "cell_type": "markdown",
      "metadata": {
        "id": "ua8uO0qlCldV"
      },
      "source": [
        "#### 1.클래스 정의하기"
      ]
    },
    {
      "cell_type": "code",
      "execution_count": null,
      "metadata": {
        "id": "KEkZL-sHCsnx"
      },
      "outputs": [],
      "source": [
        "class Car :\n",
        "    color = \"\"\n",
        "    speed = 0\n",
        "\n",
        "    def upSpeed(self, value) :\n",
        "        self.speed += value\n",
        "\n",
        "    def downSpeed(self, value) :\n",
        "        self.speed -= value\n",
        "\n",
        "    def printMessage() :\n",
        "        print(\"시험 출력입니다.\")"
      ]
    },
    {
      "cell_type": "markdown",
      "metadata": {
        "id": "_M8neVL5Csxn"
      },
      "source": [
        "#### 2.인스턴스 생성 및 작동 구현"
      ]
    },
    {
      "cell_type": "code",
      "execution_count": null,
      "metadata": {
        "id": "9JRJlAJSCs7P"
      },
      "outputs": [],
      "source": [
        "## 클래스 선언 부분 ##\n",
        "class Car :\n",
        "    color = \"\"\n",
        "    speed = 0\n",
        "\n",
        "    def upSpeed(self, value) :\n",
        "        self.speed += value\n",
        "\n",
        "    def downSpeed(self, value) :\n",
        "        self.speed -= value\n",
        "\n",
        "    def printMessage() :\n",
        "        print(\"시험 출력입니다.\")\n",
        "\n",
        "## 메인 코드 부분 ##\n",
        "myCar1 = Car()\n",
        "myCar1.color = \"빨강\"\n",
        "myCar1.speed = 0\n",
        "\n",
        "myCar2 = Car()\n",
        "myCar2.color = \"파랑\"\n",
        "myCar2.speed = 0\n",
        "\n",
        "myCar3 = Car()\n",
        "myCar3.color = \"노랑\"\n",
        "myCar3.speed = 0\n",
        "\n",
        "myCar1.upSpeed(30)\n",
        "print(\"자동차1의 색상은 %s이며, 현재 속도는 %dkm 입니다.\" % (myCar1.color, myCar1.speed))\n",
        "\n",
        "myCar2.upSpeed(60)\n",
        "print(\"자동차1의 색상은 %s이며, 현재 속도는 %dkm 입니다.\" % (myCar2.color, myCar2.speed))\n",
        "\n",
        "myCar3.upSpeed(0)\n",
        "print(\"자동차1의 색상은 %s이며, 현재 속도는 %dkm 입니다.\" % (myCar3.color, myCar3.speed))"
      ]
    },
    {
      "cell_type": "markdown",
      "metadata": {
        "id": "glBcaR7yC01R"
      },
      "source": [
        "#### 3.클래스 생성자 정의\n",
        "- __init__"
      ]
    },
    {
      "cell_type": "code",
      "execution_count": null,
      "metadata": {
        "id": "gGUvOsAMC09g"
      },
      "outputs": [],
      "source": [
        "## 클래스 선언 부분 ##\n",
        "class Car :\n",
        "    color = \"\"\n",
        "    name = \"\"\n",
        "    speed = 0\n",
        "\n",
        "    def __init__(self, color, name, speed) :\n",
        "        self.color = color\n",
        "        self.name = name\n",
        "        self.speed = speed\n",
        "\n",
        "    def getColor(self) :\n",
        "        return self.color\n",
        "\n",
        "    def getName(self) :\n",
        "        return self.name\n",
        "\n",
        "    def getSpeed(self) :\n",
        "        return self.speed\n",
        "\n",
        "## 변수 선언 부분 ##\n",
        "car1, car2 = None, None\n",
        "\n",
        "## 메인 코드 부분 ##\n",
        "car1 = Car(\"흰색\", \"아우디\", 0 )\n",
        "car2 = Car(\"검정색\", \"벤츠\", 30)\n",
        "\n",
        "print(\"%s %s의 현재 속도는 %d 입니다.\" % (car1.getColor(), car1.getName(), car1.getSpeed()))\n",
        "print(\"%s %s의 현재 속도는 %d 입니다.\" % (car2.getColor(), car2.getName(), car2.getSpeed()))"
      ]
    },
    {
      "cell_type": "markdown",
      "metadata": {
        "id": "iiMXXEqLC1Fi"
      },
      "source": [
        "- 클래스의 특별한 메서드"
      ]
    },
    {
      "cell_type": "code",
      "execution_count": null,
      "metadata": {
        "id": "BEmYa_yTC1Nk"
      },
      "outputs": [],
      "source": [
        "class Line :\n",
        "    length = 0\n",
        "    def __init__(self, length):\n",
        "        self.length = length\n",
        "        print(self.length, '길이의 선이 생성되었습니다')\n",
        "\n",
        "    def __del__(self):\n",
        "        print(self.length, '길이의 선이 삭제되었습니다')\n",
        "\n",
        "    def __repr__(self):\n",
        "        return '선의 길이 : ' + str(self.length)\n",
        "\n",
        "    def __add__(self, other):\n",
        "        return self.length + other.length\n",
        "\n",
        "    def __lt__(self, other):\n",
        "        return self.length < other.length\n",
        "\n",
        "    def __eq__(self, other):\n",
        "        return self.length == other.length\n",
        "\n",
        "## 메인 코드 부분 ##\n",
        "myLine1 = Line(100)\n",
        "myLine2 = Line(200)\n",
        "print(myLine1)\n",
        "\n",
        "print('두 선의 길이 합 : ', myLine1+myLine2)\n",
        "\n",
        "if myLine1 < myLine2 :\n",
        "    print('선분 2가 더 기네요')\n",
        "elif myLine1 == myLine2 :\n",
        "    print('두선분이 같네요')\n",
        "else :\n",
        "    print('모르겠네요.')\n",
        "\n",
        "del(myLine1)"
      ]
    },
    {
      "cell_type": "markdown",
      "metadata": {
        "id": "7WYWGkG3Do_d"
      },
      "source": [
        "#### 4.클래스 상속 (Inheritance)\n",
        "- 메서드 오버라이딩"
      ]
    },
    {
      "cell_type": "code",
      "execution_count": null,
      "metadata": {
        "id": "T_TBlBpcDpI-"
      },
      "outputs": [],
      "source": [
        "## 클래스 선언 부분 ##\n",
        "class Car :\n",
        "    speed = 0\n",
        "\n",
        "    def upSpeed(self, value) :\n",
        "        self.speed += value\n",
        "\n",
        "        print(\"현재 속도(슈퍼 클래스) : %d\" % self.speed)\n",
        "\n",
        "class Sedan(Car) :\n",
        "    def upSpeed(self, value) :\n",
        "        self.speed += value\n",
        "\n",
        "        if self.speed > 150 :\n",
        "            self.speed = 150\n",
        "\n",
        "        print(\"현재 속도(서브 클래스) : %d\" % self.speed)\n",
        "\n",
        "class Truck(Car) :\n",
        "    pass\n",
        "\n",
        "\n",
        "## 변수 선언 부분 ##\n",
        "sedan1, truck1 = None, None\n",
        "\n",
        "## 메인 코드 부분 ##\n",
        "truck1 = Truck()\n",
        "sedan1 = Sedan()\n",
        "\n",
        "print(\"트럭 -->\",  end=\"\")\n",
        "truck1.upSpeed(200)\n",
        "\n",
        "print(\"승용차 -->\",  end=\"\")\n",
        "sedan1.upSpeed(200)"
      ]
    },
    {
      "cell_type": "markdown",
      "metadata": {
        "id": "Aw9F6q1YEGgC"
      },
      "source": [
        "### **[미션]** : 온라인 장바구니 클래스로 구현하기"
      ]
    },
    {
      "cell_type": "code",
      "execution_count": null,
      "metadata": {
        "id": "RdISOWD4EGtB"
      },
      "outputs": [],
      "source": [
        "# 온라인 장바구니 구현\n",
        "class Basket:\n",
        "\n",
        "    def __init__(self,id):\n",
        "        self.id = id       #인스턴스ID\n",
        "        self.items = []    #장바구니 물품명\n",
        "        self.prices = []   #장바구니 물품가격\n",
        "        self.quantity = [] #장바구니 물픔수량\n",
        "        self.total = 0     #장바구니 전체가격\n",
        "        self.itemcnt = 0   #장바구니 전체수량\n",
        "\n",
        "    #장바구니에 추가\n",
        "    def add(self, item, price, qty):\n",
        "        self.items.append(item)\n",
        "        self.prices.append(price)\n",
        "        self.quantity.append(qty)\n",
        "        self.total += price * qty\n",
        "        self.itemcnt += 1\n",
        "\n",
        "    #장바구니에서 삭제\n",
        "    def delete(self, item, qty):\n",
        "        for i in range(self.itemcnt):\n",
        "            if item == self.items[i]:\n",
        "                self.quantity[i] -= qty\n",
        "                self.total -= self.prices[i] * qty\n",
        "                if self.quantity[i] == 0:\n",
        "                    self.itemcnt -=1\n",
        "                    del self.items[i]\n",
        "                    del self.quantity[i]\n",
        "                    del self.prices[i]\n",
        "                break\n",
        "\n",
        "    #장바구니에 물건 출력\n",
        "    def printitems(self):\n",
        "        print(f'#{self.id}의 장바구니\\n--------------')\n",
        "        for i in range(self.itemcnt):\n",
        "            print('*',self.items[i], self.prices[i], self.quantity[i])\n",
        "        print(\"** 전체가격 =\", self.total, \", 전체수량 =\", self.itemcnt)\n",
        "        print('-'*30)\n",
        "\n",
        "basket1 = Basket(\"제인\")\n",
        "basket2 = Basket(\"대원\")\n",
        "\n",
        "basket1.add(\"바나나\", 3000,2)\n",
        "basket1.add(\"우유\", 2500, 2)\n",
        "basket1.add(\"라면\", 4000, 1)\n",
        "basket2.add(\"라면\", 4000, 2)\n",
        "basket1.delete(\"우유\", 1)\n",
        "\n",
        "basket1.printitems()\n",
        "basket2.printitems()"
      ]
    },
    {
      "cell_type": "markdown",
      "metadata": {
        "id": "4iqpCiPDprJt"
      },
      "source": [
        "\n",
        "\n",
        "---\n",
        "\n"
      ]
    },
    {
      "cell_type": "markdown",
      "metadata": {
        "id": "w0oNDNnbpsZn"
      },
      "source": [
        "**THE END**"
      ]
    }
  ],
  "metadata": {
    "colab": {
      "provenance": [],
      "toc_visible": true
    },
    "kernelspec": {
      "display_name": "Python 3 (ipykernel)",
      "language": "python",
      "name": "python3"
    },
    "language_info": {
      "codemirror_mode": {
        "name": "ipython",
        "version": 3
      },
      "file_extension": ".py",
      "mimetype": "text/x-python",
      "name": "python",
      "nbconvert_exporter": "python",
      "pygments_lexer": "ipython3",
      "version": "3.10.9"
    }
  },
  "nbformat": 4,
  "nbformat_minor": 0
}
